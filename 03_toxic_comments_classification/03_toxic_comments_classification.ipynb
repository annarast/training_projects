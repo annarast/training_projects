{
 "cells": [
  {
   "cell_type": "markdown",
   "id": "08dafb76",
   "metadata": {
    "toc": true
   },
   "source": [
    "<h1>Table of Contents<span class=\"tocSkip\"></span></h1>\n",
    "<div class=\"toc\"><ul class=\"toc-item\"><li><span><a href=\"#Обзор-данных\" data-toc-modified-id=\"Обзор-данных-1\"><span class=\"toc-item-num\">1&nbsp;&nbsp;</span>Обзор данных</a></span></li><li><span><a href=\"#Подготовка-данных\" data-toc-modified-id=\"Подготовка-данных-2\"><span class=\"toc-item-num\">2&nbsp;&nbsp;</span>Подготовка данных</a></span><ul class=\"toc-item\"><li><span><a href=\"#TF-IDF\" data-toc-modified-id=\"TF-IDF-2.1\"><span class=\"toc-item-num\">2.1&nbsp;&nbsp;</span>TF IDF</a></span></li><li><span><a href=\"#BERT\" data-toc-modified-id=\"BERT-2.2\"><span class=\"toc-item-num\">2.2&nbsp;&nbsp;</span>BERT</a></span></li></ul></li><li><span><a href=\"#Обучение-моделей\" data-toc-modified-id=\"Обучение-моделей-3\"><span class=\"toc-item-num\">3&nbsp;&nbsp;</span>Обучение моделей</a></span><ul class=\"toc-item\"><li><span><a href=\"#Константная-модель\" data-toc-modified-id=\"Константная-модель-3.1\"><span class=\"toc-item-num\">3.1&nbsp;&nbsp;</span>Константная модель</a></span></li><li><span><a href=\"#Логистическая-регрессия\" data-toc-modified-id=\"Логистическая-регрессия-3.2\"><span class=\"toc-item-num\">3.2&nbsp;&nbsp;</span>Логистическая регрессия</a></span></li><li><span><a href=\"#Случайный-лес\" data-toc-modified-id=\"Случайный-лес-3.3\"><span class=\"toc-item-num\">3.3&nbsp;&nbsp;</span>Случайный лес</a></span></li><li><span><a href=\"#Light-GBM\" data-toc-modified-id=\"Light-GBM-3.4\"><span class=\"toc-item-num\">3.4&nbsp;&nbsp;</span>Light GBM</a></span></li><li><span><a href=\"#XGBoost\" data-toc-modified-id=\"XGBoost-3.5\"><span class=\"toc-item-num\">3.5&nbsp;&nbsp;</span>XGBoost</a></span></li><li><span><a href=\"#CatBoost\" data-toc-modified-id=\"CatBoost-3.6\"><span class=\"toc-item-num\">3.6&nbsp;&nbsp;</span>CatBoost</a></span></li><li><span><a href=\"#Анализ-результатов\" data-toc-modified-id=\"Анализ-результатов-3.7\"><span class=\"toc-item-num\">3.7&nbsp;&nbsp;</span>Анализ результатов</a></span></li></ul></li><li><span><a href=\"#Тестирование-лучшей-модели\" data-toc-modified-id=\"Тестирование-лучшей-модели-4\"><span class=\"toc-item-num\">4&nbsp;&nbsp;</span>Тестирование лучшей модели</a></span></li><li><span><a href=\"#Общий-вывод\" data-toc-modified-id=\"Общий-вывод-5\"><span class=\"toc-item-num\">5&nbsp;&nbsp;</span>Общий вывод</a></span></li></ul></div>"
   ]
  },
  {
   "cell_type": "markdown",
   "id": "3b5474e4",
   "metadata": {},
   "source": [
    "# Определение токсичных комментариев"
   ]
  },
  {
   "cell_type": "markdown",
   "id": "fc5236bc",
   "metadata": {},
   "source": [
    "## Обзор данных"
   ]
  },
  {
   "cell_type": "code",
   "execution_count": 3,
   "id": "bc8c70d2",
   "metadata": {},
   "outputs": [
    {
     "name": "stdout",
     "output_type": "stream",
     "text": [
      "Collecting langdetect\n",
      "  Downloading langdetect-1.0.9.tar.gz (981 kB)\n",
      "\u001b[K     |████████████████████████████████| 981 kB 1.3 MB/s eta 0:00:01\n",
      "\u001b[?25hRequirement already satisfied: six in /opt/conda/lib/python3.9/site-packages (from langdetect) (1.16.0)\n",
      "Building wheels for collected packages: langdetect\n",
      "  Building wheel for langdetect (setup.py) ... \u001b[?25ldone\n",
      "\u001b[?25h  Created wheel for langdetect: filename=langdetect-1.0.9-py3-none-any.whl size=993221 sha256=a65318edb01f0d3e3412d313c5c862aef816b80b440ef5e33d1a7e606b1a13f9\n",
      "  Stored in directory: /home/jovyan/.cache/pip/wheels/d1/c1/d9/7e068de779d863bc8f8fc9467d85e25cfe47fa5051fff1a1bb\n",
      "Successfully built langdetect\n",
      "Installing collected packages: langdetect\n",
      "Successfully installed langdetect-1.0.9\n"
     ]
    }
   ],
   "source": [
    "#при необходимости\n",
    "!pip install langdetect"
   ]
  },
  {
   "cell_type": "code",
   "execution_count": null,
   "id": "7225be47",
   "metadata": {},
   "outputs": [
    {
     "name": "stdout",
     "output_type": "stream",
     "text": [
      "Collecting pytorch-pretrained-bert\r\n"
     ]
    }
   ],
   "source": [
    "#при необходимости\n",
    "!pip install pytorch-pretrained-bert pytorch-nlp"
   ]
  },
  {
   "cell_type": "code",
   "execution_count": 7,
   "id": "0dc34c4f",
   "metadata": {},
   "outputs": [],
   "source": [
    "#импортируем необходимые библиотеки\n",
    "import pandas as pd\n",
    "pd.set_option('display.float_format', '{:,.3f}'.format) #настройка, чтобы числа показывались с 3мя знаками после запятой и разделителем разрядов\n",
    "pd.set_option('display.max_columns', None)\n",
    "pd.set_option('display.max_rows', None)\n",
    "pd.options.mode.chained_assignment = None\n",
    "import matplotlib.pyplot as plt\n",
    "import seaborn as sns\n",
    "import numpy as np\n",
    "import re\n",
    "from sklearn.model_selection import train_test_split\n",
    "\n",
    "from numpy.random import RandomState\n",
    "from scipy import stats as st\n",
    "from sklearn.model_selection import cross_val_score\n",
    "from sklearn.linear_model import LogisticRegression\n",
    "from sklearn.tree import DecisionTreeClassifier\n",
    "from sklearn.ensemble import RandomForestClassifier\n",
    "from sklearn.model_selection import KFold\n",
    "import lightgbm as lgb\n",
    "import warnings\n",
    "warnings.simplefilter('ignore')\n",
    "\n",
    "from sklearn.preprocessing import StandardScaler\n",
    "from sklearn.model_selection import GridSearchCV\n",
    "from sklearn.model_selection import RandomizedSearchCV\n",
    "from sklearn.utils import shuffle\n",
    "from sklearn.metrics import f1_score \n",
    "\n",
    "from langdetect import detect\n",
    "\n",
    "import spacy\n",
    "import re\n",
    "from sklearn.feature_extraction.text import CountVectorizer\n",
    "from sklearn.feature_extraction.text import TfidfVectorizer\n",
    "from nltk.corpus import stopwords\n",
    "import nltk\n",
    "nltk.download('stopwords ')\n",
    "\n",
    "import transformers\n",
    "from transformers import BertTokenizer, BertModel, BertForMaskedLM\n",
    "import torch\n",
    "from torch.utils.data import TensorDataset, DataLoader, RandomSampler, SequentialSampler\n",
    "from keras_preprocessing.sequence import pad_sequences\n",
    "from sklearn.model_selection import train_test_split\n",
    "from pytorch_pretrained_bert import BertTokenizer, BertConfig, BertModel\n",
    "from pytorch_pretrained_bert import BertAdam, BertForSequenceClassification, BertForTokenClassification\n",
    "from tqdm import tqdm, trange, notebook\n",
    "\n",
    "import io\n",
    "\n",
    "import xgboost as xgb\n",
    "from catboost import CatBoostClassifier\n",
    "\n"
   ]
  },
  {
   "cell_type": "code",
   "execution_count": 23,
   "id": "3617733f",
   "metadata": {},
   "outputs": [
    {
     "name": "stdout",
     "output_type": "stream",
     "text": [
      "Collecting en-core-web-sm==3.4.0\n",
      "  Downloading https://github.com/explosion/spacy-models/releases/download/en_core_web_sm-3.4.0/en_core_web_sm-3.4.0-py3-none-any.whl (12.8 MB)\n",
      "Requirement already satisfied: spacy<3.5.0,>=3.4.0 in c:\\users\\hmstr\\anaconda3\\lib\\site-packages (from en-core-web-sm==3.4.0) (3.4.0)\n",
      "Requirement already satisfied: preshed<3.1.0,>=3.0.2 in c:\\users\\hmstr\\anaconda3\\lib\\site-packages (from spacy<3.5.0,>=3.4.0->en-core-web-sm==3.4.0) (3.0.6)\n",
      "Requirement already satisfied: pydantic!=1.8,!=1.8.1,<1.10.0,>=1.7.4 in c:\\users\\hmstr\\anaconda3\\lib\\site-packages (from spacy<3.5.0,>=3.4.0->en-core-web-sm==3.4.0) (1.9.0)\n",
      "Requirement already satisfied: murmurhash<1.1.0,>=0.28.0 in c:\\users\\hmstr\\anaconda3\\lib\\site-packages (from spacy<3.5.0,>=3.4.0->en-core-web-sm==3.4.0) (1.0.7)\n",
      "Requirement already satisfied: packaging>=20.0 in c:\\users\\hmstr\\anaconda3\\lib\\site-packages (from spacy<3.5.0,>=3.4.0->en-core-web-sm==3.4.0) (21.0)\n",
      "Requirement already satisfied: setuptools in c:\\users\\hmstr\\anaconda3\\lib\\site-packages (from spacy<3.5.0,>=3.4.0->en-core-web-sm==3.4.0) (58.0.4)\n",
      "Requirement already satisfied: spacy-loggers<2.0.0,>=1.0.0 in c:\\users\\hmstr\\anaconda3\\lib\\site-packages (from spacy<3.5.0,>=3.4.0->en-core-web-sm==3.4.0) (1.0.3)\n",
      "Requirement already satisfied: spacy-legacy<3.1.0,>=3.0.9 in c:\\users\\hmstr\\anaconda3\\lib\\site-packages (from spacy<3.5.0,>=3.4.0->en-core-web-sm==3.4.0) (3.0.9)\n",
      "Requirement already satisfied: catalogue<2.1.0,>=2.0.6 in c:\\users\\hmstr\\anaconda3\\lib\\site-packages (from spacy<3.5.0,>=3.4.0->en-core-web-sm==3.4.0) (2.0.7)\n",
      "Requirement already satisfied: langcodes<4.0.0,>=3.2.0 in c:\\users\\hmstr\\anaconda3\\lib\\site-packages (from spacy<3.5.0,>=3.4.0->en-core-web-sm==3.4.0) (3.3.0)\n",
      "Requirement already satisfied: typer<0.5.0,>=0.3.0 in c:\\users\\hmstr\\anaconda3\\lib\\site-packages (from spacy<3.5.0,>=3.4.0->en-core-web-sm==3.4.0) (0.4.2)\n",
      "Requirement already satisfied: cymem<2.1.0,>=2.0.2 in c:\\users\\hmstr\\anaconda3\\lib\\site-packages (from spacy<3.5.0,>=3.4.0->en-core-web-sm==3.4.0) (2.0.6)\n",
      "Requirement already satisfied: requests<3.0.0,>=2.13.0 in c:\\users\\hmstr\\anaconda3\\lib\\site-packages (from spacy<3.5.0,>=3.4.0->en-core-web-sm==3.4.0) (2.26.0)\n",
      "Requirement already satisfied: wasabi<1.1.0,>=0.9.1 in c:\\users\\hmstr\\anaconda3\\lib\\site-packages (from spacy<3.5.0,>=3.4.0->en-core-web-sm==3.4.0) (0.9.1)\n",
      "Requirement already satisfied: tqdm<5.0.0,>=4.38.0 in c:\\users\\hmstr\\anaconda3\\lib\\site-packages (from spacy<3.5.0,>=3.4.0->en-core-web-sm==3.4.0) (4.62.3)\n",
      "Requirement already satisfied: numpy>=1.15.0 in c:\\users\\hmstr\\anaconda3\\lib\\site-packages (from spacy<3.5.0,>=3.4.0->en-core-web-sm==3.4.0) (1.22.3)\n",
      "Requirement already satisfied: jinja2 in c:\\users\\hmstr\\anaconda3\\lib\\site-packages (from spacy<3.5.0,>=3.4.0->en-core-web-sm==3.4.0) (2.11.3)\n",
      "Requirement already satisfied: thinc<8.2.0,>=8.1.0 in c:\\users\\hmstr\\anaconda3\\lib\\site-packages (from spacy<3.5.0,>=3.4.0->en-core-web-sm==3.4.0) (8.1.0)\n",
      "Requirement already satisfied: pathy>=0.3.5 in c:\\users\\hmstr\\anaconda3\\lib\\site-packages (from spacy<3.5.0,>=3.4.0->en-core-web-sm==3.4.0) (0.6.2)\n",
      "Requirement already satisfied: srsly<3.0.0,>=2.4.3 in c:\\users\\hmstr\\anaconda3\\lib\\site-packages (from spacy<3.5.0,>=3.4.0->en-core-web-sm==3.4.0) (2.4.4)\n",
      "Requirement already satisfied: pyparsing>=2.0.2 in c:\\users\\hmstr\\anaconda3\\lib\\site-packages (from packaging>=20.0->spacy<3.5.0,>=3.4.0->en-core-web-sm==3.4.0) (3.0.4)\n",
      "Requirement already satisfied: smart-open<6.0.0,>=5.2.1 in c:\\users\\hmstr\\anaconda3\\lib\\site-packages (from pathy>=0.3.5->spacy<3.5.0,>=3.4.0->en-core-web-sm==3.4.0) (5.2.1)\n",
      "Requirement already satisfied: typing-extensions>=3.7.4.3 in c:\\users\\hmstr\\anaconda3\\lib\\site-packages (from pydantic!=1.8,!=1.8.1,<1.10.0,>=1.7.4->spacy<3.5.0,>=3.4.0->en-core-web-sm==3.4.0) (3.10.0.2)\n",
      "Requirement already satisfied: charset-normalizer~=2.0.0 in c:\\users\\hmstr\\anaconda3\\lib\\site-packages (from requests<3.0.0,>=2.13.0->spacy<3.5.0,>=3.4.0->en-core-web-sm==3.4.0) (2.0.4)\n",
      "Requirement already satisfied: urllib3<1.27,>=1.21.1 in c:\\users\\hmstr\\anaconda3\\lib\\site-packages (from requests<3.0.0,>=2.13.0->spacy<3.5.0,>=3.4.0->en-core-web-sm==3.4.0) (1.26.7)\n",
      "Requirement already satisfied: certifi>=2017.4.17 in c:\\users\\hmstr\\anaconda3\\lib\\site-packages (from requests<3.0.0,>=2.13.0->spacy<3.5.0,>=3.4.0->en-core-web-sm==3.4.0) (2021.10.8)\n",
      "Requirement already satisfied: idna<4,>=2.5 in c:\\users\\hmstr\\anaconda3\\lib\\site-packages (from requests<3.0.0,>=2.13.0->spacy<3.5.0,>=3.4.0->en-core-web-sm==3.4.0) (3.2)\n",
      "Requirement already satisfied: blis<0.8.0,>=0.7.8 in c:\\users\\hmstr\\anaconda3\\lib\\site-packages (from thinc<8.2.0,>=8.1.0->spacy<3.5.0,>=3.4.0->en-core-web-sm==3.4.0) (0.7.8)\n",
      "Requirement already satisfied: colorama in c:\\users\\hmstr\\anaconda3\\lib\\site-packages (from tqdm<5.0.0,>=4.38.0->spacy<3.5.0,>=3.4.0->en-core-web-sm==3.4.0) (0.4.4)\n",
      "Requirement already satisfied: click<9.0.0,>=7.1.1 in c:\\users\\hmstr\\anaconda3\\lib\\site-packages (from typer<0.5.0,>=0.3.0->spacy<3.5.0,>=3.4.0->en-core-web-sm==3.4.0) (8.0.3)\n",
      "Requirement already satisfied: MarkupSafe>=0.23 in c:\\users\\hmstr\\anaconda3\\lib\\site-packages (from jinja2->spacy<3.5.0,>=3.4.0->en-core-web-sm==3.4.0) (2.0.1)\n",
      "Installing collected packages: en-core-web-sm\n",
      "Successfully installed en-core-web-sm-3.4.0\n",
      "[!] As of spaCy v3.0, shortcuts like 'en' are deprecated. Please use the full\n",
      "pipeline package name 'en_core_web_sm' instead.\n",
      "[+] Download and installation successful\n",
      "You can now load the package via spacy.load('en_core_web_sm')\n"
     ]
    },
    {
     "name": "stderr",
     "output_type": "stream",
     "text": [
      "2022-07-24 00:11:58.825395: W tensorflow/stream_executor/platform/default/dso_loader.cc:64] Could not load dynamic library 'cudart64_110.dll'; dlerror: cudart64_110.dll not found\n",
      "2022-07-24 00:11:58.825678: I tensorflow/stream_executor/cuda/cudart_stub.cc:29] Ignore above cudart dlerror if you do not have a GPU set up on your machine.\n",
      "2022-07-24 00:12:06.714684: W tensorflow/stream_executor/platform/default/dso_loader.cc:64] Could not load dynamic library 'nvcuda.dll'; dlerror: nvcuda.dll not found\n",
      "2022-07-24 00:12:06.714736: W tensorflow/stream_executor/cuda/cuda_driver.cc:269] failed call to cuInit: UNKNOWN ERROR (303)\n",
      "2022-07-24 00:12:06.718478: I tensorflow/stream_executor/cuda/cuda_diagnostics.cc:169] retrieving CUDA diagnostic information for host: DESKTOP-9U6FB7H\n",
      "2022-07-24 00:12:06.718632: I tensorflow/stream_executor/cuda/cuda_diagnostics.cc:176] hostname: DESKTOP-9U6FB7H\n"
     ]
    },
    {
     "name": "stdout",
     "output_type": "stream",
     "text": [
      "Requirement already satisfied: spacy in c:\\users\\hmstr\\anaconda3\\lib\\site-packages (3.4.0)\n",
      "Requirement already satisfied: spacy-loggers<2.0.0,>=1.0.0 in c:\\users\\hmstr\\anaconda3\\lib\\site-packages (from spacy) (1.0.3)\n",
      "Requirement already satisfied: requests<3.0.0,>=2.13.0 in c:\\users\\hmstr\\anaconda3\\lib\\site-packages (from spacy) (2.26.0)\n",
      "Requirement already satisfied: numpy>=1.15.0 in c:\\users\\hmstr\\anaconda3\\lib\\site-packages (from spacy) (1.22.3)\n",
      "Requirement already satisfied: pydantic!=1.8,!=1.8.1,<1.10.0,>=1.7.4 in c:\\users\\hmstr\\anaconda3\\lib\\site-packages (from spacy) (1.9.0)\n",
      "Requirement already satisfied: setuptools in c:\\users\\hmstr\\anaconda3\\lib\\site-packages (from spacy) (58.0.4)\n",
      "Requirement already satisfied: tqdm<5.0.0,>=4.38.0 in c:\\users\\hmstr\\anaconda3\\lib\\site-packages (from spacy) (4.62.3)\n",
      "Requirement already satisfied: wasabi<1.1.0,>=0.9.1 in c:\\users\\hmstr\\anaconda3\\lib\\site-packages (from spacy) (0.9.1)\n",
      "Requirement already satisfied: langcodes<4.0.0,>=3.2.0 in c:\\users\\hmstr\\anaconda3\\lib\\site-packages (from spacy) (3.3.0)\n",
      "Requirement already satisfied: cymem<2.1.0,>=2.0.2 in c:\\users\\hmstr\\anaconda3\\lib\\site-packages (from spacy) (2.0.6)\n",
      "Requirement already satisfied: pathy>=0.3.5 in c:\\users\\hmstr\\anaconda3\\lib\\site-packages (from spacy) (0.6.2)\n",
      "Requirement already satisfied: packaging>=20.0 in c:\\users\\hmstr\\anaconda3\\lib\\site-packages (from spacy) (21.0)\n",
      "Requirement already satisfied: catalogue<2.1.0,>=2.0.6 in c:\\users\\hmstr\\anaconda3\\lib\\site-packages (from spacy) (2.0.7)\n",
      "Requirement already satisfied: spacy-legacy<3.1.0,>=3.0.9 in c:\\users\\hmstr\\anaconda3\\lib\\site-packages (from spacy) (3.0.9)\n",
      "Requirement already satisfied: typer<0.5.0,>=0.3.0 in c:\\users\\hmstr\\anaconda3\\lib\\site-packages (from spacy) (0.4.2)\n",
      "Requirement already satisfied: thinc<8.2.0,>=8.1.0 in c:\\users\\hmstr\\anaconda3\\lib\\site-packages (from spacy) (8.1.0)\n",
      "Requirement already satisfied: preshed<3.1.0,>=3.0.2 in c:\\users\\hmstr\\anaconda3\\lib\\site-packages (from spacy) (3.0.6)\n",
      "Requirement already satisfied: srsly<3.0.0,>=2.4.3 in c:\\users\\hmstr\\anaconda3\\lib\\site-packages (from spacy) (2.4.4)\n",
      "Requirement already satisfied: murmurhash<1.1.0,>=0.28.0 in c:\\users\\hmstr\\anaconda3\\lib\\site-packages (from spacy) (1.0.7)\n",
      "Requirement already satisfied: jinja2 in c:\\users\\hmstr\\anaconda3\\lib\\site-packages (from spacy) (2.11.3)\n",
      "Requirement already satisfied: pyparsing>=2.0.2 in c:\\users\\hmstr\\anaconda3\\lib\\site-packages (from packaging>=20.0->spacy) (3.0.4)\n",
      "Requirement already satisfied: smart-open<6.0.0,>=5.2.1 in c:\\users\\hmstr\\anaconda3\\lib\\site-packages (from pathy>=0.3.5->spacy) (5.2.1)\n",
      "Requirement already satisfied: typing-extensions>=3.7.4.3 in c:\\users\\hmstr\\anaconda3\\lib\\site-packages (from pydantic!=1.8,!=1.8.1,<1.10.0,>=1.7.4->spacy) (3.10.0.2)\n",
      "Requirement already satisfied: charset-normalizer~=2.0.0 in c:\\users\\hmstr\\anaconda3\\lib\\site-packages (from requests<3.0.0,>=2.13.0->spacy) (2.0.4)\n",
      "Requirement already satisfied: idna<4,>=2.5 in c:\\users\\hmstr\\anaconda3\\lib\\site-packages (from requests<3.0.0,>=2.13.0->spacy) (3.2)\n",
      "Requirement already satisfied: urllib3<1.27,>=1.21.1 in c:\\users\\hmstr\\anaconda3\\lib\\site-packages (from requests<3.0.0,>=2.13.0->spacy) (1.26.7)\n",
      "Requirement already satisfied: certifi>=2017.4.17 in c:\\users\\hmstr\\anaconda3\\lib\\site-packages (from requests<3.0.0,>=2.13.0->spacy) (2021.10.8)\n",
      "Requirement already satisfied: blis<0.8.0,>=0.7.8 in c:\\users\\hmstr\\anaconda3\\lib\\site-packages (from thinc<8.2.0,>=8.1.0->spacy) (0.7.8)\n",
      "Requirement already satisfied: colorama in c:\\users\\hmstr\\anaconda3\\lib\\site-packages (from tqdm<5.0.0,>=4.38.0->spacy) (0.4.4)\n",
      "Requirement already satisfied: click<9.0.0,>=7.1.1 in c:\\users\\hmstr\\anaconda3\\lib\\site-packages (from typer<0.5.0,>=0.3.0->spacy) (8.0.3)\n",
      "Requirement already satisfied: MarkupSafe>=0.23 in c:\\users\\hmstr\\anaconda3\\lib\\site-packages (from jinja2->spacy) (2.0.1)\n",
      "Collecting en-core-web-sm==3.4.0\n",
      "  Using cached https://github.com/explosion/spacy-models/releases/download/en_core_web_sm-3.4.0/en_core_web_sm-3.4.0-py3-none-any.whl (12.8 MB)\n",
      "Requirement already satisfied: spacy<3.5.0,>=3.4.0 in c:\\users\\hmstr\\anaconda3\\lib\\site-packages (from en-core-web-sm==3.4.0) (3.4.0)\n",
      "Requirement already satisfied: cymem<2.1.0,>=2.0.2 in c:\\users\\hmstr\\anaconda3\\lib\\site-packages (from spacy<3.5.0,>=3.4.0->en-core-web-sm==3.4.0) (2.0.6)\n",
      "Requirement already satisfied: murmurhash<1.1.0,>=0.28.0 in c:\\users\\hmstr\\anaconda3\\lib\\site-packages (from spacy<3.5.0,>=3.4.0->en-core-web-sm==3.4.0) (1.0.7)\n",
      "Requirement already satisfied: preshed<3.1.0,>=3.0.2 in c:\\users\\hmstr\\anaconda3\\lib\\site-packages (from spacy<3.5.0,>=3.4.0->en-core-web-sm==3.4.0) (3.0.6)\n",
      "Requirement already satisfied: spacy-legacy<3.1.0,>=3.0.9 in c:\\users\\hmstr\\anaconda3\\lib\\site-packages (from spacy<3.5.0,>=3.4.0->en-core-web-sm==3.4.0) (3.0.9)\n",
      "Requirement already satisfied: thinc<8.2.0,>=8.1.0 in c:\\users\\hmstr\\anaconda3\\lib\\site-packages (from spacy<3.5.0,>=3.4.0->en-core-web-sm==3.4.0) (8.1.0)\n",
      "Requirement already satisfied: pathy>=0.3.5 in c:\\users\\hmstr\\anaconda3\\lib\\site-packages (from spacy<3.5.0,>=3.4.0->en-core-web-sm==3.4.0) (0.6.2)\n",
      "Requirement already satisfied: wasabi<1.1.0,>=0.9.1 in c:\\users\\hmstr\\anaconda3\\lib\\site-packages (from spacy<3.5.0,>=3.4.0->en-core-web-sm==3.4.0) (0.9.1)\n",
      "Requirement already satisfied: pydantic!=1.8,!=1.8.1,<1.10.0,>=1.7.4 in c:\\users\\hmstr\\anaconda3\\lib\\site-packages (from spacy<3.5.0,>=3.4.0->en-core-web-sm==3.4.0) (1.9.0)\n",
      "Requirement already satisfied: tqdm<5.0.0,>=4.38.0 in c:\\users\\hmstr\\anaconda3\\lib\\site-packages (from spacy<3.5.0,>=3.4.0->en-core-web-sm==3.4.0) (4.62.3)\n",
      "Requirement already satisfied: catalogue<2.1.0,>=2.0.6 in c:\\users\\hmstr\\anaconda3\\lib\\site-packages (from spacy<3.5.0,>=3.4.0->en-core-web-sm==3.4.0) (2.0.7)\n",
      "Requirement already satisfied: packaging>=20.0 in c:\\users\\hmstr\\anaconda3\\lib\\site-packages (from spacy<3.5.0,>=3.4.0->en-core-web-sm==3.4.0) (21.0)\n",
      "Requirement already satisfied: numpy>=1.15.0 in c:\\users\\hmstr\\anaconda3\\lib\\site-packages (from spacy<3.5.0,>=3.4.0->en-core-web-sm==3.4.0) (1.22.3)\n",
      "Requirement already satisfied: srsly<3.0.0,>=2.4.3 in c:\\users\\hmstr\\anaconda3\\lib\\site-packages (from spacy<3.5.0,>=3.4.0->en-core-web-sm==3.4.0) (2.4.4)\n",
      "Requirement already satisfied: requests<3.0.0,>=2.13.0 in c:\\users\\hmstr\\anaconda3\\lib\\site-packages (from spacy<3.5.0,>=3.4.0->en-core-web-sm==3.4.0) (2.26.0)\n",
      "Requirement already satisfied: jinja2 in c:\\users\\hmstr\\anaconda3\\lib\\site-packages (from spacy<3.5.0,>=3.4.0->en-core-web-sm==3.4.0) (2.11.3)\n",
      "Requirement already satisfied: setuptools in c:\\users\\hmstr\\anaconda3\\lib\\site-packages (from spacy<3.5.0,>=3.4.0->en-core-web-sm==3.4.0) (58.0.4)\n",
      "Requirement already satisfied: typer<0.5.0,>=0.3.0 in c:\\users\\hmstr\\anaconda3\\lib\\site-packages (from spacy<3.5.0,>=3.4.0->en-core-web-sm==3.4.0) (0.4.2)\n",
      "Requirement already satisfied: spacy-loggers<2.0.0,>=1.0.0 in c:\\users\\hmstr\\anaconda3\\lib\\site-packages (from spacy<3.5.0,>=3.4.0->en-core-web-sm==3.4.0) (1.0.3)\n",
      "Requirement already satisfied: langcodes<4.0.0,>=3.2.0 in c:\\users\\hmstr\\anaconda3\\lib\\site-packages (from spacy<3.5.0,>=3.4.0->en-core-web-sm==3.4.0) (3.3.0)\n",
      "Requirement already satisfied: pyparsing>=2.0.2 in c:\\users\\hmstr\\anaconda3\\lib\\site-packages (from packaging>=20.0->spacy<3.5.0,>=3.4.0->en-core-web-sm==3.4.0) (3.0.4)\n",
      "Requirement already satisfied: smart-open<6.0.0,>=5.2.1 in c:\\users\\hmstr\\anaconda3\\lib\\site-packages (from pathy>=0.3.5->spacy<3.5.0,>=3.4.0->en-core-web-sm==3.4.0) (5.2.1)\n",
      "Requirement already satisfied: typing-extensions>=3.7.4.3 in c:\\users\\hmstr\\anaconda3\\lib\\site-packages (from pydantic!=1.8,!=1.8.1,<1.10.0,>=1.7.4->spacy<3.5.0,>=3.4.0->en-core-web-sm==3.4.0) (3.10.0.2)\n",
      "Requirement already satisfied: urllib3<1.27,>=1.21.1 in c:\\users\\hmstr\\anaconda3\\lib\\site-packages (from requests<3.0.0,>=2.13.0->spacy<3.5.0,>=3.4.0->en-core-web-sm==3.4.0) (1.26.7)\n",
      "Requirement already satisfied: idna<4,>=2.5 in c:\\users\\hmstr\\anaconda3\\lib\\site-packages (from requests<3.0.0,>=2.13.0->spacy<3.5.0,>=3.4.0->en-core-web-sm==3.4.0) (3.2)\n",
      "Requirement already satisfied: charset-normalizer~=2.0.0 in c:\\users\\hmstr\\anaconda3\\lib\\site-packages (from requests<3.0.0,>=2.13.0->spacy<3.5.0,>=3.4.0->en-core-web-sm==3.4.0) (2.0.4)\n",
      "Requirement already satisfied: certifi>=2017.4.17 in c:\\users\\hmstr\\anaconda3\\lib\\site-packages (from requests<3.0.0,>=2.13.0->spacy<3.5.0,>=3.4.0->en-core-web-sm==3.4.0) (2021.10.8)\n",
      "Requirement already satisfied: blis<0.8.0,>=0.7.8 in c:\\users\\hmstr\\anaconda3\\lib\\site-packages (from thinc<8.2.0,>=8.1.0->spacy<3.5.0,>=3.4.0->en-core-web-sm==3.4.0) (0.7.8)\n",
      "Requirement already satisfied: colorama in c:\\users\\hmstr\\anaconda3\\lib\\site-packages (from tqdm<5.0.0,>=4.38.0->spacy<3.5.0,>=3.4.0->en-core-web-sm==3.4.0) (0.4.4)\n",
      "Requirement already satisfied: click<9.0.0,>=7.1.1 in c:\\users\\hmstr\\anaconda3\\lib\\site-packages (from typer<0.5.0,>=0.3.0->spacy<3.5.0,>=3.4.0->en-core-web-sm==3.4.0) (8.0.3)\n",
      "Requirement already satisfied: MarkupSafe>=0.23 in c:\\users\\hmstr\\anaconda3\\lib\\site-packages (from jinja2->spacy<3.5.0,>=3.4.0->en-core-web-sm==3.4.0) (2.0.1)\n",
      "[!] As of spaCy v3.0, shortcuts like 'en' are deprecated. Please use the full\n",
      "pipeline package name 'en_core_web_sm' instead.\n",
      "[+] Download and installation successful\n",
      "You can now load the package via spacy.load('en_core_web_sm')\n"
     ]
    },
    {
     "name": "stderr",
     "output_type": "stream",
     "text": [
      "2022-07-24 00:12:27.777114: W tensorflow/stream_executor/platform/default/dso_loader.cc:64] Could not load dynamic library 'cudart64_110.dll'; dlerror: cudart64_110.dll not found\n",
      "2022-07-24 00:12:27.777162: I tensorflow/stream_executor/cuda/cudart_stub.cc:29] Ignore above cudart dlerror if you do not have a GPU set up on your machine.\n",
      "2022-07-24 00:12:32.105892: W tensorflow/stream_executor/platform/default/dso_loader.cc:64] Could not load dynamic library 'nvcuda.dll'; dlerror: nvcuda.dll not found\n",
      "2022-07-24 00:12:32.105927: W tensorflow/stream_executor/cuda/cuda_driver.cc:269] failed call to cuInit: UNKNOWN ERROR (303)\n",
      "2022-07-24 00:12:32.109083: I tensorflow/stream_executor/cuda/cuda_diagnostics.cc:169] retrieving CUDA diagnostic information for host: DESKTOP-9U6FB7H\n",
      "2022-07-24 00:12:32.109173: I tensorflow/stream_executor/cuda/cuda_diagnostics.cc:176] hostname: DESKTOP-9U6FB7H\n"
     ]
    }
   ],
   "source": [
    "#при необходимости\n",
    "import sys\n",
    "!{sys.executable} -m pip install spacy\n",
    "\n",
    "!{sys.executable} -m spacy download en"
   ]
  },
  {
   "cell_type": "raw",
   "id": "078838ec",
   "metadata": {},
   "source": [
    "#при необходимости\n",
    "pip install transformers"
   ]
  },
  {
   "cell_type": "raw",
   "id": "225b05f6",
   "metadata": {},
   "source": [
    "#при необходимости\n",
    "pip install xgboost"
   ]
  },
  {
   "cell_type": "raw",
   "id": "2d736a6f",
   "metadata": {},
   "source": [
    "#при необходимости\n",
    "pip install catboost"
   ]
  },
  {
   "cell_type": "code",
   "execution_count": 5,
   "id": "096aed9e",
   "metadata": {},
   "outputs": [],
   "source": [
    "#читаем файлы, выводим информацию о датасете\n",
    "#try - адрес у меня, except - адрес для проверки\n",
    "try:\n",
    "    data = pd.read_csv('datasets/toxic_comments.csv')\n",
    "except FileNotFoundError:\n",
    "    data = pd.read_csv('/datasets/toxic_comments.csv')"
   ]
  },
  {
   "cell_type": "code",
   "execution_count": 6,
   "id": "f60cc1c5",
   "metadata": {},
   "outputs": [
    {
     "data": {
      "text/html": [
       "<div>\n",
       "<style scoped>\n",
       "    .dataframe tbody tr th:only-of-type {\n",
       "        vertical-align: middle;\n",
       "    }\n",
       "\n",
       "    .dataframe tbody tr th {\n",
       "        vertical-align: top;\n",
       "    }\n",
       "\n",
       "    .dataframe thead th {\n",
       "        text-align: right;\n",
       "    }\n",
       "</style>\n",
       "<table border=\"1\" class=\"dataframe\">\n",
       "  <thead>\n",
       "    <tr style=\"text-align: right;\">\n",
       "      <th></th>\n",
       "      <th>text</th>\n",
       "      <th>toxic</th>\n",
       "    </tr>\n",
       "  </thead>\n",
       "  <tbody>\n",
       "    <tr>\n",
       "      <th>0</th>\n",
       "      <td>Explanation\\nWhy the edits made under my usern...</td>\n",
       "      <td>0</td>\n",
       "    </tr>\n",
       "    <tr>\n",
       "      <th>1</th>\n",
       "      <td>D'aww! He matches this background colour I'm s...</td>\n",
       "      <td>0</td>\n",
       "    </tr>\n",
       "    <tr>\n",
       "      <th>2</th>\n",
       "      <td>Hey man, I'm really not trying to edit war. It...</td>\n",
       "      <td>0</td>\n",
       "    </tr>\n",
       "    <tr>\n",
       "      <th>3</th>\n",
       "      <td>\"\\nMore\\nI can't make any real suggestions on ...</td>\n",
       "      <td>0</td>\n",
       "    </tr>\n",
       "    <tr>\n",
       "      <th>4</th>\n",
       "      <td>You, sir, are my hero. Any chance you remember...</td>\n",
       "      <td>0</td>\n",
       "    </tr>\n",
       "    <tr>\n",
       "      <th>5</th>\n",
       "      <td>\"\\n\\nCongratulations from me as well, use the ...</td>\n",
       "      <td>0</td>\n",
       "    </tr>\n",
       "    <tr>\n",
       "      <th>6</th>\n",
       "      <td>COCKSUCKER BEFORE YOU PISS AROUND ON MY WORK</td>\n",
       "      <td>1</td>\n",
       "    </tr>\n",
       "    <tr>\n",
       "      <th>7</th>\n",
       "      <td>Your vandalism to the Matt Shirvington article...</td>\n",
       "      <td>0</td>\n",
       "    </tr>\n",
       "    <tr>\n",
       "      <th>8</th>\n",
       "      <td>Sorry if the word 'nonsense' was offensive to ...</td>\n",
       "      <td>0</td>\n",
       "    </tr>\n",
       "    <tr>\n",
       "      <th>9</th>\n",
       "      <td>alignment on this subject and which are contra...</td>\n",
       "      <td>0</td>\n",
       "    </tr>\n",
       "  </tbody>\n",
       "</table>\n",
       "</div>"
      ],
      "text/plain": [
       "                                                text  toxic\n",
       "0  Explanation\\nWhy the edits made under my usern...      0\n",
       "1  D'aww! He matches this background colour I'm s...      0\n",
       "2  Hey man, I'm really not trying to edit war. It...      0\n",
       "3  \"\\nMore\\nI can't make any real suggestions on ...      0\n",
       "4  You, sir, are my hero. Any chance you remember...      0\n",
       "5  \"\\n\\nCongratulations from me as well, use the ...      0\n",
       "6       COCKSUCKER BEFORE YOU PISS AROUND ON MY WORK      1\n",
       "7  Your vandalism to the Matt Shirvington article...      0\n",
       "8  Sorry if the word 'nonsense' was offensive to ...      0\n",
       "9  alignment on this subject and which are contra...      0"
      ]
     },
     "metadata": {},
     "output_type": "display_data"
    },
    {
     "name": "stdout",
     "output_type": "stream",
     "text": [
      "\n",
      "<class 'pandas.core.frame.DataFrame'>\n",
      "RangeIndex: 159571 entries, 0 to 159570\n",
      "Data columns (total 2 columns):\n",
      " #   Column  Non-Null Count   Dtype \n",
      "---  ------  --------------   ----- \n",
      " 0   text    159571 non-null  object\n",
      " 1   toxic   159571 non-null  int64 \n",
      "dtypes: int64(1), object(1)\n",
      "memory usage: 2.4+ MB\n"
     ]
    },
    {
     "data": {
      "text/plain": [
       "None"
      ]
     },
     "metadata": {},
     "output_type": "display_data"
    },
    {
     "name": "stdout",
     "output_type": "stream",
     "text": [
      "\n",
      "Доли пропусков\n"
     ]
    },
    {
     "data": {
      "text/plain": [
       "text    0.000\n",
       "toxic   0.000\n",
       "dtype: float64"
      ]
     },
     "metadata": {},
     "output_type": "display_data"
    },
    {
     "name": "stdout",
     "output_type": "stream",
     "text": [
      "\n",
      "Проверка наличия дублирующихся строк\n"
     ]
    },
    {
     "data": {
      "text/plain": [
       "0"
      ]
     },
     "execution_count": 6,
     "metadata": {},
     "output_type": "execute_result"
    }
   ],
   "source": [
    "# выводим общую информацию о данных\n",
    "display(data.head(10))\n",
    "print()\n",
    "display(data.info())\n",
    "print()\n",
    "print('Доли пропусков')\n",
    "display(data.isna().mean())\n",
    "print()\n",
    "print('Проверка наличия дублирующихся строк')\n",
    "data.duplicated().sum()"
   ]
  },
  {
   "cell_type": "code",
   "execution_count": 7,
   "id": "300d1b1e",
   "metadata": {},
   "outputs": [
    {
     "data": {
      "text/plain": [
       "0   0.898\n",
       "1   0.102\n",
       "Name: toxic, dtype: float64"
      ]
     },
     "execution_count": 7,
     "metadata": {},
     "output_type": "execute_result"
    }
   ],
   "source": [
    "#оценим баланс классов\n",
    "data['toxic'].value_counts(normalize=True)"
   ]
  },
  {
   "cell_type": "markdown",
   "id": "b3475484",
   "metadata": {},
   "source": [
    "Судя по выведенным данным язык сообщений английский, но проверим, так ли это для всех сообщений датасета."
   ]
  },
  {
   "cell_type": "code",
   "execution_count": 8,
   "id": "39d5b034",
   "metadata": {},
   "outputs": [
    {
     "name": "stdout",
     "output_type": "stream",
     "text": [
      "4287\n",
      "21\n",
      "Wall time: 11min 1s\n"
     ]
    }
   ],
   "source": [
    "%%time\n",
    "list = []\n",
    "list_lang = []\n",
    "list_error = []\n",
    "list_indexed = []\n",
    "list_error_indexes = []\n",
    "for i in range(len(data['text'])):\n",
    "    try:\n",
    "        if detect(data['text'][i]) != 'en':\n",
    "            list.append(data['text'][i])\n",
    "            list_lang.append(detect(data['text'][i]))\n",
    "            list_indexed.append(i)\n",
    "    except:\n",
    "        list_error.append(data['text'][i])\n",
    "        list_error_indexes.append(i)\n",
    "        next\n",
    "        \n",
    "print(len(list))\n",
    "print(len(list_error))"
   ]
  },
  {
   "cell_type": "code",
   "execution_count": 9,
   "id": "5696035b",
   "metadata": {
    "scrolled": true
   },
   "outputs": [
    {
     "data": {
      "text/plain": [
       "0.02686578388303639"
      ]
     },
     "execution_count": 9,
     "metadata": {},
     "output_type": "execute_result"
    }
   ],
   "source": [
    "len(list)/data.shape[0]"
   ]
  },
  {
   "cell_type": "code",
   "execution_count": 10,
   "id": "612dd61a",
   "metadata": {
    "scrolled": true
   },
   "outputs": [
    {
     "data": {
      "text/plain": [
       "de    548\n",
       "en    388\n",
       "fr    322\n",
       "af    310\n",
       "so    242\n",
       "et    234\n",
       "id    232\n",
       "cy    190\n",
       "nl    183\n",
       "tl    157\n",
       "no    151\n",
       "sv    147\n",
       "da    142\n",
       "it    129\n",
       "tr    116\n",
       "ca    107\n",
       "es     93\n",
       "pt     81\n",
       "hu     79\n",
       "ro     75\n",
       "sw     63\n",
       "vi     56\n",
       "fi     56\n",
       "hr     39\n",
       "pl     37\n",
       "sl     27\n",
       "sk     23\n",
       "cs     23\n",
       "sq     18\n",
       "lt     10\n",
       "lv      3\n",
       "el      1\n",
       "ta      1\n",
       "bg      1\n",
       "mk      1\n",
       "uk      1\n",
       "ja      1\n",
       "dtype: int64"
      ]
     },
     "execution_count": 10,
     "metadata": {},
     "output_type": "execute_result"
    }
   ],
   "source": [
    "pd.Series(list_lang).value_counts()"
   ]
  },
  {
   "cell_type": "code",
   "execution_count": 11,
   "id": "f55866bb",
   "metadata": {},
   "outputs": [
    {
     "data": {
      "text/plain": [
       "['REDIRECT Talk:Voydan Pop Georgiev- Chernodrinski',\n",
       " 'REDIRECT Talk:Frank Herbert Mason',\n",
       " \"Oh, it's me vandalising?xD See here. Greetings,\",\n",
       " 'Azari or Azerbaijani? \\n\\nAzari-iranian,azerbaijani-turkic nation.',\n",
       " '86.29.244.57|86.29.244.57]] 04:21, 14 May 2007',\n",
       " 'Future Perfect at Sunrise|☼]] 14:59, 16',\n",
       " \"I'm afraid that's a broken link for me. -\",\n",
       " 'REDIRECT Talk:José Manuel Rojas',\n",
       " '2010]]\\n[[User talk:Wikireader41/Archive4|Archive 5-Mar 15',\n",
       " 'Valerie Poxleitner \\n\\nValeri Poxleitner, A.K.A. Lights. If',\n",
       " '|listas = Manos Family',\n",
       " 'Barnes                  Aus     1                       1       8',\n",
       " '06:15, 19 Aug 2004 (UTC)',\n",
       " '\"\\nNo problem at all! \\xa0(talk) \"',\n",
       " \"I've just seen that\",\n",
       " 'Batman  \\n\\nI am Batman. You are Spiderman. I win.',\n",
       " 'WikiDon, STOP stalking me!',\n",
       " 'Type 3 looks gorgeous )  (talk)',\n",
       " '|listas = Schaefer, Nolan',\n",
       " '\"::I LOL\\'d hardest at J.delanoy\\'s. P Cobra \\n\\n\"']"
      ]
     },
     "execution_count": 11,
     "metadata": {},
     "output_type": "execute_result"
    }
   ],
   "source": [
    "list[0:20]"
   ]
  },
  {
   "cell_type": "code",
   "execution_count": 12,
   "id": "c8c1f430",
   "metadata": {
    "scrolled": true
   },
   "outputs": [
    {
     "data": {
      "text/plain": [
       "['\"\\n\\n-———————————————————————————————————————————————————————————-\\n\\nSuck my dick. Thank you.  \\xa0—talk/hist \"',\n",
       " '1993\\n\\n1994\\n\\n1995\\n\\n1996\\n\\n1997\\n\\n1998\\n\\n1999\\n\\n2000\\n\\n2001\\n\\n2002\\n\\n2003',\n",
       " 'http://www.imdb.com/name/nm2551199/filmoseries#tt1327666 71.223.125.139',\n",
       " '193.61.111.53  15:00',\n",
       " '~ \\n\\n68.193.147.157',\n",
       " '[   ]\\nhttp://www.smallholder.co.uk/news/878983.honey_storage/',\n",
       " '14:53,',\n",
       " '92.24.199.233|92.24.199.233]]',\n",
       " '\"\\n\\n 199.209.144.211  \"',\n",
       " 'http://www.everytopicintheuniverseexceptchickens.com/ !!!!',\n",
       " 'http://finance.yahoo.com/news/7-fascinating-nuggets-another-bewildering-150348488.html',\n",
       " '\"\\n \\'\\'\\'\\'\\'\\' 2010/2013 \"',\n",
       " 'http://wikipediawehaveaproblem.com/evidence-of-cyberbullying-wp-editors-and-admins/  http://wikipediawehaveaproblem.com/evidence-of-cyberbullying-wp-editors-and-admins/',\n",
       " 'http://goproxing.biz 82.103.128.115',\n",
       " 'http://www.newswire.ca/fr/story/358197/domaine-pinnacle-ice-cider-now-available-in-new-european-and-asian-markets .',\n",
       " '] // 06 // [http://www.webcitation.org/5emm355eH 07',\n",
       " 'http://www.mediamonitors.net/edna47.html   http://www.freerepublic.com/forum/a3ad7b207707d.htm',\n",
       " 'hyper_individualist@yahoo.com',\n",
       " '] // 10\\n[http://www.webcitation.org/5oGeSq8ag 11',\n",
       " 'http://www.haaretz.com/news/diplomacy-defense/2-279-calories-per-person-how-israel-made-sure-gaza-didn-t-starve.premium-1.470419',\n",
       " 'http://www.world-pyramids.com/atr/usa/monkmound.html \\nhttp://www.freewebs.com/historyofmonksmound/index.htm \\nhttp://www.bibliotecapleyades.net/arqueologia/monks_mound.htm']"
      ]
     },
     "execution_count": 12,
     "metadata": {},
     "output_type": "execute_result"
    }
   ],
   "source": [
    "list_error"
   ]
  },
  {
   "cell_type": "markdown",
   "id": "ebac15ec",
   "metadata": {},
   "source": [
    "**Выводы по данным:**  \n",
    "1. В датасете 159571 строк и 2 столбца: тексты твитов и их классификация на токсичные (1) и нетоксичные (0).  \n",
    "2. Пропуски в данных отсутствуют.  \n",
    "3. Дублирующиеся строки отсутствуют.  \n",
    "4. Есть явный дисбаланс классов: 10% токсичных текстов против 90% нетокчисных. Это необходимо будет учесть при разделении на выборки и обучении моделей.  \n",
    "5. Основной язык тестов - английский. Но при этом есть также 4332 строки, определенные как другие языки, а также 21 текст, для которого язык определить не получилось (в основном это тексты со ссылками). Поскольку эти данные составляют всего около 3% от датасета, лучше всего удалить их.  \n",
    "6. Тексты приведены в разных регистрах, содержат служебные символы (\\n,\\r), знаки препинания и т.п. Перед использованием в моделях тексты необходимо будет очистить.  \n",
    "\n"
   ]
  },
  {
   "cell_type": "code",
   "execution_count": 13,
   "id": "25b15402",
   "metadata": {},
   "outputs": [],
   "source": [
    "#удалим тексты, язык которых не определяется как английский\n",
    "data = data.drop(index=list_indexed+list_error_indexes)"
   ]
  },
  {
   "cell_type": "code",
   "execution_count": 14,
   "id": "37d9a837",
   "metadata": {},
   "outputs": [
    {
     "data": {
      "text/html": [
       "<div>\n",
       "<style scoped>\n",
       "    .dataframe tbody tr th:only-of-type {\n",
       "        vertical-align: middle;\n",
       "    }\n",
       "\n",
       "    .dataframe tbody tr th {\n",
       "        vertical-align: top;\n",
       "    }\n",
       "\n",
       "    .dataframe thead th {\n",
       "        text-align: right;\n",
       "    }\n",
       "</style>\n",
       "<table border=\"1\" class=\"dataframe\">\n",
       "  <thead>\n",
       "    <tr style=\"text-align: right;\">\n",
       "      <th></th>\n",
       "      <th>text</th>\n",
       "      <th>toxic</th>\n",
       "    </tr>\n",
       "  </thead>\n",
       "  <tbody>\n",
       "    <tr>\n",
       "      <th>0</th>\n",
       "      <td>Explanation\\nWhy the edits made under my usern...</td>\n",
       "      <td>0</td>\n",
       "    </tr>\n",
       "    <tr>\n",
       "      <th>1</th>\n",
       "      <td>D'aww! He matches this background colour I'm s...</td>\n",
       "      <td>0</td>\n",
       "    </tr>\n",
       "    <tr>\n",
       "      <th>2</th>\n",
       "      <td>Hey man, I'm really not trying to edit war. It...</td>\n",
       "      <td>0</td>\n",
       "    </tr>\n",
       "    <tr>\n",
       "      <th>3</th>\n",
       "      <td>\"\\nMore\\nI can't make any real suggestions on ...</td>\n",
       "      <td>0</td>\n",
       "    </tr>\n",
       "    <tr>\n",
       "      <th>4</th>\n",
       "      <td>You, sir, are my hero. Any chance you remember...</td>\n",
       "      <td>0</td>\n",
       "    </tr>\n",
       "    <tr>\n",
       "      <th>5</th>\n",
       "      <td>\"\\n\\nCongratulations from me as well, use the ...</td>\n",
       "      <td>0</td>\n",
       "    </tr>\n",
       "    <tr>\n",
       "      <th>6</th>\n",
       "      <td>COCKSUCKER BEFORE YOU PISS AROUND ON MY WORK</td>\n",
       "      <td>1</td>\n",
       "    </tr>\n",
       "    <tr>\n",
       "      <th>7</th>\n",
       "      <td>Your vandalism to the Matt Shirvington article...</td>\n",
       "      <td>0</td>\n",
       "    </tr>\n",
       "    <tr>\n",
       "      <th>8</th>\n",
       "      <td>Sorry if the word 'nonsense' was offensive to ...</td>\n",
       "      <td>0</td>\n",
       "    </tr>\n",
       "    <tr>\n",
       "      <th>9</th>\n",
       "      <td>alignment on this subject and which are contra...</td>\n",
       "      <td>0</td>\n",
       "    </tr>\n",
       "    <tr>\n",
       "      <th>10</th>\n",
       "      <td>\"\\nFair use rationale for Image:Wonju.jpg\\n\\nT...</td>\n",
       "      <td>0</td>\n",
       "    </tr>\n",
       "    <tr>\n",
       "      <th>11</th>\n",
       "      <td>bbq \\n\\nbe a man and lets discuss it-maybe ove...</td>\n",
       "      <td>0</td>\n",
       "    </tr>\n",
       "    <tr>\n",
       "      <th>12</th>\n",
       "      <td>Hey... what is it..\\n@ | talk .\\nWhat is it......</td>\n",
       "      <td>1</td>\n",
       "    </tr>\n",
       "    <tr>\n",
       "      <th>13</th>\n",
       "      <td>Before you start throwing accusations and warn...</td>\n",
       "      <td>0</td>\n",
       "    </tr>\n",
       "    <tr>\n",
       "      <th>14</th>\n",
       "      <td>Oh, and the girl above started her arguments w...</td>\n",
       "      <td>0</td>\n",
       "    </tr>\n",
       "    <tr>\n",
       "      <th>15</th>\n",
       "      <td>\"\\n\\nJuelz Santanas Age\\n\\nIn 2002, Juelz Sant...</td>\n",
       "      <td>0</td>\n",
       "    </tr>\n",
       "    <tr>\n",
       "      <th>16</th>\n",
       "      <td>Bye! \\n\\nDon't look, come or think of comming ...</td>\n",
       "      <td>1</td>\n",
       "    </tr>\n",
       "    <tr>\n",
       "      <th>18</th>\n",
       "      <td>The Mitsurugi point made no sense - why not ar...</td>\n",
       "      <td>0</td>\n",
       "    </tr>\n",
       "    <tr>\n",
       "      <th>19</th>\n",
       "      <td>Don't mean to bother you \\n\\nI see that you're...</td>\n",
       "      <td>0</td>\n",
       "    </tr>\n",
       "    <tr>\n",
       "      <th>20</th>\n",
       "      <td>\"\\n\\n Regarding your recent edits \\n\\nOnce aga...</td>\n",
       "      <td>0</td>\n",
       "    </tr>\n",
       "  </tbody>\n",
       "</table>\n",
       "</div>"
      ],
      "text/plain": [
       "                                                 text  toxic\n",
       "0   Explanation\\nWhy the edits made under my usern...      0\n",
       "1   D'aww! He matches this background colour I'm s...      0\n",
       "2   Hey man, I'm really not trying to edit war. It...      0\n",
       "3   \"\\nMore\\nI can't make any real suggestions on ...      0\n",
       "4   You, sir, are my hero. Any chance you remember...      0\n",
       "5   \"\\n\\nCongratulations from me as well, use the ...      0\n",
       "6        COCKSUCKER BEFORE YOU PISS AROUND ON MY WORK      1\n",
       "7   Your vandalism to the Matt Shirvington article...      0\n",
       "8   Sorry if the word 'nonsense' was offensive to ...      0\n",
       "9   alignment on this subject and which are contra...      0\n",
       "10  \"\\nFair use rationale for Image:Wonju.jpg\\n\\nT...      0\n",
       "11  bbq \\n\\nbe a man and lets discuss it-maybe ove...      0\n",
       "12  Hey... what is it..\\n@ | talk .\\nWhat is it......      1\n",
       "13  Before you start throwing accusations and warn...      0\n",
       "14  Oh, and the girl above started her arguments w...      0\n",
       "15  \"\\n\\nJuelz Santanas Age\\n\\nIn 2002, Juelz Sant...      0\n",
       "16  Bye! \\n\\nDon't look, come or think of comming ...      1\n",
       "18  The Mitsurugi point made no sense - why not ar...      0\n",
       "19  Don't mean to bother you \\n\\nI see that you're...      0\n",
       "20  \"\\n\\n Regarding your recent edits \\n\\nOnce aga...      0"
      ]
     },
     "execution_count": 14,
     "metadata": {},
     "output_type": "execute_result"
    }
   ],
   "source": [
    "data.head(20)"
   ]
  },
  {
   "cell_type": "markdown",
   "id": "158b350f",
   "metadata": {},
   "source": [
    "## Подготовка данных"
   ]
  },
  {
   "cell_type": "markdown",
   "id": "3c4a54df",
   "metadata": {},
   "source": [
    "Для подбора оптимального соотношения между скоростью подготовки данных, скоростью обучения и качеством моделей сделаем несколько вариантов подготовки данных:  \n",
    "\n",
    "1. Очистка от служебных символов, знаков перпинаний и т.п. и лемматизация. \n",
    "*1.1. Векторизация с помощью метода TF-IDF.  \n",
    "*1.2. Векторизация с помощью предобученной модели BERT. \n",
    "Поскольку лемматизация занимает достаточно много времени, это приедтся сделать на ограниченном датасете.  \n",
    "2. Только очистка от служебных символов, знаков перпинаний и т.п. на полном датасете. Векторизация с помощью метода TF-IDF.  "
   ]
  },
  {
   "cell_type": "code",
   "execution_count": 8,
   "id": "32da2b11",
   "metadata": {
    "scrolled": true
   },
   "outputs": [],
   "source": [
    "#создадим функцию для очистки и лемматизации текстов\n",
    "def text_prepare(text):\n",
    "    #заменяем все символы кроме буквенных на пробелы, убираем лишниe пробелы\n",
    "    text = re.sub(r'(?:\\n|\\r)', ' ', text)\n",
    "    text = re.sub(r\"[^'a-zA-Z]\", ' ', text)\n",
    "    text = \" \".join(text.split())\n",
    "    text = text.lower()\n",
    "    \n",
    "    #лемматизируем слова в тексте с помощью библиотеки spacy\n",
    "    nlp = spacy.load('en_core_web_sm', disable=['parser', 'ner'])\n",
    "    text = nlp(text)\n",
    "    text = \" \".join([token.lemma_ for token in text])\n",
    "\n",
    "    return text\n"
   ]
  },
  {
   "cell_type": "code",
   "execution_count": 9,
   "id": "46cda988",
   "metadata": {},
   "outputs": [],
   "source": [
    "#создадим функцию отдельно для очистки текстов, потому что лемматизация идёт долго\n",
    "\n",
    "def text_cleaner(text):\n",
    "    #заменяем все символы кроме буквенных на пробелы, убираем лишниe пробелы\n",
    "    text = re.sub(r\"(?:\\n|\\r)\", \" \", text)\n",
    "    text = re.sub(r'[^a-zA-Z]',' ',text)\n",
    "    text = \" \".join(text.split())\n",
    "    text = text.lower()\n",
    "    \n",
    "    return text\n"
   ]
  },
  {
   "cell_type": "code",
   "execution_count": 17,
   "id": "91fa6c65",
   "metadata": {},
   "outputs": [
    {
     "name": "stdout",
     "output_type": "stream",
     "text": [
      "Explanation\n",
      "Why the edits made under my username Hardcore Metallica Fan were reverted? They weren't vandalisms, just closure on some GAs after I voted at New York Dolls FAC. And please don't remove the template from the talk page since I'm retired now.89.205.38.27\n"
     ]
    }
   ],
   "source": [
    " #проверяем работу функций\n",
    "print(data.loc[0,'text'])"
   ]
  },
  {
   "cell_type": "code",
   "execution_count": 18,
   "id": "f6cf6621",
   "metadata": {},
   "outputs": [
    {
     "name": "stdout",
     "output_type": "stream",
     "text": [
      "explanation why the edit make under my username hardcore metallica fan be revert they be not vandalism just closure on some gas after I vote at new york dolls fac and please do not remove the template from the talk page since I be retire now\n",
      "\n",
      "explanation why the edits made under my username hardcore metallica fan were reverted they weren t vandalisms just closure on some gas after i voted at new york dolls fac and please don t remove the template from the talk page since i m retired now\n"
     ]
    }
   ],
   "source": [
    "print(text_prepare(data.loc[0,'text']))\n",
    "print()\n",
    "print(text_cleaner(data.loc[0,'text']))"
   ]
  },
  {
   "cell_type": "markdown",
   "id": "703c435a",
   "metadata": {},
   "source": [
    "В целом функция справляется с задачей лемматизации и очистки данных."
   ]
  },
  {
   "cell_type": "markdown",
   "id": "596437ac",
   "metadata": {},
   "source": [
    "Поскольку лемматизация требует большого количества времени, выделим для неё рандомный сэмпл из 5000 строк."
   ]
  },
  {
   "cell_type": "code",
   "execution_count": 60,
   "id": "d398f90a",
   "metadata": {},
   "outputs": [
    {
     "name": "stdout",
     "output_type": "stream",
     "text": [
      "Wall time: 41min 3s\n"
     ]
    },
    {
     "data": {
      "text/html": [
       "<div>\n",
       "<style scoped>\n",
       "    .dataframe tbody tr th:only-of-type {\n",
       "        vertical-align: middle;\n",
       "    }\n",
       "\n",
       "    .dataframe tbody tr th {\n",
       "        vertical-align: top;\n",
       "    }\n",
       "\n",
       "    .dataframe thead th {\n",
       "        text-align: right;\n",
       "    }\n",
       "</style>\n",
       "<table border=\"1\" class=\"dataframe\">\n",
       "  <thead>\n",
       "    <tr style=\"text-align: right;\">\n",
       "      <th></th>\n",
       "      <th>text</th>\n",
       "      <th>toxic</th>\n",
       "      <th>lemms</th>\n",
       "    </tr>\n",
       "  </thead>\n",
       "  <tbody>\n",
       "    <tr>\n",
       "      <th>120678</th>\n",
       "      <td>\"\\n\\nThis is not speculation, it is an absolut...</td>\n",
       "      <td>0</td>\n",
       "      <td>this be not speculation it be an absolute trut...</td>\n",
       "    </tr>\n",
       "    <tr>\n",
       "      <th>25601</th>\n",
       "      <td>\"\\n\\nThere has got to be a better term to use ...</td>\n",
       "      <td>0</td>\n",
       "      <td>there have get to be a well term to use than k...</td>\n",
       "    </tr>\n",
       "    <tr>\n",
       "      <th>147276</th>\n",
       "      <td>, 17 April 2015 (UTC)\\n\\nIncorrect again.. wow...</td>\n",
       "      <td>0</td>\n",
       "      <td>april utc incorrect again wow the equation and...</td>\n",
       "    </tr>\n",
       "    <tr>\n",
       "      <th>69001</th>\n",
       "      <td>This message is regarding the page Roller coas...</td>\n",
       "      <td>0</td>\n",
       "      <td>this message be regard the page roller coaster...</td>\n",
       "    </tr>\n",
       "    <tr>\n",
       "      <th>71868</th>\n",
       "      <td>Added the part of Harivamsa Purana \\n\\nI added...</td>\n",
       "      <td>0</td>\n",
       "      <td>add the part of harivamsa purana I add the ref...</td>\n",
       "    </tr>\n",
       "  </tbody>\n",
       "</table>\n",
       "</div>"
      ],
      "text/plain": [
       "                                                     text  toxic  \\\n",
       "120678  \"\\n\\nThis is not speculation, it is an absolut...      0   \n",
       "25601   \"\\n\\nThere has got to be a better term to use ...      0   \n",
       "147276  , 17 April 2015 (UTC)\\n\\nIncorrect again.. wow...      0   \n",
       "69001   This message is regarding the page Roller coas...      0   \n",
       "71868   Added the part of Harivamsa Purana \\n\\nI added...      0   \n",
       "\n",
       "                                                    lemms  \n",
       "120678  this be not speculation it be an absolute trut...  \n",
       "25601   there have get to be a well term to use than k...  \n",
       "147276  april utc incorrect again wow the equation and...  \n",
       "69001   this message be regard the page roller coaster...  \n",
       "71868   add the part of harivamsa purana I add the ref...  "
      ]
     },
     "execution_count": 60,
     "metadata": {},
     "output_type": "execute_result"
    }
   ],
   "source": [
    "%%time\n",
    "data_sample = data.sample(5000, random_state=42)\n",
    "data_sample['lemms'] = [text_prepare(text) for text in data_sample['text']]\n",
    "data_sample.head()"
   ]
  },
  {
   "cell_type": "code",
   "execution_count": 71,
   "id": "7a42d7b6",
   "metadata": {},
   "outputs": [],
   "source": [
    "#запись в файл, чтобы не перезапускать каждый раз\n",
    "data_sample.to_csv('datasets/tweets_lemms_5000_new.csv') "
   ]
  },
  {
   "cell_type": "raw",
   "id": "1028e41a",
   "metadata": {},
   "source": [
    "data_sample = pd.read_csv('datasets/tweets_lemms_5000_new.csv')\n",
    "data_sample.head()"
   ]
  },
  {
   "cell_type": "markdown",
   "id": "701ce878",
   "metadata": {},
   "source": [
    "### TF IDF"
   ]
  },
  {
   "cell_type": "code",
   "execution_count": 23,
   "id": "17bfc422",
   "metadata": {},
   "outputs": [
    {
     "name": "stdout",
     "output_type": "stream",
     "text": [
      "(3750,) (3750,)\n",
      "(1250,) (1250,)\n"
     ]
    }
   ],
   "source": [
    "#разобьем очищенные и лемматизированные данные на обучающую и тестовую выборки\n",
    "features = data_sample['lemms']\n",
    "target = data_sample['toxic']\n",
    "\n",
    "features_train, features_test, target_train, target_test = train_test_split(features,\n",
    "                                                                            target,\n",
    "                                                                            test_size=0.25,\n",
    "                                                                            stratify=target,\n",
    "                                                                            random_state=42)\n",
    "print(features_train.shape, target_train.shape)\n",
    "print(features_test.shape, target_test.shape)"
   ]
  },
  {
   "cell_type": "code",
   "execution_count": 24,
   "id": "829d31d1",
   "metadata": {},
   "outputs": [
    {
     "name": "stdout",
     "output_type": "stream",
     "text": [
      "(3750, 15243)\n",
      "(1250, 15243)\n"
     ]
    }
   ],
   "source": [
    "#переведем слова в векторное представление с помощью метода TF-IDF\n",
    "#включение в признаки биграмм не улучшает метрику\n",
    "stop_words = set(stopwords.words('english'))\n",
    "count_tfidf = TfidfVectorizer(stop_words=stop_words,ngram_range=(1, 1))\n",
    "features_train = count_tfidf.fit_transform(features_train)\n",
    "features_test = count_tfidf.transform(features_test)\n",
    "print(features_train.shape)\n",
    "print(features_test.shape)"
   ]
  },
  {
   "cell_type": "markdown",
   "id": "dffe9a60",
   "metadata": {},
   "source": [
    "Создадим датафрейм с очищенными, но не лемматизированными текстами."
   ]
  },
  {
   "cell_type": "code",
   "execution_count": 25,
   "id": "8c8afd80",
   "metadata": {
    "scrolled": true
   },
   "outputs": [
    {
     "name": "stdout",
     "output_type": "stream",
     "text": [
      "Wall time: 3.08 s\n"
     ]
    },
    {
     "data": {
      "text/html": [
       "<div>\n",
       "<style scoped>\n",
       "    .dataframe tbody tr th:only-of-type {\n",
       "        vertical-align: middle;\n",
       "    }\n",
       "\n",
       "    .dataframe tbody tr th {\n",
       "        vertical-align: top;\n",
       "    }\n",
       "\n",
       "    .dataframe thead th {\n",
       "        text-align: right;\n",
       "    }\n",
       "</style>\n",
       "<table border=\"1\" class=\"dataframe\">\n",
       "  <thead>\n",
       "    <tr style=\"text-align: right;\">\n",
       "      <th></th>\n",
       "      <th>text</th>\n",
       "      <th>toxic</th>\n",
       "      <th>clean_texts</th>\n",
       "    </tr>\n",
       "  </thead>\n",
       "  <tbody>\n",
       "    <tr>\n",
       "      <th>0</th>\n",
       "      <td>Explanation\\nWhy the edits made under my usern...</td>\n",
       "      <td>0</td>\n",
       "      <td>explanation why the edits made under my userna...</td>\n",
       "    </tr>\n",
       "    <tr>\n",
       "      <th>1</th>\n",
       "      <td>D'aww! He matches this background colour I'm s...</td>\n",
       "      <td>0</td>\n",
       "      <td>d aww he matches this background colour i m se...</td>\n",
       "    </tr>\n",
       "    <tr>\n",
       "      <th>2</th>\n",
       "      <td>Hey man, I'm really not trying to edit war. It...</td>\n",
       "      <td>0</td>\n",
       "      <td>hey man i m really not trying to edit war it s...</td>\n",
       "    </tr>\n",
       "    <tr>\n",
       "      <th>3</th>\n",
       "      <td>\"\\nMore\\nI can't make any real suggestions on ...</td>\n",
       "      <td>0</td>\n",
       "      <td>more i can t make any real suggestions on impr...</td>\n",
       "    </tr>\n",
       "    <tr>\n",
       "      <th>4</th>\n",
       "      <td>You, sir, are my hero. Any chance you remember...</td>\n",
       "      <td>0</td>\n",
       "      <td>you sir are my hero any chance you remember wh...</td>\n",
       "    </tr>\n",
       "  </tbody>\n",
       "</table>\n",
       "</div>"
      ],
      "text/plain": [
       "                                                text  toxic  \\\n",
       "0  Explanation\\nWhy the edits made under my usern...      0   \n",
       "1  D'aww! He matches this background colour I'm s...      0   \n",
       "2  Hey man, I'm really not trying to edit war. It...      0   \n",
       "3  \"\\nMore\\nI can't make any real suggestions on ...      0   \n",
       "4  You, sir, are my hero. Any chance you remember...      0   \n",
       "\n",
       "                                         clean_texts  \n",
       "0  explanation why the edits made under my userna...  \n",
       "1  d aww he matches this background colour i m se...  \n",
       "2  hey man i m really not trying to edit war it s...  \n",
       "3  more i can t make any real suggestions on impr...  \n",
       "4  you sir are my hero any chance you remember wh...  "
      ]
     },
     "execution_count": 25,
     "metadata": {},
     "output_type": "execute_result"
    }
   ],
   "source": [
    "%%time\n",
    "#только очистка текстов\n",
    "data_clean = data.copy()\n",
    "data_clean['clean_texts'] = [text_cleaner(text) for text in data_clean['text']]\n",
    "data_clean.head()"
   ]
  },
  {
   "cell_type": "code",
   "execution_count": 67,
   "id": "6a831898",
   "metadata": {},
   "outputs": [
    {
     "name": "stdout",
     "output_type": "stream",
     "text": [
      "(116447,) (116447,)\n",
      "(38816,) (38816,)\n"
     ]
    }
   ],
   "source": [
    "#разобьем только очищенные, но не лемматизированные данные на обучающую и тестовую выборки\n",
    "features_clean = data_clean['clean_texts']\n",
    "target_clean = data_clean['toxic']\n",
    "\n",
    "features_train_clean, features_test_clean, target_train_clean, target_test_clean = train_test_split(features_clean,\n",
    "                                                                            target_clean,\n",
    "                                                                            test_size=0.25,\n",
    "                                                                            stratify=target_clean,\n",
    "                                                                            random_state=42)\n",
    "\n",
    "print(features_train_clean.shape, target_train_clean.shape)\n",
    "print(features_test_clean.shape, target_test_clean.shape)"
   ]
  },
  {
   "cell_type": "code",
   "execution_count": 68,
   "id": "5202fdec",
   "metadata": {},
   "outputs": [
    {
     "name": "stdout",
     "output_type": "stream",
     "text": [
      "(116447, 140736)\n",
      "(38816, 140736)\n",
      "Wall time: 5.51 s\n"
     ]
    }
   ],
   "source": [
    "%%time\n",
    "#переведем слова в векторное представление с помощью метода TF-IDF\n",
    "stop_words = set(stopwords.words('english'))\n",
    "count_tfidf = TfidfVectorizer(stop_words=stop_words,ngram_range=(1, 1))\n",
    "features_train_clean = count_tfidf.fit_transform(features_train_clean)\n",
    "features_test_clean = count_tfidf.transform(features_test_clean)\n",
    "print(features_train_clean.shape)\n",
    "print(features_test_clean.shape)"
   ]
  },
  {
   "cell_type": "markdown",
   "id": "907bae58",
   "metadata": {},
   "source": [
    "В данных отмечен существенный дисбаланс классов: доля целевого признака составляет всего 10%.  \n",
    "Для устранения дисбаланса классов воспользуемся методом downsampling (поскольку данных достаточно много), а также гиперпараметром class_weight в самих моделях.  "
   ]
  },
  {
   "cell_type": "markdown",
   "id": "72bc7c12",
   "metadata": {},
   "source": [
    "Подготовим данные с downsampling на основе полного датасета с очищенными данными."
   ]
  },
  {
   "cell_type": "code",
   "execution_count": 199,
   "id": "70d50e5f",
   "metadata": {},
   "outputs": [
    {
     "name": "stdout",
     "output_type": "stream",
     "text": [
      "(116447, 140736) (116447,)\n",
      "(38816, 140736) (38816,)\n"
     ]
    }
   ],
   "source": [
    "#разобьем только очищенные, но не лемматизированные данные на обучающую и тестовую выборки\n",
    "features_downsample = data_clean['clean_texts']\n",
    "target_downsample = data_clean['toxic']\n",
    "features_train_downsample, features_test_downsample, target_train_downsample, target_test_downsample = train_test_split(features_downsample,\n",
    "                                                                            target_downsample,\n",
    "                                                                            test_size=0.25,\n",
    "                                                                            stratify=target_downsample,\n",
    "                                                                            random_state=42)\n",
    "\n",
    "print(features_train_clean.shape, target_train_clean.shape)\n",
    "print(features_test_clean.shape, target_test_clean.shape)"
   ]
  },
  {
   "cell_type": "code",
   "execution_count": 200,
   "id": "e05dd2ac",
   "metadata": {},
   "outputs": [
    {
     "data": {
      "text/plain": [
       "0    105131\n",
       "1     11316\n",
       "Name: toxic, dtype: int64"
      ]
     },
     "execution_count": 200,
     "metadata": {},
     "output_type": "execute_result"
    }
   ],
   "source": [
    "target_train_downsample.value_counts()"
   ]
  },
  {
   "cell_type": "code",
   "execution_count": 214,
   "id": "4881f6e8",
   "metadata": {},
   "outputs": [
    {
     "name": "stdout",
     "output_type": "stream",
     "text": [
      "(22632,) (22632,)\n"
     ]
    }
   ],
   "source": [
    "#подготовка данных для downsampling\n",
    "\n",
    "len_toxic = (target_train_downsample == 1).sum()\n",
    "features_train_downsample = pd.concat([features_train_downsample[target_train_downsample == 1]] + [features_train_downsample[target_train_downsample == 0]\n",
    "                               .sample(len_toxic,random_state=42)])\n",
    "\n",
    "target_train_downsample = pd.concat([target_train_downsample[target_train_downsample == 1]] + [target_train_downsample[target_train_downsample == 0]\n",
    "                                                                                               .sample(len_toxic,random_state=42)])\n",
    "                    \n",
    "#перемешиваем данные\n",
    "features_train_downsample, target_train_downsample = shuffle(features_train_downsample, target_train_downsample, random_state=42)\n",
    "print(features_train_downsample.shape,target_train_downsample.shape )"
   ]
  },
  {
   "cell_type": "code",
   "execution_count": 215,
   "id": "84c06720",
   "metadata": {},
   "outputs": [
    {
     "data": {
      "text/plain": [
       "1    11316\n",
       "0    11316\n",
       "Name: toxic, dtype: int64"
      ]
     },
     "execution_count": 215,
     "metadata": {},
     "output_type": "execute_result"
    }
   ],
   "source": [
    "target_train_downsample.value_counts()"
   ]
  },
  {
   "cell_type": "code",
   "execution_count": 216,
   "id": "77dc7114",
   "metadata": {},
   "outputs": [
    {
     "name": "stdout",
     "output_type": "stream",
     "text": [
      "(22632, 49578)\n",
      "(38816, 49578)\n",
      "Wall time: 1.89 s\n"
     ]
    }
   ],
   "source": [
    "%%time\n",
    "#переведем слова в векторное представление с помощью метода TF-IDF\n",
    "stop_words = set(stopwords.words('english'))\n",
    "count_tfidf = TfidfVectorizer(stop_words=stop_words,ngram_range=(1, 1))\n",
    "features_train_downsample = count_tfidf.fit_transform(features_train_downsample)\n",
    "features_test_downsample = count_tfidf.transform(features_test_downsample)\n",
    "print(features_train_downsample.shape)\n",
    "print(features_test_downsample.shape)"
   ]
  },
  {
   "cell_type": "markdown",
   "id": "ac1a437c",
   "metadata": {},
   "source": [
    "### BERT"
   ]
  },
  {
   "cell_type": "markdown",
   "id": "acf0d2f8",
   "metadata": {},
   "source": [
    "Подготовим данные при помощи предобученной модели BERT на основании очищенного и лемматизированного сэмпла из 5000 строк"
   ]
  },
  {
   "cell_type": "code",
   "execution_count": 61,
   "id": "57fbea86",
   "metadata": {},
   "outputs": [
    {
     "name": "stderr",
     "output_type": "stream",
     "text": [
      "Some weights of the model checkpoint at distilbert-base-uncased were not used when initializing DistilBertModel: ['vocab_projector.weight', 'vocab_transform.weight', 'vocab_layer_norm.bias', 'vocab_projector.bias', 'vocab_transform.bias', 'vocab_layer_norm.weight']\n",
      "- This IS expected if you are initializing DistilBertModel from the checkpoint of a model trained on another task or with another architecture (e.g. initializing a BertForSequenceClassification model from a BertForPreTraining model).\n",
      "- This IS NOT expected if you are initializing DistilBertModel from the checkpoint of a model that you expect to be exactly identical (initializing a BertForSequenceClassification model from a BertForSequenceClassification model).\n",
      "Truncation was not explicitly activated but `max_length` is provided a specific value, please use `truncation=True` to explicitly truncate examples to max length. Defaulting to 'longest_first' truncation strategy. If you encode pairs of sequences (GLUE-style) with the tokenizer you can select this strategy more precisely by providing a specific strategy to `truncation`.\n"
     ]
    },
    {
     "name": "stdout",
     "output_type": "stream",
     "text": [
      "Wall time: 9.01 s\n"
     ]
    }
   ],
   "source": [
    "%%time\n",
    "model_class, tokenizer_class, pretrained_weights = (transformers.DistilBertModel, transformers.DistilBertTokenizer, 'distilbert-base-uncased')\n",
    "tokenizer = tokenizer_class.from_pretrained(pretrained_weights)\n",
    "model = model_class.from_pretrained(pretrained_weights)\n",
    "\n",
    "tokenized = data_sample.iloc[0:4992]['lemms'].apply((lambda x: tokenizer.encode(x, add_special_tokens=True,max_length=512)))\n"
   ]
  },
  {
   "cell_type": "code",
   "execution_count": 62,
   "id": "5b370f26",
   "metadata": {},
   "outputs": [
    {
     "name": "stdout",
     "output_type": "stream",
     "text": [
      "512\n",
      "(4992, 512)\n"
     ]
    }
   ],
   "source": [
    "max_len = len(max(tokenized, key=len))\n",
    "print(max_len)\n",
    "\n",
    "padded = np.array([i + [0]*(max_len-len(i)) for i in tokenized.values])\n",
    "print(padded.shape)"
   ]
  },
  {
   "cell_type": "code",
   "execution_count": 63,
   "id": "f4ea778e",
   "metadata": {},
   "outputs": [
    {
     "data": {
      "text/plain": [
       "(4992, 512)"
      ]
     },
     "execution_count": 63,
     "metadata": {},
     "output_type": "execute_result"
    }
   ],
   "source": [
    "attention_mask = np.where(padded != 0, 1, 0)\n",
    "attention_mask.shape\n"
   ]
  },
  {
   "cell_type": "code",
   "execution_count": 64,
   "id": "d5e8c4a3",
   "metadata": {},
   "outputs": [
    {
     "data": {
      "application/vnd.jupyter.widget-view+json": {
       "model_id": "ec1af500f3dc44e09df53f7ab6dea03b",
       "version_major": 2,
       "version_minor": 0
      },
      "text/plain": [
       "  0%|          | 0/78 [00:00<?, ?it/s]"
      ]
     },
     "metadata": {},
     "output_type": "display_data"
    },
    {
     "name": "stdout",
     "output_type": "stream",
     "text": [
      "Wall time: 43min 18s\n"
     ]
    }
   ],
   "source": [
    "%%time\n",
    "batch_size = 64\n",
    "embeddings = []\n",
    "for i in notebook.tqdm(range(padded.shape[0] // batch_size)):\n",
    "        batch = torch.LongTensor(padded[batch_size*i:batch_size*(i+1)]) \n",
    "        attention_mask_batch = torch.LongTensor(attention_mask[batch_size*i:batch_size*(i+1)])\n",
    "        \n",
    "        with torch.no_grad():\n",
    "            batch_embeddings = model(batch, attention_mask=attention_mask_batch)\n",
    "        \n",
    "        embeddings.append(batch_embeddings[0][:,0,:].numpy())"
   ]
  },
  {
   "cell_type": "code",
   "execution_count": 66,
   "id": "f2d9f908",
   "metadata": {},
   "outputs": [],
   "source": [
    "features_bert = np.concatenate(embeddings)\n",
    "target_bert = data_sample.iloc[0:4992]['toxic']\n",
    "features_train_bert, features_test_bert, target_train_bert, target_test_bert = train_test_split(features_bert,\n",
    "                                                                                                target_bert, \n",
    "                                                                                                test_size=0.25,\n",
    "                                                                                                stratify=target_bert,\n",
    "                                                                                                random_state=42)\n"
   ]
  },
  {
   "cell_type": "code",
   "execution_count": 78,
   "id": "5b5c7480",
   "metadata": {},
   "outputs": [
    {
     "name": "stdout",
     "output_type": "stream",
     "text": [
      "(3744, 768) (3744,)\n",
      "(1248, 768) (1248,)\n"
     ]
    }
   ],
   "source": [
    "print(features_train_bert.shape,target_train_bert.shape)\n",
    "print(features_test_bert.shape,target_test_bert.shape)"
   ]
  },
  {
   "cell_type": "markdown",
   "id": "54776a6e",
   "metadata": {},
   "source": [
    "Поскольку даже на сэмпле в 5000 строк подготовка данных заняла больше 1 часа, на полном датасете не запускаю."
   ]
  },
  {
   "cell_type": "raw",
   "id": "2ac28a8c",
   "metadata": {},
   "source": [
    "%%time\n",
    "model = model_class.from_pretrained(pretrained_weights)\n",
    "tokenized_clean = data_clean['clean_texts'].apply((lambda x: tokenizer.encode(x, add_special_tokens=True,max_length=512)))\n",
    "\n",
    "max_len = len(max(tokenized_clean, key=len))\n",
    "print(max_len)\n",
    "\n",
    "padded_clean = np.array([i + [0]*(max_len-len(i)) for i in tokenized_clean.values])\n",
    "print(padded_clean.shape)\n",
    "\n",
    "attention_mask_clean = np.where(padded != 0, 1, 0)\n",
    "print(attention_mask.shape)\n"
   ]
  },
  {
   "cell_type": "raw",
   "id": "8354485a",
   "metadata": {},
   "source": [
    "%%time\n",
    "batch_size = 128\n",
    "embeddings = []\n",
    "for i in notebook.tqdm(range(padded_clean.shape[0] // batch_size)):\n",
    "        batch = torch.LongTensor(padded_clean[batch_size*i:batch_size*(i+1)]) \n",
    "        attention_mask_batch = torch.LongTensor(attention_mask_clean[batch_size*i:batch_size*(i+1)])\n",
    "        \n",
    "        with torch.no_grad():\n",
    "            batch_embeddings = model(batch, attention_mask=attention_mask_batch)\n",
    "        \n",
    "        embeddings.append(batch_embeddings[0][:,0,:].numpy())"
   ]
  },
  {
   "cell_type": "markdown",
   "id": "ca6cacb6",
   "metadata": {},
   "source": [
    "## Обучение моделей"
   ]
  },
  {
   "cell_type": "markdown",
   "id": "70c31f6d",
   "metadata": {},
   "source": [
    "### Константная модель"
   ]
  },
  {
   "cell_type": "code",
   "execution_count": 71,
   "id": "ee7b99d3",
   "metadata": {},
   "outputs": [],
   "source": [
    "#списки для записи работы моделей\n",
    "result_lemms=[]\n",
    "result_clean=[]\n",
    "result_downsample=[]\n",
    "result_bert=[]\n"
   ]
  },
  {
   "cell_type": "code",
   "execution_count": 72,
   "id": "164f1ce1",
   "metadata": {},
   "outputs": [
    {
     "name": "stdout",
     "output_type": "stream",
     "text": [
      "f1 на константной модели 0.1853375272199371\n"
     ]
    }
   ],
   "source": [
    "#в качетве константной модели используем предсказание целевого класса 1\n",
    "predictions_const = pd.Series(1,index=target_train.index)\n",
    "f1_const = f1_score(target_train,predictions_const)\n",
    "print('f1 на константной модели', f1_const)\n",
    "result_lemms.append(f1_const)\n",
    "result_clean.append(f1_const)\n",
    "result_downsample.append(f1_const)\n",
    "result_bert.append(f1_const)\n"
   ]
  },
  {
   "cell_type": "markdown",
   "id": "58eed1b4",
   "metadata": {},
   "source": [
    "### Логистическая регрессия"
   ]
  },
  {
   "cell_type": "code",
   "execution_count": 73,
   "id": "4d60052b",
   "metadata": {},
   "outputs": [
    {
     "name": "stdout",
     "output_type": "stream",
     "text": [
      "Лучшие гиперпараметры: {'C': 13, 'penalty': 'l2'}\n",
      "Лучший f1 на лемматизированных данных в 5000 строк: 0.669568597642482\n",
      "Wall time: 31.9 s\n"
     ]
    }
   ],
   "source": [
    "%%time\n",
    "# модель для сокращенного лемматизированного набора данных\n",
    "pipe_lr = Pipeline([('clf', LogisticRegression(class_weight = 'balanced',\n",
    "                                               n_jobs=4, \n",
    "                                               random_state=42)\n",
    "                ])\n",
    "params_lr  = {'penalty':['l1','l2','elasticnet'],\n",
    "                'C':range(1,50)\n",
    "            }\n",
    "\n",
    "grid_lr = GridSearchCV(estimator = pipe_lr,\n",
    "                       param_grid=params_lr,\n",
    "                       scoring ='f1',\n",
    "                       cv=5,\n",
    "                       n_jobs=4\n",
    "                      )\n",
    "\n",
    "\n",
    "grid_lr.fit(features_train, target_train)\n",
    "                    \n",
    "print('Лучшие гиперпараметры:', grid_lr.best_params_)\n",
    "print('Лучший f1 на лемматизированных данных в 5000 строк:',grid_lr.best_score_)\n",
    "result_lemms.append(grid_lr.best_score_)\n"
   ]
  },
  {
   "cell_type": "code",
   "execution_count": 74,
   "id": "2416a270",
   "metadata": {},
   "outputs": [
    {
     "name": "stdout",
     "output_type": "stream",
     "text": [
      "f1 на очищенных данных: 0.7621981190514512\n",
      "Wall time: 21.2 s\n"
     ]
    }
   ],
   "source": [
    "%%time\n",
    "# модель для очищенного набора данных\n",
    "# поскольку с подбором параметров модель работает очень долго, в качестве лучших гиперпараметрах примем те, \n",
    "#которые были подобраны на сэмпле\n",
    "model = LogisticRegression(class_weight = 'balanced',n_jobs=4, random_state=42,C=13,penalty='l2')\n",
    "model.fit(features_train_clean, target_train_clean)\n",
    "f1 = np.mean(cross_val_score(model,features_train_clean, target_train_clean,cv=5,scoring='f1'))\n",
    "print('f1 на очищенных данных:',f1)\n",
    "result_clean.append(f1)\n"
   ]
  },
  {
   "cell_type": "code",
   "execution_count": 219,
   "id": "d71136cb",
   "metadata": {},
   "outputs": [
    {
     "name": "stdout",
     "output_type": "stream",
     "text": [
      "Лучшие гиперпараметры: {'C': 8, 'penalty': 'l2'}\n",
      "Лучший f1 на downsampling: 0.8922016556079809\n",
      "Wall time: 1min 56s\n"
     ]
    }
   ],
   "source": [
    "%%time\n",
    "# модель для downsampling\n",
    "pipe_lr = Pipeline([('clf', LogisticRegression(class_weight = 'balanced',\n",
    "                                               n_jobs=4, \n",
    "                                               random_state=42)\n",
    "                ])\n",
    "params_lr  = {'penalty':['l1','l2','elasticnet'],\n",
    "                'C':range(1,50)\n",
    "            }\n",
    "\n",
    "grid_lr = GridSearchCV(estimator = pipe_lr,\n",
    "                       param_grid=params_lr,\n",
    "                       scoring ='f1',\n",
    "                       cv=5,\n",
    "                       n_jobs=4\n",
    "                      )\n",
    "\n",
    "\n",
    "grid_lr.fit(features_train, target_train)\n",
    "print('Лучшие гиперпараметры:', grid_lr.best_params_)\n",
    "print('Лучший f1 на downsampling:',grid_lr.best_score_)\n",
    "result_downsample.append(grid_lr.best_score_)\n",
    "params_downsample.append(grid_lr.best_params_)"
   ]
  },
  {
   "cell_type": "code",
   "execution_count": 77,
   "id": "24167f59",
   "metadata": {},
   "outputs": [
    {
     "name": "stdout",
     "output_type": "stream",
     "text": [
      "Лучшие гиперпараметры: {'C': 4, 'penalty': 'l2'}\n",
      "Лучший f1 на лемматизированных данных в 5000 строк: 0.6929214849936483\n",
      "Wall time: 13min 54s\n"
     ]
    }
   ],
   "source": [
    "%%time\n",
    "# модель для обрабоки BERT\n",
    "pipe_lr = Pipeline([('clf', LogisticRegression(class_weight = 'balanced',\n",
    "                                               n_jobs=4, \n",
    "                                               random_state=42)\n",
    "                ])\n",
    "params_lr  = {'penalty':['l1','l2','elasticnet'],\n",
    "                'C':range(1,50)\n",
    "            }\n",
    "\n",
    "grid_lr = GridSearchCV(estimator = pipe_lr,\n",
    "                       param_grid=params_lr,\n",
    "                       scoring ='f1',\n",
    "                       cv=5,\n",
    "                       n_jobs=4\n",
    "                      )\n",
    "\n",
    "\n",
    "grid_lr.fit(features_train, target_train)\n",
    "print('Лучшие гиперпараметры:', grid_lr.best_params_)\n",
    "print('Лучший f1 на лемматизированных данных в 5000 строк:',grid_lr.best_score_)\n",
    "result_bert.append(grid_lr.best_score_)\n",
    "params_bert.append(grid_lr.best_params_)\n"
   ]
  },
  {
   "cell_type": "markdown",
   "id": "8e843a6b",
   "metadata": {},
   "source": [
    "### Случайный лес"
   ]
  },
  {
   "cell_type": "code",
   "execution_count": 79,
   "id": "fb5b75a8",
   "metadata": {},
   "outputs": [
    {
     "name": "stdout",
     "output_type": "stream",
     "text": [
      "Лучшие гиперпараметры: {'max_depth': 9, 'n_estimators': 55}\n",
      "Лучший f1: 0.49681170952908393\n",
      "Wall time: 17.9 s\n"
     ]
    }
   ],
   "source": [
    "%%time\n",
    "# модель для сокращенного лемматизированного набора данных\n",
    "pipe_rf = Pipeline([('clf',  RandomForestClassifier(class_weight = 'balanced', \n",
    "                                                    n_jobs=4,\n",
    "                                                    random_state=42)\n",
    "                ])\n",
    "params_rf  = {'n_estimators':range(50, 100, 5),\n",
    "                        'max_depth':range(1, 10)} \n",
    "\n",
    "grid_rf = GridSearchCV(estimator = pipe_rf,\n",
    "                       param_grid=params_rf,\n",
    "                       scoring ='f1',\n",
    "                       cv=5,\n",
    "                       n_jobs=4\n",
    "                      )\n",
    "\n",
    "\n",
    "grid_rf.fit(features_train, target_train)\n",
    "\n",
    "\n",
    "print('Лучшие гиперпараметры:',grid_rf.best_params_)\n",
    "print('Лучший f1:', grid_rf.best_score_)\n",
    "result_lemms.append(grid_rf.best_score_)\n"
   ]
  },
  {
   "cell_type": "code",
   "execution_count": 80,
   "id": "307f403b",
   "metadata": {},
   "outputs": [
    {
     "name": "stdout",
     "output_type": "stream",
     "text": [
      "Лучшие гиперпараметры: {'max_depth': 9, 'n_estimators': 90}\n",
      "Лучший f1: 0.3588833641533447\n",
      "Wall time: 9min 6s\n"
     ]
    }
   ],
   "source": [
    "%%time\n",
    "# модель для очищенного набора данных\n",
    "pipe_rf = Pipeline([('clf',  RandomForestClassifier(class_weight = 'balanced', \n",
    "                                                    n_jobs=4,\n",
    "                                                    random_state=42)\n",
    "                ])\n",
    "params_rf  = {'n_estimators':range(50, 100, 5),\n",
    "                        'max_depth':range(1, 10)} \n",
    "\n",
    "grid_rf = GridSearchCV(estimator = pipe_rf,\n",
    "                       param_grid=params_rf,\n",
    "                       scoring ='f1',\n",
    "                       cv=5,\n",
    "                       n_jobs=4\n",
    "                      )\n",
    "\n",
    "\n",
    "grid_rf.fit(features_train_clean, target_train_clean)\n",
    "\n",
    "\n",
    "print('Лучшие гиперпараметры:',grid_rf.best_params_)\n",
    "print('Лучший f1:', grid_rf.best_score_)\n",
    "result_clean.append(grid_rf.best_score_)\n"
   ]
  },
  {
   "cell_type": "code",
   "execution_count": 220,
   "id": "1bfdb5e2",
   "metadata": {},
   "outputs": [
    {
     "name": "stdout",
     "output_type": "stream",
     "text": [
      "Лучшие гиперпараметры: {'max_depth': 9, 'n_estimators': 90}\n",
      "Лучший f1 на downsampling: 0.7997816449604916\n",
      "Wall time: 1min 10s\n"
     ]
    }
   ],
   "source": [
    "%%time\n",
    "# модель для downsampling\n",
    "\n",
    "pipe_rf = Pipeline([('clf',  RandomForestClassifier(class_weight = 'balanced', \n",
    "                                                    n_jobs=4,\n",
    "                                                    random_state=42)\n",
    "                ])\n",
    "params_rf  = {'n_estimators':range(50, 100, 5),\n",
    "                        'max_depth':range(1, 10)} \n",
    "\n",
    "grid_rf = GridSearchCV(estimator = pipe_rf,\n",
    "                       param_grid=params_rf,\n",
    "                       scoring ='f1',\n",
    "                       cv=5,\n",
    "                       n_jobs=4\n",
    "                      )\n",
    "\n",
    "\n",
    "grid_rf.fit(features_train_downsample,target_train_downsample)\n",
    "\n",
    "\n",
    "print('Лучшие гиперпараметры:',grid_rf.best_params_)\n",
    "print('Лучший f1 на downsampling:', grid_rf.best_score_)\n",
    "result_downsample.append(grid_rf.best_score_)\n"
   ]
  },
  {
   "cell_type": "code",
   "execution_count": 82,
   "id": "9950871e",
   "metadata": {},
   "outputs": [
    {
     "name": "stdout",
     "output_type": "stream",
     "text": [
      "Лучшие гиперпараметры: {'max_depth': 7, 'n_estimators': 60}\n",
      "Лучший f1: 0.671410251909552\n",
      "Wall time: 1min 42s\n"
     ]
    }
   ],
   "source": [
    "%%time\n",
    "# модель для обрабоки BERT\n",
    "pipe_rf = Pipeline([('clf',  RandomForestClassifier(class_weight = 'balanced', \n",
    "                                                    n_jobs=4,\n",
    "                                                    random_state=42)\n",
    "                ])\n",
    "params_rf  = {'n_estimators':range(50, 100, 5),\n",
    "                        'max_depth':range(1, 10)} \n",
    "\n",
    "grid_rf = GridSearchCV(estimator = pipe_rf,\n",
    "                       param_grid=params_rf,\n",
    "                       scoring ='f1',\n",
    "                       cv=5,\n",
    "                       n_jobs=4\n",
    "                      )\n",
    "\n",
    "\n",
    "grid_rf.fit(features_train_bert, target_train_bert)\n",
    "\n",
    "\n",
    "print('Лучшие гиперпараметры:',grid_rf.best_params_)\n",
    "print('Лучший f1:', grid_rf.best_score_)\n",
    "result_bert.append(grid_rf.best_score_)\n"
   ]
  },
  {
   "cell_type": "markdown",
   "id": "d8e937ce",
   "metadata": {},
   "source": [
    "### Light GBM"
   ]
  },
  {
   "cell_type": "code",
   "execution_count": 83,
   "id": "d0b207ad",
   "metadata": {},
   "outputs": [
    {
     "name": "stdout",
     "output_type": "stream",
     "text": [
      "Лучшие гиперпараметры: {'learning_rate': 0.01, 'max_depth': 2, 'n_estimators': 500, 'objective': 'binary'}\n",
      "Лучший f1: 0.5177029294102465\n",
      "Wall time: 6min 33s\n"
     ]
    }
   ],
   "source": [
    "%%time\n",
    "# модель для сокращенного лемматизированного набора данных\n",
    "pipe_lgbm = Pipeline([('clf', lgb.LGBMClassifier(class_weight = 'balanced')\n",
    "                ])\n",
    "params_lgb  = {'objective':['binary'],\n",
    "            'n_estimators':[10,100,500,1000,1500,2000],\n",
    "            'max_depth':range(1,10,1),\n",
    "            'learning_rate':[0.01,0.1,0.15,0.2,0.25,0.3]}\n",
    "\n",
    "grid_lgb = GridSearchCV(estimator = pipe_lgbm,\n",
    "                       param_grid=params_lgb,\n",
    "                       scoring ='f1',\n",
    "                       cv=5,\n",
    "                       n_jobs=4\n",
    "                      )\n",
    "\n",
    "\n",
    "grid_lgb.fit(features_train, target_train)\n",
    "\n",
    "\n",
    "print('Лучшие гиперпараметры:', grid_lgb.best_params_)\n",
    "print('Лучший f1:',grid_lgb.best_score_)\n",
    "result_lemms.append(grid_lgb.best_score_)\n"
   ]
  },
  {
   "cell_type": "code",
   "execution_count": 90,
   "id": "e4c57772",
   "metadata": {},
   "outputs": [
    {
     "name": "stdout",
     "output_type": "stream",
     "text": [
      "f1: 0.7614708234009909\n",
      "Wall time: 5min 57s\n"
     ]
    }
   ],
   "source": [
    "%%time\n",
    "# модель для очищенного набора данных\n",
    "# поскольку с подбором параметров модель работает очень долго, в качестве лучших гиперпараметрах примем те, \n",
    "#которые были подобраны на сэмпле\n",
    "model_boost = lgb.LGBMClassifier(class_weight = 'balanced',\n",
    "                                 n_estimators=1000,\n",
    "                                 max_depth=7,\n",
    "                                 learning_rate=0.15,\n",
    "                                 objective='binary')\n",
    "\n",
    "model_boost.fit(features_train_clean, target_train_clean)\n",
    "f1_clean = np.mean(cross_val_score(model_boost,features_train_clean, target_train_clean,scoring='f1',cv=5))\n",
    "\n",
    "print('f1:',f1_clean)\n",
    "result_clean.append(f1_clean)\n"
   ]
  },
  {
   "cell_type": "code",
   "execution_count": 221,
   "id": "7731d819",
   "metadata": {},
   "outputs": [
    {
     "name": "stdout",
     "output_type": "stream",
     "text": [
      "f1: 0.8881967831095225\n",
      "Wall time: 56.8 s\n"
     ]
    }
   ],
   "source": [
    "%%time\n",
    "# модель для downsampling\n",
    "# поскольку с подбором параметров модель работает очень долго, в качестве лучших гиперпараметрах примем те, \n",
    "#которые были подобраны на сэмпле\n",
    "model_boost = lgb.LGBMClassifier(class_weight = 'balanced',\n",
    "                                 n_estimators=1000,\n",
    "                                 max_depth=7,\n",
    "                                 learning_rate=0.15,\n",
    "                                 objective='binary')\n",
    "model_boost.fit(features_train_downsample, target_train_downsample)\n",
    "f1 = np.mean(cross_val_score(model_boost,features_train_downsample, target_train_downsample,scoring='f1',cv=5))\n",
    "print('f1:',f1)\n",
    "result_downsample.append(f1)\n"
   ]
  },
  {
   "cell_type": "code",
   "execution_count": 89,
   "id": "2786ea37",
   "metadata": {},
   "outputs": [
    {
     "name": "stdout",
     "output_type": "stream",
     "text": [
      "Лучшие гиперпараметры: {'objective': 'binary', 'n_estimators': 1000, 'max_depth': 1, 'learning_rate': 0.2}\n",
      "Лучший f1: 0.6724773368032964\n",
      "Wall time: 1min 26s\n"
     ]
    }
   ],
   "source": [
    "%%time\n",
    "# модель для обрабоки BERT\n",
    "\n",
    "pipe_lgbm = Pipeline([('clf', lgb.LGBMClassifier(class_weight = 'balanced')\n",
    "                ])\n",
    "params_lgb  = {'objective':['binary'],\n",
    "            'n_estimators':[10,100,500,1000],\n",
    "            'max_depth':range(1,10,1),\n",
    "            'learning_rate':[0.01,0.1,0.15,0.2,0.25]}\n",
    "\n",
    "grid_lgb = GridSearchCV(estimator = pipe_lgbm,\n",
    "                       param_grid=params_lgb,\n",
    "                       scoring ='f1',\n",
    "                       cv=5,\n",
    "                       n_jobs=4\n",
    "                      )\n",
    "\n",
    "\n",
    "grid_lgb.fit(features_train_bert, target_train_bert)\n",
    "\n",
    "\n",
    "print('Лучшие гиперпараметры:', grid_lgb.best_params_)\n",
    "print('Лучший f1:',grid_lgb.best_score_)\n",
    "result_bert.append(grid_lgb.best_score_)\n"
   ]
  },
  {
   "cell_type": "markdown",
   "id": "019fae1f",
   "metadata": {},
   "source": [
    "### XGBoost"
   ]
  },
  {
   "cell_type": "code",
   "execution_count": 93,
   "id": "6278ceb8",
   "metadata": {},
   "outputs": [
    {
     "name": "stdout",
     "output_type": "stream",
     "text": [
      "f1: 0.5848833145520813\n",
      "Wall time: 2.18 s\n"
     ]
    }
   ],
   "source": [
    "%%time\n",
    "# модель для сокращенного лемматизированного набора данных\n",
    "xgb_r = xgb.XGBClassifier(n_estimators = 100, seed = 123)\n",
    "xgb_r.fit(features_train,target_train)\n",
    "preds = xgb_r.predict(features_test)\n",
    "cvs = cross_val_score(xgb_r,features_train,target_train,cv=5,scoring='f1')\n",
    "print('f1:',np.mean(cvs))\n",
    "\n",
    "\n",
    "result_lemms.append(np.mean(cvs)) "
   ]
  },
  {
   "cell_type": "code",
   "execution_count": 94,
   "id": "8c898e9a",
   "metadata": {},
   "outputs": [
    {
     "name": "stdout",
     "output_type": "stream",
     "text": [
      "f1: 0.7120602840296606\n",
      "Wall time: 1min 11s\n"
     ]
    }
   ],
   "source": [
    "%%time\n",
    "# модель для очищенного набора данных\n",
    "xgb_r = xgb.XGBClassifier(n_estimators = 100, seed = 123)\n",
    "xgb_r.fit(features_train_clean,target_train_clean)\n",
    "cvs = cross_val_score(xgb_r,features_train_clean,target_train_clean,cv=5,scoring='f1')\n",
    "print('f1:',np.mean(cvs))\n",
    "\n",
    "result_clean.append(np.mean(cvs)) "
   ]
  },
  {
   "cell_type": "code",
   "execution_count": 222,
   "id": "3a2d28f6",
   "metadata": {},
   "outputs": [
    {
     "name": "stdout",
     "output_type": "stream",
     "text": [
      "f1: 0.8639143140099715\n",
      "Wall time: 17.2 s\n"
     ]
    }
   ],
   "source": [
    "%%time\n",
    "# модель для downsampling\n",
    "xgb_r = xgb.XGBClassifier(n_estimators = 100, seed = 123)\n",
    "xgb_r.fit(features_train_downsample, target_train_downsample)\n",
    "cvs = cross_val_score(xgb_r,features_train_downsample, target_train_downsample,cv=5,scoring='f1')\n",
    "print('f1:',np.mean(cvs))\n",
    "\n",
    "result_downsample.append(np.mean(cvs)) "
   ]
  },
  {
   "cell_type": "code",
   "execution_count": 96,
   "id": "b258b532",
   "metadata": {},
   "outputs": [
    {
     "name": "stdout",
     "output_type": "stream",
     "text": [
      "f1: 0.5353041695146958\n",
      "Wall time: 18.6 s\n"
     ]
    }
   ],
   "source": [
    "%%time\n",
    "# модель для обрабоки BERT\n",
    "xgb_r = xgb.XGBClassifier(n_estimators = 100, seed = 123)\n",
    "xgb_r.fit(features_train_bert,target_train_bert)\n",
    "cvs = cross_val_score(xgb_r,features_train_bert,target_train_bert,cv=5,scoring='recall')\n",
    "print('f1:',np.mean(cvs))\n",
    "\n",
    "result_bert.append(np.mean(cvs)) "
   ]
  },
  {
   "cell_type": "markdown",
   "id": "73b1caf6",
   "metadata": {},
   "source": [
    "### CatBoost"
   ]
  },
  {
   "cell_type": "code",
   "execution_count": 98,
   "id": "9f38b04f",
   "metadata": {
    "collapsed": true
   },
   "outputs": [
    {
     "name": "stdout",
     "output_type": "stream",
     "text": [
      "0:\tlearn: 0.2663657\ttotal: 251ms\tremaining: 12.3s\n",
      "1:\tlearn: 0.4057971\ttotal: 302ms\tremaining: 7.25s\n",
      "2:\tlearn: 0.5386064\ttotal: 353ms\tremaining: 5.52s\n",
      "3:\tlearn: 0.5505618\ttotal: 404ms\tremaining: 4.64s\n",
      "4:\tlearn: 0.5267176\ttotal: 454ms\tremaining: 4.08s\n",
      "5:\tlearn: 0.5745856\ttotal: 506ms\tremaining: 3.71s\n",
      "6:\tlearn: 0.5901639\ttotal: 561ms\tremaining: 3.45s\n",
      "7:\tlearn: 0.5901639\ttotal: 611ms\tremaining: 3.21s\n",
      "8:\tlearn: 0.5952813\ttotal: 665ms\tremaining: 3.03s\n",
      "9:\tlearn: 0.6129032\ttotal: 714ms\tremaining: 2.85s\n",
      "10:\tlearn: 0.6276596\ttotal: 778ms\tremaining: 2.76s\n",
      "11:\tlearn: 0.6287744\ttotal: 833ms\tremaining: 2.64s\n",
      "12:\tlearn: 0.6214286\ttotal: 888ms\tremaining: 2.53s\n",
      "13:\tlearn: 0.6479860\ttotal: 940ms\tremaining: 2.42s\n",
      "14:\tlearn: 0.6758148\ttotal: 990ms\tremaining: 2.31s\n",
      "15:\tlearn: 0.6870748\ttotal: 1.04s\tremaining: 2.21s\n",
      "16:\tlearn: 0.6981450\ttotal: 1.09s\tremaining: 2.12s\n",
      "17:\tlearn: 0.7056856\ttotal: 1.14s\tremaining: 2.02s\n",
      "18:\tlearn: 0.6969697\ttotal: 1.19s\tremaining: 1.94s\n",
      "19:\tlearn: 0.7164179\ttotal: 1.24s\tremaining: 1.86s\n",
      "20:\tlearn: 0.7548387\ttotal: 1.29s\tremaining: 1.78s\n",
      "21:\tlearn: 0.7600644\ttotal: 1.34s\tremaining: 1.71s\n",
      "22:\tlearn: 0.7660256\ttotal: 1.39s\tremaining: 1.63s\n",
      "23:\tlearn: 0.7835703\ttotal: 1.44s\tremaining: 1.56s\n",
      "24:\tlearn: 0.7758347\ttotal: 1.49s\tremaining: 1.49s\n",
      "25:\tlearn: 0.7816456\ttotal: 1.54s\tremaining: 1.42s\n",
      "26:\tlearn: 0.7816456\ttotal: 1.59s\tremaining: 1.35s\n",
      "27:\tlearn: 0.7835703\ttotal: 1.64s\tremaining: 1.29s\n",
      "28:\tlearn: 0.7912088\ttotal: 1.69s\tremaining: 1.23s\n",
      "29:\tlearn: 0.8043478\ttotal: 1.74s\tremaining: 1.16s\n",
      "30:\tlearn: 0.8024883\ttotal: 1.79s\tremaining: 1.1s\n",
      "31:\tlearn: 0.8024883\ttotal: 1.84s\tremaining: 1.03s\n",
      "32:\tlearn: 0.8024883\ttotal: 1.9s\tremaining: 977ms\n",
      "33:\tlearn: 0.8080495\ttotal: 1.95s\tremaining: 918ms\n",
      "34:\tlearn: 0.8172043\ttotal: 2s\tremaining: 859ms\n",
      "35:\tlearn: 0.8190184\ttotal: 2.05s\tremaining: 799ms\n",
      "36:\tlearn: 0.8190184\ttotal: 2.1s\tremaining: 740ms\n",
      "37:\tlearn: 0.8190184\ttotal: 2.16s\tremaining: 681ms\n",
      "38:\tlearn: 0.8190184\ttotal: 2.21s\tremaining: 623ms\n",
      "39:\tlearn: 0.8172043\ttotal: 2.26s\tremaining: 564ms\n",
      "40:\tlearn: 0.8190184\ttotal: 2.31s\tremaining: 506ms\n",
      "41:\tlearn: 0.8190184\ttotal: 2.36s\tremaining: 450ms\n",
      "42:\tlearn: 0.8190184\ttotal: 2.42s\tremaining: 394ms\n",
      "43:\tlearn: 0.8226300\ttotal: 2.47s\tremaining: 337ms\n",
      "44:\tlearn: 0.8208270\ttotal: 2.52s\tremaining: 281ms\n",
      "45:\tlearn: 0.8368580\ttotal: 2.58s\tremaining: 224ms\n",
      "46:\tlearn: 0.8421053\ttotal: 2.63s\tremaining: 168ms\n",
      "47:\tlearn: 0.8455772\ttotal: 2.69s\tremaining: 112ms\n",
      "48:\tlearn: 0.8455772\ttotal: 2.74s\tremaining: 56ms\n",
      "49:\tlearn: 0.8507463\ttotal: 2.79s\tremaining: 0us\n",
      "0:\tlearn: 0.2356322\ttotal: 54.6ms\tremaining: 2.68s\n",
      "1:\tlearn: 0.3989637\ttotal: 99.3ms\tremaining: 2.38s\n",
      "2:\tlearn: 0.4878049\ttotal: 146ms\tremaining: 2.28s\n",
      "3:\tlearn: 0.5000000\ttotal: 188ms\tremaining: 2.16s\n",
      "4:\tlearn: 0.4864865\ttotal: 231ms\tremaining: 2.08s\n",
      "5:\tlearn: 0.5012165\ttotal: 273ms\tremaining: 2s\n",
      "6:\tlearn: 0.5215311\ttotal: 319ms\tremaining: 1.96s\n",
      "7:\tlearn: 0.5250597\ttotal: 367ms\tremaining: 1.93s\n",
      "8:\tlearn: 0.5601852\ttotal: 410ms\tremaining: 1.87s\n",
      "9:\tlearn: 0.6022472\ttotal: 454ms\tremaining: 1.81s\n",
      "10:\tlearn: 0.5959368\ttotal: 496ms\tremaining: 1.76s\n",
      "11:\tlearn: 0.6269316\ttotal: 538ms\tremaining: 1.7s\n",
      "12:\tlearn: 0.6623932\ttotal: 584ms\tremaining: 1.66s\n",
      "13:\tlearn: 0.6737288\ttotal: 626ms\tremaining: 1.61s\n",
      "14:\tlearn: 0.6765328\ttotal: 677ms\tremaining: 1.58s\n",
      "15:\tlearn: 0.6876310\ttotal: 722ms\tremaining: 1.53s\n",
      "16:\tlearn: 0.6903766\ttotal: 767ms\tremaining: 1.49s\n",
      "17:\tlearn: 0.7039337\ttotal: 808ms\tremaining: 1.44s\n",
      "18:\tlearn: 0.7039337\ttotal: 873ms\tremaining: 1.42s\n",
      "19:\tlearn: 0.7160494\ttotal: 915ms\tremaining: 1.37s\n",
      "20:\tlearn: 0.7227926\ttotal: 958ms\tremaining: 1.32s\n",
      "21:\tlearn: 0.7295082\ttotal: 1s\tremaining: 1.27s\n",
      "22:\tlearn: 0.7444668\ttotal: 1.04s\tremaining: 1.22s\n",
      "23:\tlearn: 0.7683168\ttotal: 1.08s\tremaining: 1.17s\n",
      "24:\tlearn: 0.7898833\ttotal: 1.13s\tremaining: 1.13s\n",
      "25:\tlearn: 0.7827789\ttotal: 1.17s\tremaining: 1.08s\n",
      "26:\tlearn: 0.7827789\ttotal: 1.21s\tremaining: 1.03s\n",
      "27:\tlearn: 0.7922330\ttotal: 1.26s\tremaining: 988ms\n",
      "28:\tlearn: 0.7945736\ttotal: 1.3s\tremaining: 942ms\n",
      "29:\tlearn: 0.8015414\ttotal: 1.34s\tremaining: 896ms\n",
      "30:\tlearn: 0.8015414\ttotal: 1.38s\tremaining: 849ms\n",
      "31:\tlearn: 0.8015414\ttotal: 1.43s\tremaining: 802ms\n",
      "32:\tlearn: 0.8015414\ttotal: 1.47s\tremaining: 758ms\n",
      "33:\tlearn: 0.8015414\ttotal: 1.51s\tremaining: 712ms\n",
      "34:\tlearn: 0.8107075\ttotal: 1.55s\tremaining: 666ms\n",
      "35:\tlearn: 0.8107075\ttotal: 1.6s\tremaining: 621ms\n",
      "36:\tlearn: 0.8241966\ttotal: 1.64s\tremaining: 578ms\n",
      "37:\tlearn: 0.8241966\ttotal: 1.69s\tremaining: 534ms\n",
      "38:\tlearn: 0.8241966\ttotal: 1.73s\tremaining: 489ms\n",
      "39:\tlearn: 0.8241966\ttotal: 1.78s\tremaining: 445ms\n",
      "40:\tlearn: 0.8241966\ttotal: 1.82s\tremaining: 400ms\n",
      "41:\tlearn: 0.8352060\ttotal: 1.86s\tremaining: 355ms\n",
      "42:\tlearn: 0.8395522\ttotal: 1.91s\tremaining: 311ms\n",
      "43:\tlearn: 0.8432836\ttotal: 1.95s\tremaining: 266ms\n",
      "44:\tlearn: 0.8432836\ttotal: 1.99s\tremaining: 221ms\n",
      "45:\tlearn: 0.8518519\ttotal: 2.03s\tremaining: 177ms\n",
      "46:\tlearn: 0.8497217\ttotal: 2.08s\tremaining: 133ms\n",
      "47:\tlearn: 0.8475836\ttotal: 2.12s\tremaining: 88.4ms\n",
      "48:\tlearn: 0.8475836\ttotal: 2.17s\tremaining: 44.2ms\n",
      "49:\tlearn: 0.8475836\ttotal: 2.21s\tremaining: 0us\n",
      "0:\tlearn: 0.0064935\ttotal: 73.1ms\tremaining: 3.58s\n",
      "1:\tlearn: 0.3736842\ttotal: 120ms\tremaining: 2.87s\n",
      "2:\tlearn: 0.5213270\ttotal: 161ms\tremaining: 2.53s\n",
      "3:\tlearn: 0.5202864\ttotal: 203ms\tremaining: 2.33s\n",
      "4:\tlearn: 0.5446009\ttotal: 250ms\tremaining: 2.25s\n",
      "5:\tlearn: 0.5342790\ttotal: 292ms\tremaining: 2.14s\n",
      "6:\tlearn: 0.5411765\ttotal: 332ms\tremaining: 2.04s\n",
      "7:\tlearn: 0.5458824\ttotal: 374ms\tremaining: 1.96s\n",
      "8:\tlearn: 0.5560748\ttotal: 418ms\tremaining: 1.9s\n",
      "9:\tlearn: 0.5760369\ttotal: 460ms\tremaining: 1.84s\n",
      "10:\tlearn: 0.5986395\ttotal: 506ms\tremaining: 1.79s\n",
      "11:\tlearn: 0.6143498\ttotal: 552ms\tremaining: 1.75s\n",
      "12:\tlearn: 0.6018100\ttotal: 615ms\tremaining: 1.75s\n",
      "13:\tlearn: 0.6174497\ttotal: 668ms\tremaining: 1.72s\n",
      "14:\tlearn: 0.6269316\ttotal: 718ms\tremaining: 1.67s\n",
      "15:\tlearn: 0.6448802\ttotal: 762ms\tremaining: 1.62s\n",
      "16:\tlearn: 0.6765957\ttotal: 808ms\tremaining: 1.57s\n",
      "17:\tlearn: 0.6794055\ttotal: 856ms\tremaining: 1.52s\n",
      "18:\tlearn: 0.6905263\ttotal: 902ms\tremaining: 1.47s\n",
      "19:\tlearn: 0.7175258\ttotal: 947ms\tremaining: 1.42s\n",
      "20:\tlearn: 0.7331976\ttotal: 993ms\tremaining: 1.37s\n",
      "21:\tlearn: 0.7434343\ttotal: 1.04s\tremaining: 1.32s\n",
      "22:\tlearn: 0.7836257\ttotal: 1.09s\tremaining: 1.28s\n",
      "23:\tlearn: 0.7788650\ttotal: 1.14s\tremaining: 1.23s\n",
      "24:\tlearn: 0.7930368\ttotal: 1.18s\tremaining: 1.18s\n",
      "25:\tlearn: 0.7922330\ttotal: 1.23s\tremaining: 1.13s\n",
      "26:\tlearn: 0.7945736\ttotal: 1.27s\tremaining: 1.08s\n",
      "27:\tlearn: 0.7945736\ttotal: 1.32s\tremaining: 1.03s\n",
      "28:\tlearn: 0.7945736\ttotal: 1.36s\tremaining: 984ms\n",
      "29:\tlearn: 0.7945736\ttotal: 1.4s\tremaining: 936ms\n",
      "30:\tlearn: 0.7945736\ttotal: 1.45s\tremaining: 888ms\n",
      "31:\tlearn: 0.7945736\ttotal: 1.5s\tremaining: 844ms\n",
      "32:\tlearn: 0.8092486\ttotal: 1.54s\tremaining: 795ms\n",
      "33:\tlearn: 0.8092486\ttotal: 1.58s\tremaining: 746ms\n",
      "34:\tlearn: 0.8235294\ttotal: 1.63s\tremaining: 697ms\n",
      "35:\tlearn: 0.8212928\ttotal: 1.67s\tremaining: 650ms\n",
      "36:\tlearn: 0.8167939\ttotal: 1.71s\tremaining: 602ms\n",
      "37:\tlearn: 0.8122605\ttotal: 1.75s\tremaining: 554ms\n",
      "38:\tlearn: 0.8235294\ttotal: 1.79s\tremaining: 506ms\n",
      "39:\tlearn: 0.8190476\ttotal: 1.84s\tremaining: 460ms\n",
      "40:\tlearn: 0.8190476\ttotal: 1.89s\tremaining: 414ms\n",
      "41:\tlearn: 0.8301887\ttotal: 1.93s\tremaining: 368ms\n",
      "42:\tlearn: 0.8301887\ttotal: 1.97s\tremaining: 321ms\n",
      "43:\tlearn: 0.8279773\ttotal: 2.01s\tremaining: 274ms\n",
      "44:\tlearn: 0.8301887\ttotal: 2.06s\tremaining: 229ms\n",
      "45:\tlearn: 0.8279773\ttotal: 2.1s\tremaining: 183ms\n",
      "46:\tlearn: 0.8279773\ttotal: 2.14s\tremaining: 137ms\n",
      "47:\tlearn: 0.8279773\ttotal: 2.19s\tremaining: 91.2ms\n",
      "48:\tlearn: 0.8279773\ttotal: 2.23s\tremaining: 45.5ms\n",
      "49:\tlearn: 0.8389513\ttotal: 2.27s\tremaining: 0us\n",
      "0:\tlearn: 0.3351351\ttotal: 48.6ms\tremaining: 2.38s\n",
      "1:\tlearn: 0.4854369\ttotal: 89.3ms\tremaining: 2.14s\n",
      "2:\tlearn: 0.5096154\ttotal: 131ms\tremaining: 2.05s\n",
      "3:\tlearn: 0.5179856\ttotal: 174ms\tremaining: 2s\n",
      "4:\tlearn: 0.5000000\ttotal: 216ms\tremaining: 1.94s\n",
      "5:\tlearn: 0.5308057\ttotal: 257ms\tremaining: 1.89s\n",
      "6:\tlearn: 0.5342790\ttotal: 307ms\tremaining: 1.89s\n",
      "7:\tlearn: 0.5547786\ttotal: 358ms\tremaining: 1.88s\n",
      "8:\tlearn: 0.5614849\ttotal: 400ms\tremaining: 1.82s\n",
      "9:\tlearn: 0.5844749\ttotal: 445ms\tremaining: 1.78s\n",
      "10:\tlearn: 0.5972851\ttotal: 490ms\tremaining: 1.74s\n",
      "11:\tlearn: 0.6067416\ttotal: 534ms\tremaining: 1.69s\n",
      "12:\tlearn: 0.6343612\ttotal: 577ms\tremaining: 1.64s\n",
      "13:\tlearn: 0.6462882\ttotal: 621ms\tremaining: 1.6s\n",
      "14:\tlearn: 0.6550976\ttotal: 666ms\tremaining: 1.55s\n",
      "15:\tlearn: 0.6681034\ttotal: 709ms\tremaining: 1.5s\n",
      "16:\tlearn: 0.6794872\ttotal: 754ms\tremaining: 1.46s\n",
      "17:\tlearn: 0.6892178\ttotal: 800ms\tremaining: 1.42s\n",
      "18:\tlearn: 0.6974790\ttotal: 844ms\tremaining: 1.38s\n",
      "19:\tlearn: 0.7190083\ttotal: 889ms\tremaining: 1.33s\n",
      "20:\tlearn: 0.7398374\ttotal: 934ms\tremaining: 1.29s\n",
      "21:\tlearn: 0.7423935\ttotal: 983ms\tremaining: 1.25s\n",
      "22:\tlearn: 0.7630522\ttotal: 1.03s\tremaining: 1.21s\n",
      "23:\tlearn: 0.7753479\ttotal: 1.08s\tremaining: 1.17s\n",
      "24:\tlearn: 0.7753479\ttotal: 1.13s\tremaining: 1.13s\n",
      "25:\tlearn: 0.7801980\ttotal: 1.18s\tremaining: 1.09s\n",
      "26:\tlearn: 0.7801980\ttotal: 1.23s\tremaining: 1.05s\n",
      "27:\tlearn: 0.7801980\ttotal: 1.28s\tremaining: 1s\n",
      "28:\tlearn: 0.7801980\ttotal: 1.32s\tremaining: 958ms\n",
      "29:\tlearn: 0.7777778\ttotal: 1.37s\tremaining: 913ms\n",
      "30:\tlearn: 0.7874016\ttotal: 1.42s\tremaining: 867ms\n",
      "31:\tlearn: 0.7850099\ttotal: 1.47s\tremaining: 825ms\n",
      "32:\tlearn: 0.7945205\ttotal: 1.51s\tremaining: 778ms\n",
      "33:\tlearn: 0.7921569\ttotal: 1.56s\tremaining: 732ms\n",
      "34:\tlearn: 0.7937132\ttotal: 1.6s\tremaining: 687ms\n",
      "35:\tlearn: 0.7937132\ttotal: 1.64s\tremaining: 639ms\n",
      "36:\tlearn: 0.7913386\ttotal: 1.69s\tremaining: 593ms\n",
      "37:\tlearn: 0.7913386\ttotal: 1.73s\tremaining: 547ms\n",
      "38:\tlearn: 0.8054475\ttotal: 1.77s\tremaining: 500ms\n",
      "39:\tlearn: 0.8054475\ttotal: 1.81s\tremaining: 454ms\n",
      "40:\tlearn: 0.8054475\ttotal: 1.86s\tremaining: 408ms\n",
      "41:\tlearn: 0.8260038\ttotal: 1.9s\tremaining: 362ms\n",
      "42:\tlearn: 0.8237548\ttotal: 1.94s\tremaining: 316ms\n",
      "43:\tlearn: 0.8304762\ttotal: 1.99s\tremaining: 271ms\n",
      "44:\tlearn: 0.8282443\ttotal: 2.03s\tremaining: 225ms\n",
      "45:\tlearn: 0.8260038\ttotal: 2.07s\tremaining: 180ms\n",
      "46:\tlearn: 0.8349146\ttotal: 2.11s\tremaining: 135ms\n",
      "47:\tlearn: 0.8349146\ttotal: 2.16s\tremaining: 89.9ms\n",
      "48:\tlearn: 0.8436911\ttotal: 2.2s\tremaining: 44.9ms\n",
      "49:\tlearn: 0.8415094\ttotal: 2.25s\tremaining: 0us\n",
      "0:\tlearn: 0.0000000\ttotal: 53.8ms\tremaining: 2.63s\n",
      "1:\tlearn: 0.4477612\ttotal: 95.7ms\tremaining: 2.3s\n",
      "2:\tlearn: 0.5694761\ttotal: 136ms\tremaining: 2.13s\n",
      "3:\tlearn: 0.4405063\ttotal: 178ms\tremaining: 2.04s\n",
      "4:\tlearn: 0.5133172\ttotal: 220ms\tremaining: 1.98s\n",
      "5:\tlearn: 0.5298329\ttotal: 262ms\tremaining: 1.92s\n",
      "6:\tlearn: 0.5641026\ttotal: 309ms\tremaining: 1.9s\n",
      "7:\tlearn: 0.5740741\ttotal: 361ms\tremaining: 1.89s\n",
      "8:\tlearn: 0.5903890\ttotal: 402ms\tremaining: 1.83s\n",
      "9:\tlearn: 0.5936073\ttotal: 445ms\tremaining: 1.78s\n",
      "10:\tlearn: 0.6094808\ttotal: 487ms\tremaining: 1.73s\n",
      "11:\tlearn: 0.6387665\ttotal: 532ms\tremaining: 1.68s\n",
      "12:\tlearn: 0.6550976\ttotal: 574ms\tremaining: 1.63s\n",
      "13:\tlearn: 0.6695279\ttotal: 617ms\tremaining: 1.58s\n",
      "14:\tlearn: 0.6780384\ttotal: 658ms\tremaining: 1.53s\n",
      "15:\tlearn: 0.6947368\ttotal: 699ms\tremaining: 1.49s\n",
      "16:\tlearn: 0.7166667\ttotal: 742ms\tremaining: 1.44s\n",
      "17:\tlearn: 0.7325103\ttotal: 789ms\tremaining: 1.4s\n",
      "18:\tlearn: 0.7402863\ttotal: 833ms\tremaining: 1.36s\n",
      "19:\tlearn: 0.7590361\ttotal: 875ms\tremaining: 1.31s\n",
      "20:\tlearn: 0.7762376\ttotal: 916ms\tremaining: 1.26s\n",
      "21:\tlearn: 0.7953216\ttotal: 958ms\tremaining: 1.22s\n",
      "22:\tlearn: 0.8069498\ttotal: 1s\tremaining: 1.18s\n",
      "23:\tlearn: 0.8160920\ttotal: 1.04s\tremaining: 1.13s\n",
      "24:\tlearn: 0.8115385\ttotal: 1.08s\tremaining: 1.08s\n",
      "25:\tlearn: 0.8138196\ttotal: 1.13s\tremaining: 1.04s\n",
      "26:\tlearn: 0.8138196\ttotal: 1.17s\tremaining: 996ms\n",
      "27:\tlearn: 0.8138196\ttotal: 1.21s\tremaining: 954ms\n",
      "28:\tlearn: 0.8206107\ttotal: 1.26s\tremaining: 910ms\n",
      "29:\tlearn: 0.8206107\ttotal: 1.3s\tremaining: 867ms\n",
      "30:\tlearn: 0.8206107\ttotal: 1.34s\tremaining: 823ms\n",
      "31:\tlearn: 0.8206107\ttotal: 1.39s\tremaining: 781ms\n",
      "32:\tlearn: 0.8250951\ttotal: 1.43s\tremaining: 737ms\n",
      "33:\tlearn: 0.8183556\ttotal: 1.47s\tremaining: 692ms\n",
      "34:\tlearn: 0.8183556\ttotal: 1.51s\tremaining: 649ms\n",
      "35:\tlearn: 0.8183556\ttotal: 1.56s\tremaining: 606ms\n",
      "36:\tlearn: 0.8183556\ttotal: 1.6s\tremaining: 563ms\n",
      "37:\tlearn: 0.8317580\ttotal: 1.65s\tremaining: 520ms\n",
      "38:\tlearn: 0.8317580\ttotal: 1.69s\tremaining: 476ms\n",
      "39:\tlearn: 0.8426966\ttotal: 1.73s\tremaining: 433ms\n",
      "40:\tlearn: 0.8464419\ttotal: 1.78s\tremaining: 390ms\n",
      "41:\tlearn: 0.8464419\ttotal: 1.83s\tremaining: 348ms\n",
      "42:\tlearn: 0.8571429\ttotal: 1.88s\tremaining: 305ms\n",
      "43:\tlearn: 0.8550186\ttotal: 1.92s\tremaining: 262ms\n",
      "44:\tlearn: 0.8613678\ttotal: 1.97s\tremaining: 218ms\n",
      "45:\tlearn: 0.8592593\ttotal: 2.01s\tremaining: 175ms\n",
      "46:\tlearn: 0.8571429\ttotal: 2.05s\tremaining: 131ms\n",
      "47:\tlearn: 0.8676471\ttotal: 2.1s\tremaining: 87.4ms\n",
      "48:\tlearn: 0.8655617\ttotal: 2.14s\tremaining: 43.7ms\n",
      "49:\tlearn: 0.8717949\ttotal: 2.18s\tremaining: 0us\n",
      "0:\tlearn: 0.3038674\ttotal: 53.5ms\tremaining: 2.62s\n",
      "1:\tlearn: 0.4113111\ttotal: 95.1ms\tremaining: 2.28s\n",
      "2:\tlearn: 0.4866180\ttotal: 141ms\tremaining: 2.21s\n",
      "3:\tlearn: 0.4878049\ttotal: 182ms\tremaining: 2.1s\n",
      "4:\tlearn: 0.4164524\ttotal: 224ms\tremaining: 2.01s\n",
      "5:\tlearn: 0.4134367\ttotal: 267ms\tremaining: 1.96s\n",
      "6:\tlearn: 0.4572864\ttotal: 314ms\tremaining: 1.93s\n",
      "7:\tlearn: 0.4864865\ttotal: 356ms\tremaining: 1.87s\n",
      "8:\tlearn: 0.5192308\ttotal: 407ms\tremaining: 1.85s\n",
      "9:\tlearn: 0.5694444\ttotal: 448ms\tremaining: 1.79s\n",
      "10:\tlearn: 0.5727483\ttotal: 490ms\tremaining: 1.74s\n",
      "11:\tlearn: 0.5972851\ttotal: 534ms\tremaining: 1.69s\n",
      "12:\tlearn: 0.6313466\ttotal: 579ms\tremaining: 1.65s\n",
      "13:\tlearn: 0.6313466\ttotal: 621ms\tremaining: 1.6s\n",
      "14:\tlearn: 0.6462882\ttotal: 664ms\tremaining: 1.55s\n",
      "15:\tlearn: 0.6892178\ttotal: 706ms\tremaining: 1.5s\n",
      "16:\tlearn: 0.6947368\ttotal: 750ms\tremaining: 1.46s\n",
      "17:\tlearn: 0.7029289\ttotal: 817ms\tremaining: 1.45s\n",
      "18:\tlearn: 0.7190083\ttotal: 858ms\tremaining: 1.4s\n",
      "19:\tlearn: 0.7423935\ttotal: 903ms\tremaining: 1.35s\n",
      "20:\tlearn: 0.7550201\ttotal: 948ms\tremaining: 1.31s\n",
      "21:\tlearn: 0.7649402\ttotal: 990ms\tremaining: 1.26s\n",
      "22:\tlearn: 0.7747036\ttotal: 1.03s\tremaining: 1.21s\n",
      "23:\tlearn: 0.7882353\ttotal: 1.08s\tremaining: 1.18s\n",
      "24:\tlearn: 0.7976654\ttotal: 1.13s\tremaining: 1.13s\n",
      "25:\tlearn: 0.8000000\ttotal: 1.17s\tremaining: 1.08s\n",
      "26:\tlearn: 0.8000000\ttotal: 1.21s\tremaining: 1.03s\n",
      "27:\tlearn: 0.8000000\ttotal: 1.25s\tremaining: 987ms\n",
      "28:\tlearn: 0.7953216\ttotal: 1.3s\tremaining: 942ms\n",
      "29:\tlearn: 0.7953216\ttotal: 1.34s\tremaining: 895ms\n",
      "30:\tlearn: 0.8069498\ttotal: 1.38s\tremaining: 849ms\n",
      "31:\tlearn: 0.8092486\ttotal: 1.43s\tremaining: 803ms\n",
      "32:\tlearn: 0.8115385\ttotal: 1.47s\tremaining: 757ms\n",
      "33:\tlearn: 0.8115385\ttotal: 1.51s\tremaining: 711ms\n",
      "34:\tlearn: 0.8228571\ttotal: 1.55s\tremaining: 666ms\n",
      "35:\tlearn: 0.8160920\ttotal: 1.59s\tremaining: 620ms\n",
      "36:\tlearn: 0.8183556\ttotal: 1.64s\tremaining: 575ms\n",
      "37:\tlearn: 0.8273245\ttotal: 1.69s\tremaining: 532ms\n",
      "38:\tlearn: 0.8273245\ttotal: 1.73s\tremaining: 487ms\n",
      "39:\tlearn: 0.8273245\ttotal: 1.77s\tremaining: 442ms\n",
      "40:\tlearn: 0.8377358\ttotal: 1.81s\tremaining: 398ms\n",
      "41:\tlearn: 0.8377358\ttotal: 1.86s\tremaining: 354ms\n",
      "42:\tlearn: 0.8550186\ttotal: 1.9s\tremaining: 309ms\n",
      "43:\tlearn: 0.8613678\ttotal: 1.94s\tremaining: 265ms\n",
      "44:\tlearn: 0.8613678\ttotal: 1.98s\tremaining: 220ms\n",
      "45:\tlearn: 0.8592593\ttotal: 2.02s\tremaining: 176ms\n",
      "46:\tlearn: 0.8717949\ttotal: 2.07s\tremaining: 132ms\n",
      "47:\tlearn: 0.8713235\ttotal: 2.13s\tremaining: 88.5ms\n",
      "48:\tlearn: 0.8713235\ttotal: 2.17s\tremaining: 44.3ms\n",
      "49:\tlearn: 0.8692449\ttotal: 2.21s\tremaining: 0us\n",
      "F1: 0.6045116103214208\n",
      "Wall time: 16.4 s\n"
     ]
    }
   ],
   "source": [
    "%%time\n",
    "# модель для сокращенного лемматизированного набора данных\n",
    "\n",
    "cat_model = CatBoostClassifier(eval_metric=\"F1\", \n",
    "                                   iterations=50, \n",
    "                                   max_depth=6, \n",
    "                                   learning_rate=0.5, \n",
    "                                   random_state=42)\n",
    "cat_model.fit(features_train, target_train)\n",
    "f1 = np.mean(cross_val_score(cat_model,features_train,target_train,cv=5,scoring='f1'))\n",
    "print('F1:', f1)\n",
    "\n",
    "result_lemms.append(f1) "
   ]
  },
  {
   "cell_type": "code",
   "execution_count": 99,
   "id": "a6f20e56",
   "metadata": {},
   "outputs": [
    {
     "name": "stdout",
     "output_type": "stream",
     "text": [
      "0:\tlearn: 0.3947258\ttotal: 963ms\tremaining: 47.2s\n",
      "1:\tlearn: 0.5685566\ttotal: 1.8s\tremaining: 43.2s\n",
      "2:\tlearn: 0.5970728\ttotal: 2.62s\tremaining: 41.1s\n",
      "3:\tlearn: 0.6304954\ttotal: 3.51s\tremaining: 40.3s\n",
      "4:\tlearn: 0.6509545\ttotal: 4.37s\tremaining: 39.4s\n",
      "5:\tlearn: 0.6606964\ttotal: 5.2s\tremaining: 38.1s\n",
      "6:\tlearn: 0.6723288\ttotal: 6.05s\tremaining: 37.2s\n",
      "7:\tlearn: 0.6778293\ttotal: 6.93s\tremaining: 36.4s\n",
      "8:\tlearn: 0.6826991\ttotal: 7.8s\tremaining: 35.5s\n",
      "9:\tlearn: 0.6926803\ttotal: 8.61s\tremaining: 34.4s\n",
      "10:\tlearn: 0.6970914\ttotal: 9.42s\tremaining: 33.4s\n",
      "11:\tlearn: 0.6992723\ttotal: 10.3s\tremaining: 32.6s\n",
      "12:\tlearn: 0.7040849\ttotal: 11.1s\tremaining: 31.6s\n",
      "13:\tlearn: 0.7088959\ttotal: 11.9s\tremaining: 30.6s\n",
      "14:\tlearn: 0.7113578\ttotal: 12.7s\tremaining: 29.7s\n",
      "15:\tlearn: 0.7173648\ttotal: 13.6s\tremaining: 28.8s\n",
      "16:\tlearn: 0.7219620\ttotal: 14.4s\tremaining: 27.9s\n",
      "17:\tlearn: 0.7261668\ttotal: 15.2s\tremaining: 27.1s\n",
      "18:\tlearn: 0.7313899\ttotal: 16.1s\tremaining: 26.2s\n",
      "19:\tlearn: 0.7331738\ttotal: 16.9s\tremaining: 25.3s\n",
      "20:\tlearn: 0.7349629\ttotal: 17.7s\tremaining: 24.5s\n",
      "21:\tlearn: 0.7364277\ttotal: 18.5s\tremaining: 23.6s\n",
      "22:\tlearn: 0.7384313\ttotal: 19.4s\tremaining: 22.7s\n",
      "23:\tlearn: 0.7401363\ttotal: 20.2s\tremaining: 21.9s\n",
      "24:\tlearn: 0.7442554\ttotal: 21s\tremaining: 21s\n",
      "25:\tlearn: 0.7464233\ttotal: 21.9s\tremaining: 20.2s\n",
      "26:\tlearn: 0.7479766\ttotal: 22.7s\tremaining: 19.3s\n",
      "27:\tlearn: 0.7524490\ttotal: 23.5s\tremaining: 18.5s\n",
      "28:\tlearn: 0.7530108\ttotal: 24.3s\tremaining: 17.6s\n",
      "29:\tlearn: 0.7542904\ttotal: 25.1s\tremaining: 16.8s\n",
      "30:\tlearn: 0.7555578\ttotal: 26s\tremaining: 15.9s\n",
      "31:\tlearn: 0.7569106\ttotal: 26.8s\tremaining: 15.1s\n",
      "32:\tlearn: 0.7579941\ttotal: 27.7s\tremaining: 14.3s\n",
      "33:\tlearn: 0.7598258\ttotal: 28.5s\tremaining: 13.4s\n",
      "34:\tlearn: 0.7612061\ttotal: 29.4s\tremaining: 12.6s\n",
      "35:\tlearn: 0.7620684\ttotal: 30.2s\tremaining: 11.8s\n",
      "36:\tlearn: 0.7652183\ttotal: 31.1s\tremaining: 10.9s\n",
      "37:\tlearn: 0.7660260\ttotal: 31.9s\tremaining: 10.1s\n",
      "38:\tlearn: 0.7671798\ttotal: 32.8s\tremaining: 9.25s\n",
      "39:\tlearn: 0.7686740\ttotal: 33.7s\tremaining: 8.42s\n",
      "40:\tlearn: 0.7708584\ttotal: 34.6s\tremaining: 7.59s\n",
      "41:\tlearn: 0.7711206\ttotal: 35.5s\tremaining: 6.76s\n",
      "42:\tlearn: 0.7722901\ttotal: 36.3s\tremaining: 5.92s\n",
      "43:\tlearn: 0.7731505\ttotal: 37.2s\tremaining: 5.07s\n",
      "44:\tlearn: 0.7735575\ttotal: 38s\tremaining: 4.22s\n",
      "45:\tlearn: 0.7757201\ttotal: 38.8s\tremaining: 3.38s\n",
      "46:\tlearn: 0.7764248\ttotal: 39.7s\tremaining: 2.53s\n",
      "47:\tlearn: 0.7776947\ttotal: 40.5s\tremaining: 1.69s\n",
      "48:\tlearn: 0.7785689\ttotal: 41.4s\tremaining: 844ms\n",
      "49:\tlearn: 0.7803132\ttotal: 42.2s\tremaining: 0us\n",
      "0:\tlearn: 0.3925332\ttotal: 777ms\tremaining: 38.1s\n",
      "1:\tlearn: 0.5340031\ttotal: 1.52s\tremaining: 36.6s\n",
      "2:\tlearn: 0.5964861\ttotal: 2.25s\tremaining: 35.3s\n",
      "3:\tlearn: 0.6352660\ttotal: 2.99s\tremaining: 34.4s\n",
      "4:\tlearn: 0.6601100\ttotal: 3.77s\tremaining: 33.9s\n",
      "5:\tlearn: 0.6663011\ttotal: 4.49s\tremaining: 32.9s\n",
      "6:\tlearn: 0.6754303\ttotal: 5.22s\tremaining: 32.1s\n",
      "7:\tlearn: 0.6796130\ttotal: 5.95s\tremaining: 31.2s\n",
      "8:\tlearn: 0.6863642\ttotal: 6.68s\tremaining: 30.4s\n",
      "9:\tlearn: 0.6907237\ttotal: 7.41s\tremaining: 29.6s\n",
      "10:\tlearn: 0.6969454\ttotal: 8.13s\tremaining: 28.8s\n",
      "11:\tlearn: 0.6960745\ttotal: 8.86s\tremaining: 28.1s\n",
      "12:\tlearn: 0.7000738\ttotal: 9.59s\tremaining: 27.3s\n",
      "13:\tlearn: 0.7058588\ttotal: 10.3s\tremaining: 26.5s\n",
      "14:\tlearn: 0.7079386\ttotal: 11s\tremaining: 25.8s\n",
      "15:\tlearn: 0.7166634\ttotal: 11.8s\tremaining: 25s\n",
      "16:\tlearn: 0.7244217\ttotal: 12.5s\tremaining: 24.3s\n",
      "17:\tlearn: 0.7293238\ttotal: 13.3s\tremaining: 23.6s\n",
      "18:\tlearn: 0.7327165\ttotal: 14s\tremaining: 22.8s\n",
      "19:\tlearn: 0.7358091\ttotal: 14.7s\tremaining: 22.1s\n",
      "20:\tlearn: 0.7353735\ttotal: 15.5s\tremaining: 21.4s\n",
      "21:\tlearn: 0.7373692\ttotal: 16.2s\tremaining: 20.7s\n",
      "22:\tlearn: 0.7398436\ttotal: 17s\tremaining: 19.9s\n",
      "23:\tlearn: 0.7417786\ttotal: 17.7s\tremaining: 19.2s\n",
      "24:\tlearn: 0.7425380\ttotal: 18.5s\tremaining: 18.5s\n",
      "25:\tlearn: 0.7446986\ttotal: 19.2s\tremaining: 17.7s\n",
      "26:\tlearn: 0.7489933\ttotal: 20s\tremaining: 17s\n",
      "27:\tlearn: 0.7512289\ttotal: 20.7s\tremaining: 16.3s\n",
      "28:\tlearn: 0.7535476\ttotal: 21.4s\tremaining: 15.5s\n",
      "29:\tlearn: 0.7555753\ttotal: 22.2s\tremaining: 14.8s\n",
      "30:\tlearn: 0.7567018\ttotal: 22.9s\tremaining: 14s\n",
      "31:\tlearn: 0.7579161\ttotal: 23.7s\tremaining: 13.3s\n",
      "32:\tlearn: 0.7586819\ttotal: 24.4s\tremaining: 12.6s\n",
      "33:\tlearn: 0.7599392\ttotal: 25.3s\tremaining: 11.9s\n",
      "34:\tlearn: 0.7609108\ttotal: 26s\tremaining: 11.2s\n",
      "35:\tlearn: 0.7623737\ttotal: 26.8s\tremaining: 10.4s\n",
      "36:\tlearn: 0.7647800\ttotal: 27.5s\tremaining: 9.67s\n",
      "37:\tlearn: 0.7656171\ttotal: 28.3s\tremaining: 8.94s\n",
      "38:\tlearn: 0.7676247\ttotal: 29.1s\tremaining: 8.2s\n",
      "39:\tlearn: 0.7690858\ttotal: 29.9s\tremaining: 7.47s\n",
      "40:\tlearn: 0.7712853\ttotal: 30.6s\tremaining: 6.73s\n",
      "41:\tlearn: 0.7719980\ttotal: 31.4s\tremaining: 5.99s\n",
      "42:\tlearn: 0.7728240\ttotal: 32.2s\tremaining: 5.24s\n",
      "43:\tlearn: 0.7738788\ttotal: 33s\tremaining: 4.5s\n",
      "44:\tlearn: 0.7753392\ttotal: 33.7s\tremaining: 3.75s\n",
      "45:\tlearn: 0.7750501\ttotal: 34.5s\tremaining: 3s\n",
      "46:\tlearn: 0.7761997\ttotal: 35.2s\tremaining: 2.25s\n",
      "47:\tlearn: 0.7773679\ttotal: 36s\tremaining: 1.5s\n",
      "48:\tlearn: 0.7787003\ttotal: 36.8s\tremaining: 751ms\n",
      "49:\tlearn: 0.7797244\ttotal: 37.5s\tremaining: 0us\n",
      "0:\tlearn: 0.3676945\ttotal: 775ms\tremaining: 38s\n",
      "1:\tlearn: 0.5702262\ttotal: 1.56s\tremaining: 37.5s\n",
      "2:\tlearn: 0.6224418\ttotal: 2.32s\tremaining: 36.3s\n",
      "3:\tlearn: 0.6328286\ttotal: 3.06s\tremaining: 35.2s\n",
      "4:\tlearn: 0.6656604\ttotal: 3.86s\tremaining: 34.8s\n",
      "5:\tlearn: 0.6677654\ttotal: 4.67s\tremaining: 34.3s\n",
      "6:\tlearn: 0.6724434\ttotal: 5.48s\tremaining: 33.6s\n",
      "7:\tlearn: 0.6800716\ttotal: 6.26s\tremaining: 32.8s\n",
      "8:\tlearn: 0.6871837\ttotal: 7.03s\tremaining: 32s\n",
      "9:\tlearn: 0.6956404\ttotal: 7.8s\tremaining: 31.2s\n",
      "10:\tlearn: 0.6991672\ttotal: 8.62s\tremaining: 30.5s\n",
      "11:\tlearn: 0.7053445\ttotal: 9.48s\tremaining: 30s\n",
      "12:\tlearn: 0.7118621\ttotal: 10.3s\tremaining: 29.2s\n",
      "13:\tlearn: 0.7155866\ttotal: 11s\tremaining: 28.4s\n",
      "14:\tlearn: 0.7184466\ttotal: 11.8s\tremaining: 27.6s\n",
      "15:\tlearn: 0.7235563\ttotal: 12.6s\tremaining: 26.7s\n",
      "16:\tlearn: 0.7312896\ttotal: 13.3s\tremaining: 25.9s\n",
      "17:\tlearn: 0.7340037\ttotal: 14.1s\tremaining: 25s\n",
      "18:\tlearn: 0.7369449\ttotal: 14.8s\tremaining: 24.2s\n",
      "19:\tlearn: 0.7423812\ttotal: 15.6s\tremaining: 23.4s\n",
      "20:\tlearn: 0.7441980\ttotal: 16.3s\tremaining: 22.6s\n",
      "21:\tlearn: 0.7459390\ttotal: 17.1s\tremaining: 21.8s\n",
      "22:\tlearn: 0.7485582\ttotal: 17.8s\tremaining: 20.9s\n",
      "23:\tlearn: 0.7517404\ttotal: 18.6s\tremaining: 20.1s\n",
      "24:\tlearn: 0.7555160\ttotal: 19.4s\tremaining: 19.4s\n",
      "25:\tlearn: 0.7590042\ttotal: 20.2s\tremaining: 18.6s\n",
      "26:\tlearn: 0.7608655\ttotal: 20.9s\tremaining: 17.8s\n",
      "27:\tlearn: 0.7633915\ttotal: 21.7s\tremaining: 17s\n",
      "28:\tlearn: 0.7646541\ttotal: 22.4s\tremaining: 16.2s\n",
      "29:\tlearn: 0.7652612\ttotal: 23.2s\tremaining: 15.5s\n",
      "30:\tlearn: 0.7677630\ttotal: 23.9s\tremaining: 14.7s\n",
      "31:\tlearn: 0.7693945\ttotal: 24.7s\tremaining: 13.9s\n",
      "32:\tlearn: 0.7704723\ttotal: 25.4s\tremaining: 13.1s\n",
      "33:\tlearn: 0.7705687\ttotal: 26.2s\tremaining: 12.3s\n",
      "34:\tlearn: 0.7721543\ttotal: 26.9s\tremaining: 11.5s\n",
      "35:\tlearn: 0.7724536\ttotal: 27.6s\tremaining: 10.7s\n",
      "36:\tlearn: 0.7728299\ttotal: 28.4s\tremaining: 9.97s\n",
      "37:\tlearn: 0.7737327\ttotal: 29.1s\tremaining: 9.19s\n",
      "38:\tlearn: 0.7741005\ttotal: 29.8s\tremaining: 8.41s\n",
      "39:\tlearn: 0.7745498\ttotal: 30.6s\tremaining: 7.64s\n",
      "40:\tlearn: 0.7748415\ttotal: 31.3s\tremaining: 6.87s\n",
      "41:\tlearn: 0.7759940\ttotal: 32s\tremaining: 6.1s\n",
      "42:\tlearn: 0.7770469\ttotal: 32.8s\tremaining: 5.33s\n",
      "43:\tlearn: 0.7791446\ttotal: 33.5s\tremaining: 4.57s\n",
      "44:\tlearn: 0.7817752\ttotal: 34.2s\tremaining: 3.8s\n",
      "45:\tlearn: 0.7830359\ttotal: 35s\tremaining: 3.04s\n",
      "46:\tlearn: 0.7837972\ttotal: 35.7s\tremaining: 2.28s\n",
      "47:\tlearn: 0.7855684\ttotal: 36.5s\tremaining: 1.52s\n",
      "48:\tlearn: 0.7879911\ttotal: 37.2s\tremaining: 760ms\n",
      "49:\tlearn: 0.7861479\ttotal: 38s\tremaining: 0us\n",
      "0:\tlearn: 0.4636459\ttotal: 785ms\tremaining: 38.5s\n",
      "1:\tlearn: 0.5841701\ttotal: 1.57s\tremaining: 37.7s\n",
      "2:\tlearn: 0.6082212\ttotal: 2.35s\tremaining: 36.9s\n",
      "3:\tlearn: 0.6204934\ttotal: 3.12s\tremaining: 35.9s\n",
      "4:\tlearn: 0.6438962\ttotal: 3.9s\tremaining: 35.1s\n",
      "5:\tlearn: 0.6632124\ttotal: 4.66s\tremaining: 34.2s\n",
      "6:\tlearn: 0.6679658\ttotal: 5.4s\tremaining: 33.2s\n",
      "7:\tlearn: 0.6734496\ttotal: 6.16s\tremaining: 32.3s\n",
      "8:\tlearn: 0.6802833\ttotal: 6.96s\tremaining: 31.7s\n",
      "9:\tlearn: 0.6884330\ttotal: 7.76s\tremaining: 31s\n",
      "10:\tlearn: 0.6908222\ttotal: 8.52s\tremaining: 30.2s\n",
      "11:\tlearn: 0.7014269\ttotal: 9.32s\tremaining: 29.5s\n",
      "12:\tlearn: 0.7052419\ttotal: 10.1s\tremaining: 28.7s\n",
      "13:\tlearn: 0.7086572\ttotal: 10.9s\tremaining: 28s\n",
      "14:\tlearn: 0.7127005\ttotal: 11.6s\tremaining: 27.2s\n",
      "15:\tlearn: 0.7179657\ttotal: 12.4s\tremaining: 26.4s\n",
      "16:\tlearn: 0.7213657\ttotal: 13.3s\tremaining: 25.7s\n",
      "17:\tlearn: 0.7285986\ttotal: 14s\tremaining: 25s\n",
      "18:\tlearn: 0.7326046\ttotal: 14.8s\tremaining: 24.2s\n",
      "19:\tlearn: 0.7389949\ttotal: 15.6s\tremaining: 23.4s\n",
      "20:\tlearn: 0.7414318\ttotal: 16.4s\tremaining: 22.6s\n",
      "21:\tlearn: 0.7436511\ttotal: 17.1s\tremaining: 21.8s\n",
      "22:\tlearn: 0.7459857\ttotal: 17.9s\tremaining: 21s\n",
      "23:\tlearn: 0.7476347\ttotal: 18.6s\tremaining: 20.2s\n",
      "24:\tlearn: 0.7499037\ttotal: 19.4s\tremaining: 19.4s\n",
      "25:\tlearn: 0.7515711\ttotal: 20.2s\tremaining: 18.7s\n",
      "26:\tlearn: 0.7536306\ttotal: 21s\tremaining: 17.9s\n",
      "27:\tlearn: 0.7562532\ttotal: 21.8s\tremaining: 17.1s\n",
      "28:\tlearn: 0.7588883\ttotal: 22.6s\tremaining: 16.4s\n",
      "29:\tlearn: 0.7608226\ttotal: 23.4s\tremaining: 15.6s\n",
      "30:\tlearn: 0.7629414\ttotal: 24.1s\tremaining: 14.8s\n",
      "31:\tlearn: 0.7649251\ttotal: 24.9s\tremaining: 14s\n",
      "32:\tlearn: 0.7648135\ttotal: 25.6s\tremaining: 13.2s\n",
      "33:\tlearn: 0.7662975\ttotal: 26.4s\tremaining: 12.4s\n",
      "34:\tlearn: 0.7686895\ttotal: 27.1s\tremaining: 11.6s\n",
      "35:\tlearn: 0.7694050\ttotal: 27.9s\tremaining: 10.8s\n",
      "36:\tlearn: 0.7705742\ttotal: 28.7s\tremaining: 10.1s\n",
      "37:\tlearn: 0.7713837\ttotal: 29.4s\tremaining: 9.29s\n",
      "38:\tlearn: 0.7729808\ttotal: 30.2s\tremaining: 8.52s\n",
      "39:\tlearn: 0.7736074\ttotal: 31s\tremaining: 7.74s\n",
      "40:\tlearn: 0.7746135\ttotal: 31.7s\tremaining: 6.96s\n",
      "41:\tlearn: 0.7771814\ttotal: 32.4s\tremaining: 6.18s\n",
      "42:\tlearn: 0.7780480\ttotal: 33.2s\tremaining: 5.4s\n",
      "43:\tlearn: 0.7789408\ttotal: 33.9s\tremaining: 4.63s\n",
      "44:\tlearn: 0.7809820\ttotal: 34.7s\tremaining: 3.85s\n",
      "45:\tlearn: 0.7822471\ttotal: 35.4s\tremaining: 3.08s\n",
      "46:\tlearn: 0.7845105\ttotal: 36.2s\tremaining: 2.31s\n",
      "47:\tlearn: 0.7843721\ttotal: 36.9s\tremaining: 1.54s\n",
      "48:\tlearn: 0.7851255\ttotal: 37.7s\tremaining: 770ms\n",
      "49:\tlearn: 0.7871551\ttotal: 38.5s\tremaining: 0us\n",
      "0:\tlearn: 0.3791815\ttotal: 802ms\tremaining: 39.3s\n",
      "1:\tlearn: 0.5586890\ttotal: 1.58s\tremaining: 37.8s\n",
      "2:\tlearn: 0.6076189\ttotal: 2.35s\tremaining: 36.8s\n",
      "3:\tlearn: 0.6399163\ttotal: 3.1s\tremaining: 35.7s\n",
      "4:\tlearn: 0.6535149\ttotal: 3.88s\tremaining: 34.9s\n",
      "5:\tlearn: 0.6662120\ttotal: 4.63s\tremaining: 33.9s\n",
      "6:\tlearn: 0.6658883\ttotal: 5.37s\tremaining: 33s\n",
      "7:\tlearn: 0.6754904\ttotal: 6.15s\tremaining: 32.3s\n",
      "8:\tlearn: 0.6763206\ttotal: 6.9s\tremaining: 31.4s\n",
      "9:\tlearn: 0.6810211\ttotal: 7.65s\tremaining: 30.6s\n",
      "10:\tlearn: 0.6902583\ttotal: 8.43s\tremaining: 29.9s\n",
      "11:\tlearn: 0.7012918\ttotal: 9.22s\tremaining: 29.2s\n",
      "12:\tlearn: 0.7085896\ttotal: 10s\tremaining: 28.5s\n",
      "13:\tlearn: 0.7125107\ttotal: 10.8s\tremaining: 27.7s\n",
      "14:\tlearn: 0.7165158\ttotal: 11.5s\tremaining: 26.9s\n",
      "15:\tlearn: 0.7205383\ttotal: 12.3s\tremaining: 26.1s\n",
      "16:\tlearn: 0.7264347\ttotal: 13s\tremaining: 25.3s\n",
      "17:\tlearn: 0.7280742\ttotal: 13.8s\tremaining: 24.5s\n",
      "18:\tlearn: 0.7327257\ttotal: 14.6s\tremaining: 23.7s\n",
      "19:\tlearn: 0.7346517\ttotal: 15.3s\tremaining: 22.9s\n",
      "20:\tlearn: 0.7374597\ttotal: 16s\tremaining: 22.2s\n",
      "21:\tlearn: 0.7398159\ttotal: 16.8s\tremaining: 21.4s\n",
      "22:\tlearn: 0.7426155\ttotal: 17.5s\tremaining: 20.6s\n",
      "23:\tlearn: 0.7451908\ttotal: 18.3s\tremaining: 19.8s\n",
      "24:\tlearn: 0.7479313\ttotal: 19s\tremaining: 19s\n",
      "25:\tlearn: 0.7496503\ttotal: 19.8s\tremaining: 18.3s\n",
      "26:\tlearn: 0.7513644\ttotal: 20.5s\tremaining: 17.5s\n",
      "27:\tlearn: 0.7525819\ttotal: 21.3s\tremaining: 16.7s\n",
      "28:\tlearn: 0.7562346\ttotal: 22s\tremaining: 16s\n",
      "29:\tlearn: 0.7568012\ttotal: 22.8s\tremaining: 15.2s\n",
      "30:\tlearn: 0.7594170\ttotal: 23.6s\tremaining: 14.4s\n",
      "31:\tlearn: 0.7628749\ttotal: 24.3s\tremaining: 13.7s\n",
      "32:\tlearn: 0.7646247\ttotal: 25.1s\tremaining: 12.9s\n",
      "33:\tlearn: 0.7661230\ttotal: 25.9s\tremaining: 12.2s\n",
      "34:\tlearn: 0.7673122\ttotal: 26.6s\tremaining: 11.4s\n",
      "35:\tlearn: 0.7672468\ttotal: 27.4s\tremaining: 10.6s\n",
      "36:\tlearn: 0.7683262\ttotal: 28.1s\tremaining: 9.88s\n",
      "37:\tlearn: 0.7694038\ttotal: 28.9s\tremaining: 9.12s\n",
      "38:\tlearn: 0.7683907\ttotal: 29.6s\tremaining: 8.36s\n",
      "39:\tlearn: 0.7697905\ttotal: 30.4s\tremaining: 7.59s\n",
      "40:\tlearn: 0.7707641\ttotal: 31.1s\tremaining: 6.83s\n",
      "41:\tlearn: 0.7712746\ttotal: 31.9s\tremaining: 6.07s\n",
      "42:\tlearn: 0.7772453\ttotal: 32.6s\tremaining: 5.31s\n",
      "43:\tlearn: 0.7777225\ttotal: 33.4s\tremaining: 4.55s\n",
      "44:\tlearn: 0.7789591\ttotal: 34.2s\tremaining: 3.79s\n",
      "45:\tlearn: 0.7780757\ttotal: 34.9s\tremaining: 3.04s\n",
      "46:\tlearn: 0.7792807\ttotal: 35.7s\tremaining: 2.27s\n",
      "47:\tlearn: 0.7806548\ttotal: 36.4s\tremaining: 1.52s\n",
      "48:\tlearn: 0.7802540\ttotal: 37.2s\tremaining: 758ms\n",
      "49:\tlearn: 0.7824736\ttotal: 37.9s\tremaining: 0us\n",
      "0:\tlearn: 0.4133749\ttotal: 780ms\tremaining: 38.2s\n",
      "1:\tlearn: 0.5688488\ttotal: 1.58s\tremaining: 37.8s\n",
      "2:\tlearn: 0.6114146\ttotal: 2.33s\tremaining: 36.5s\n",
      "3:\tlearn: 0.6281145\ttotal: 3.09s\tremaining: 35.6s\n",
      "4:\tlearn: 0.6498321\ttotal: 3.85s\tremaining: 34.7s\n",
      "5:\tlearn: 0.6648753\ttotal: 4.62s\tremaining: 33.8s\n",
      "6:\tlearn: 0.6602311\ttotal: 5.37s\tremaining: 33s\n",
      "7:\tlearn: 0.6702024\ttotal: 6.13s\tremaining: 32.2s\n",
      "8:\tlearn: 0.6764747\ttotal: 6.91s\tremaining: 31.5s\n",
      "9:\tlearn: 0.6845471\ttotal: 7.66s\tremaining: 30.6s\n",
      "10:\tlearn: 0.6907702\ttotal: 8.4s\tremaining: 29.8s\n",
      "11:\tlearn: 0.6977566\ttotal: 9.18s\tremaining: 29.1s\n",
      "12:\tlearn: 0.7023416\ttotal: 9.94s\tremaining: 28.3s\n",
      "13:\tlearn: 0.7099232\ttotal: 10.7s\tremaining: 27.5s\n",
      "14:\tlearn: 0.7139811\ttotal: 11.4s\tremaining: 26.7s\n",
      "15:\tlearn: 0.7179112\ttotal: 12.2s\tremaining: 25.9s\n",
      "16:\tlearn: 0.7258581\ttotal: 13s\tremaining: 25.2s\n",
      "17:\tlearn: 0.7312232\ttotal: 13.7s\tremaining: 24.4s\n",
      "18:\tlearn: 0.7332255\ttotal: 14.5s\tremaining: 23.7s\n",
      "19:\tlearn: 0.7355356\ttotal: 15.3s\tremaining: 22.9s\n",
      "20:\tlearn: 0.7369782\ttotal: 16s\tremaining: 22.1s\n",
      "21:\tlearn: 0.7395283\ttotal: 16.8s\tremaining: 21.3s\n",
      "22:\tlearn: 0.7421885\ttotal: 17.5s\tremaining: 20.6s\n",
      "23:\tlearn: 0.7461750\ttotal: 18.3s\tremaining: 19.8s\n",
      "24:\tlearn: 0.7476803\ttotal: 19s\tremaining: 19s\n",
      "25:\tlearn: 0.7502389\ttotal: 19.8s\tremaining: 18.3s\n",
      "26:\tlearn: 0.7521910\ttotal: 20.6s\tremaining: 17.5s\n",
      "27:\tlearn: 0.7542169\ttotal: 21.3s\tremaining: 16.7s\n",
      "28:\tlearn: 0.7586686\ttotal: 22.1s\tremaining: 16s\n",
      "29:\tlearn: 0.7578921\ttotal: 22.8s\tremaining: 15.2s\n",
      "30:\tlearn: 0.7603044\ttotal: 23.6s\tremaining: 14.5s\n",
      "31:\tlearn: 0.7620978\ttotal: 24.3s\tremaining: 13.7s\n",
      "32:\tlearn: 0.7628331\ttotal: 25.1s\tremaining: 12.9s\n",
      "33:\tlearn: 0.7641330\ttotal: 25.8s\tremaining: 12.2s\n",
      "34:\tlearn: 0.7654415\ttotal: 26.6s\tremaining: 11.4s\n",
      "35:\tlearn: 0.7673099\ttotal: 27.3s\tremaining: 10.6s\n",
      "36:\tlearn: 0.7672821\ttotal: 28.1s\tremaining: 9.88s\n",
      "37:\tlearn: 0.7683979\ttotal: 28.9s\tremaining: 9.13s\n",
      "38:\tlearn: 0.7686869\ttotal: 29.7s\tremaining: 8.36s\n",
      "39:\tlearn: 0.7701135\ttotal: 30.4s\tremaining: 7.6s\n",
      "40:\tlearn: 0.7712665\ttotal: 31.2s\tremaining: 6.85s\n",
      "41:\tlearn: 0.7725327\ttotal: 31.9s\tremaining: 6.08s\n",
      "42:\tlearn: 0.7738529\ttotal: 32.7s\tremaining: 5.32s\n",
      "43:\tlearn: 0.7751539\ttotal: 33.4s\tremaining: 4.56s\n",
      "44:\tlearn: 0.7765090\ttotal: 34.2s\tremaining: 3.8s\n",
      "45:\tlearn: 0.7771852\ttotal: 35s\tremaining: 3.04s\n",
      "46:\tlearn: 0.7786126\ttotal: 35.7s\tremaining: 2.28s\n",
      "47:\tlearn: 0.7799537\ttotal: 36.5s\tremaining: 1.52s\n",
      "48:\tlearn: 0.7814785\ttotal: 37.2s\tremaining: 760ms\n",
      "49:\tlearn: 0.7823210\ttotal: 38s\tremaining: 0us\n",
      "F1: 0.7336690258064106\n",
      "Wall time: 4min 33s\n"
     ]
    }
   ],
   "source": [
    "%%time\n",
    "# модель для очищенного набора данных\n",
    "cat_model = CatBoostClassifier(eval_metric=\"F1\", \n",
    "                                   iterations=50, \n",
    "                                   max_depth=6, \n",
    "                                   learning_rate=0.9, \n",
    "                                   random_state=42)\n",
    "cat_model.fit(features_train_clean, target_train_clean)\n",
    "f1 = np.mean(cross_val_score(cat_model,features_train_clean,target_train_clean,cv=5,scoring='f1'))\n",
    "print('F1:', f1)\n",
    "\n",
    "result_clean.append(f1) "
   ]
  },
  {
   "cell_type": "code",
   "execution_count": 223,
   "id": "0f9bc236",
   "metadata": {},
   "outputs": [
    {
     "name": "stdout",
     "output_type": "stream",
     "text": [
      "0:\tlearn: 0.5116279\ttotal: 270ms\tremaining: 13.2s\n",
      "1:\tlearn: 0.6162044\ttotal: 523ms\tremaining: 12.5s\n",
      "2:\tlearn: 0.6605844\ttotal: 780ms\tremaining: 12.2s\n",
      "3:\tlearn: 0.7163148\ttotal: 1.04s\tremaining: 11.9s\n",
      "4:\tlearn: 0.7288440\ttotal: 1.29s\tremaining: 11.7s\n",
      "5:\tlearn: 0.7485818\ttotal: 1.54s\tremaining: 11.3s\n",
      "6:\tlearn: 0.7772254\ttotal: 1.8s\tremaining: 11s\n",
      "7:\tlearn: 0.7882048\ttotal: 2.05s\tremaining: 10.8s\n",
      "8:\tlearn: 0.7955796\ttotal: 2.31s\tremaining: 10.5s\n",
      "9:\tlearn: 0.7986345\ttotal: 2.56s\tremaining: 10.2s\n",
      "10:\tlearn: 0.8081748\ttotal: 2.82s\tremaining: 10s\n",
      "11:\tlearn: 0.8185213\ttotal: 3.1s\tremaining: 9.82s\n",
      "12:\tlearn: 0.8256428\ttotal: 3.35s\tremaining: 9.53s\n",
      "13:\tlearn: 0.8310004\ttotal: 3.63s\tremaining: 9.32s\n",
      "14:\tlearn: 0.8359463\ttotal: 3.9s\tremaining: 9.09s\n",
      "15:\tlearn: 0.8421410\ttotal: 4.2s\tremaining: 8.93s\n",
      "16:\tlearn: 0.8484498\ttotal: 4.47s\tremaining: 8.67s\n",
      "17:\tlearn: 0.8519498\ttotal: 4.74s\tremaining: 8.42s\n",
      "18:\tlearn: 0.8546623\ttotal: 5.02s\tremaining: 8.2s\n",
      "19:\tlearn: 0.8583004\ttotal: 5.32s\tremaining: 7.97s\n",
      "20:\tlearn: 0.8613923\ttotal: 5.59s\tremaining: 7.72s\n",
      "21:\tlearn: 0.8646085\ttotal: 5.86s\tremaining: 7.46s\n",
      "22:\tlearn: 0.8671402\ttotal: 6.11s\tremaining: 7.17s\n",
      "23:\tlearn: 0.8699839\ttotal: 6.38s\tremaining: 6.91s\n",
      "24:\tlearn: 0.8712197\ttotal: 6.63s\tremaining: 6.63s\n",
      "25:\tlearn: 0.8730256\ttotal: 6.9s\tremaining: 6.37s\n",
      "26:\tlearn: 0.8754482\ttotal: 7.15s\tremaining: 6.09s\n",
      "27:\tlearn: 0.8769963\ttotal: 7.41s\tremaining: 5.82s\n",
      "28:\tlearn: 0.8794100\ttotal: 7.66s\tremaining: 5.55s\n",
      "29:\tlearn: 0.8822290\ttotal: 7.93s\tremaining: 5.29s\n",
      "30:\tlearn: 0.8838386\ttotal: 8.2s\tremaining: 5.03s\n",
      "31:\tlearn: 0.8849558\ttotal: 8.46s\tremaining: 4.76s\n",
      "32:\tlearn: 0.8863233\ttotal: 8.72s\tremaining: 4.49s\n",
      "33:\tlearn: 0.8876441\ttotal: 8.98s\tremaining: 4.22s\n",
      "34:\tlearn: 0.8890235\ttotal: 9.23s\tremaining: 3.96s\n",
      "35:\tlearn: 0.8906585\ttotal: 9.49s\tremaining: 3.69s\n",
      "36:\tlearn: 0.8921204\ttotal: 9.74s\tremaining: 3.42s\n",
      "37:\tlearn: 0.8934057\ttotal: 10s\tremaining: 3.16s\n",
      "38:\tlearn: 0.8940456\ttotal: 10.3s\tremaining: 2.9s\n",
      "39:\tlearn: 0.8957812\ttotal: 10.5s\tremaining: 2.63s\n",
      "40:\tlearn: 0.8968074\ttotal: 10.8s\tremaining: 2.36s\n",
      "41:\tlearn: 0.8979913\ttotal: 11s\tremaining: 2.1s\n",
      "42:\tlearn: 0.8989502\ttotal: 11.3s\tremaining: 1.83s\n",
      "43:\tlearn: 0.8995100\ttotal: 11.5s\tremaining: 1.57s\n",
      "44:\tlearn: 0.9002541\ttotal: 11.8s\tremaining: 1.31s\n",
      "45:\tlearn: 0.9012095\ttotal: 12s\tremaining: 1.04s\n",
      "46:\tlearn: 0.9019789\ttotal: 12.3s\tremaining: 783ms\n",
      "47:\tlearn: 0.9028540\ttotal: 12.5s\tremaining: 522ms\n",
      "48:\tlearn: 0.9046216\ttotal: 12.8s\tremaining: 261ms\n",
      "49:\tlearn: 0.9056274\ttotal: 13s\tremaining: 0us\n",
      "0:\tlearn: 0.4989269\ttotal: 246ms\tremaining: 12.1s\n",
      "1:\tlearn: 0.5936826\ttotal: 463ms\tremaining: 11.1s\n",
      "2:\tlearn: 0.6604159\ttotal: 680ms\tremaining: 10.7s\n",
      "3:\tlearn: 0.7039167\ttotal: 897ms\tremaining: 10.3s\n",
      "4:\tlearn: 0.7303876\ttotal: 1.12s\tremaining: 10s\n",
      "5:\tlearn: 0.7471077\ttotal: 1.33s\tremaining: 9.75s\n",
      "6:\tlearn: 0.7647778\ttotal: 1.54s\tremaining: 9.48s\n",
      "7:\tlearn: 0.7756872\ttotal: 1.76s\tremaining: 9.26s\n",
      "8:\tlearn: 0.7897028\ttotal: 2s\tremaining: 9.09s\n",
      "9:\tlearn: 0.8019444\ttotal: 2.21s\tremaining: 8.83s\n",
      "10:\tlearn: 0.8070088\ttotal: 2.43s\tremaining: 8.63s\n",
      "11:\tlearn: 0.8153634\ttotal: 2.65s\tremaining: 8.4s\n",
      "12:\tlearn: 0.8247166\ttotal: 2.87s\tremaining: 8.17s\n",
      "13:\tlearn: 0.8330877\ttotal: 3.1s\tremaining: 7.97s\n",
      "14:\tlearn: 0.8373089\ttotal: 3.33s\tremaining: 7.76s\n",
      "15:\tlearn: 0.8411032\ttotal: 3.55s\tremaining: 7.55s\n",
      "16:\tlearn: 0.8450379\ttotal: 3.78s\tremaining: 7.33s\n",
      "17:\tlearn: 0.8508661\ttotal: 4.01s\tremaining: 7.13s\n",
      "18:\tlearn: 0.8560385\ttotal: 4.23s\tremaining: 6.9s\n",
      "19:\tlearn: 0.8597885\ttotal: 4.44s\tremaining: 6.66s\n",
      "20:\tlearn: 0.8634335\ttotal: 4.66s\tremaining: 6.43s\n",
      "21:\tlearn: 0.8665875\ttotal: 4.87s\tremaining: 6.2s\n",
      "22:\tlearn: 0.8701245\ttotal: 5.1s\tremaining: 5.99s\n",
      "23:\tlearn: 0.8719159\ttotal: 5.31s\tremaining: 5.75s\n",
      "24:\tlearn: 0.8736407\ttotal: 5.53s\tremaining: 5.53s\n",
      "25:\tlearn: 0.8756489\ttotal: 5.74s\tremaining: 5.3s\n",
      "26:\tlearn: 0.8778334\ttotal: 5.99s\tremaining: 5.1s\n",
      "27:\tlearn: 0.8806812\ttotal: 6.25s\tremaining: 4.91s\n",
      "28:\tlearn: 0.8804290\ttotal: 6.47s\tremaining: 4.69s\n",
      "29:\tlearn: 0.8822076\ttotal: 6.7s\tremaining: 4.47s\n",
      "30:\tlearn: 0.8851134\ttotal: 6.93s\tremaining: 4.25s\n",
      "31:\tlearn: 0.8864049\ttotal: 7.15s\tremaining: 4.02s\n",
      "32:\tlearn: 0.8869596\ttotal: 7.38s\tremaining: 3.8s\n",
      "33:\tlearn: 0.8890450\ttotal: 7.6s\tremaining: 3.58s\n",
      "34:\tlearn: 0.8915789\ttotal: 7.82s\tremaining: 3.35s\n",
      "35:\tlearn: 0.8928759\ttotal: 8.03s\tremaining: 3.12s\n",
      "36:\tlearn: 0.8937438\ttotal: 8.24s\tremaining: 2.9s\n",
      "37:\tlearn: 0.8949180\ttotal: 8.45s\tremaining: 2.67s\n",
      "38:\tlearn: 0.8963386\ttotal: 8.66s\tremaining: 2.44s\n",
      "39:\tlearn: 0.8986620\ttotal: 8.88s\tremaining: 2.22s\n",
      "40:\tlearn: 0.8996455\ttotal: 9.1s\tremaining: 2s\n",
      "41:\tlearn: 0.9009585\ttotal: 9.31s\tremaining: 1.77s\n",
      "42:\tlearn: 0.9019380\ttotal: 9.53s\tremaining: 1.55s\n",
      "43:\tlearn: 0.9030725\ttotal: 9.76s\tremaining: 1.33s\n",
      "44:\tlearn: 0.9035698\ttotal: 9.99s\tremaining: 1.11s\n",
      "45:\tlearn: 0.9052522\ttotal: 10.2s\tremaining: 887ms\n",
      "46:\tlearn: 0.9063060\ttotal: 10.4s\tremaining: 665ms\n",
      "47:\tlearn: 0.9073689\ttotal: 10.6s\tremaining: 443ms\n",
      "48:\tlearn: 0.9091643\ttotal: 10.9s\tremaining: 222ms\n",
      "49:\tlearn: 0.9101493\ttotal: 11.1s\tremaining: 0us\n",
      "0:\tlearn: 0.4399312\ttotal: 233ms\tremaining: 11.4s\n",
      "1:\tlearn: 0.5821859\ttotal: 460ms\tremaining: 11s\n",
      "2:\tlearn: 0.6495789\ttotal: 677ms\tremaining: 10.6s\n",
      "3:\tlearn: 0.6992397\ttotal: 896ms\tremaining: 10.3s\n",
      "4:\tlearn: 0.7228317\ttotal: 1.12s\tremaining: 10.1s\n",
      "5:\tlearn: 0.7596980\ttotal: 1.34s\tremaining: 9.82s\n",
      "6:\tlearn: 0.7785560\ttotal: 1.56s\tremaining: 9.6s\n",
      "7:\tlearn: 0.7870780\ttotal: 1.78s\tremaining: 9.35s\n",
      "8:\tlearn: 0.7942457\ttotal: 2s\tremaining: 9.13s\n",
      "9:\tlearn: 0.8050392\ttotal: 2.22s\tremaining: 8.89s\n",
      "10:\tlearn: 0.8086297\ttotal: 2.45s\tremaining: 8.68s\n",
      "11:\tlearn: 0.8187465\ttotal: 2.66s\tremaining: 8.44s\n",
      "12:\tlearn: 0.8245711\ttotal: 2.88s\tremaining: 8.18s\n",
      "13:\tlearn: 0.8322533\ttotal: 3.09s\tremaining: 7.96s\n",
      "14:\tlearn: 0.8385607\ttotal: 3.31s\tremaining: 7.73s\n",
      "15:\tlearn: 0.8442375\ttotal: 3.53s\tremaining: 7.5s\n",
      "16:\tlearn: 0.8469932\ttotal: 3.74s\tremaining: 7.27s\n",
      "17:\tlearn: 0.8516401\ttotal: 3.96s\tremaining: 7.03s\n",
      "18:\tlearn: 0.8563036\ttotal: 4.17s\tremaining: 6.8s\n",
      "19:\tlearn: 0.8595298\ttotal: 4.39s\tremaining: 6.58s\n",
      "20:\tlearn: 0.8629085\ttotal: 4.61s\tremaining: 6.37s\n",
      "21:\tlearn: 0.8649869\ttotal: 4.83s\tremaining: 6.15s\n",
      "22:\tlearn: 0.8672440\ttotal: 5.05s\tremaining: 5.93s\n",
      "23:\tlearn: 0.8707386\ttotal: 5.27s\tremaining: 5.71s\n",
      "24:\tlearn: 0.8733357\ttotal: 5.49s\tremaining: 5.49s\n",
      "25:\tlearn: 0.8761535\ttotal: 5.7s\tremaining: 5.26s\n",
      "26:\tlearn: 0.8777510\ttotal: 5.92s\tremaining: 5.05s\n",
      "27:\tlearn: 0.8807028\ttotal: 6.14s\tremaining: 4.82s\n",
      "28:\tlearn: 0.8819664\ttotal: 6.37s\tremaining: 4.61s\n",
      "29:\tlearn: 0.8831976\ttotal: 6.58s\tremaining: 4.38s\n",
      "30:\tlearn: 0.8848045\ttotal: 6.79s\tremaining: 4.16s\n",
      "31:\tlearn: 0.8864529\ttotal: 7s\tremaining: 3.94s\n",
      "32:\tlearn: 0.8877174\ttotal: 7.21s\tremaining: 3.71s\n",
      "33:\tlearn: 0.8896435\ttotal: 7.43s\tremaining: 3.5s\n",
      "34:\tlearn: 0.8909038\ttotal: 7.65s\tremaining: 3.28s\n",
      "35:\tlearn: 0.8922951\ttotal: 7.86s\tremaining: 3.06s\n",
      "36:\tlearn: 0.8934354\ttotal: 8.07s\tremaining: 2.84s\n",
      "37:\tlearn: 0.8955676\ttotal: 8.28s\tremaining: 2.62s\n",
      "38:\tlearn: 0.8982904\ttotal: 8.5s\tremaining: 2.4s\n",
      "39:\tlearn: 0.8994035\ttotal: 8.71s\tremaining: 2.18s\n",
      "40:\tlearn: 0.9005496\ttotal: 8.93s\tremaining: 1.96s\n",
      "41:\tlearn: 0.9015436\ttotal: 9.15s\tremaining: 1.74s\n",
      "42:\tlearn: 0.9031662\ttotal: 9.36s\tremaining: 1.52s\n",
      "43:\tlearn: 0.9034941\ttotal: 9.57s\tremaining: 1.3s\n",
      "44:\tlearn: 0.9045586\ttotal: 9.79s\tremaining: 1.09s\n",
      "45:\tlearn: 0.9059435\ttotal: 10s\tremaining: 871ms\n",
      "46:\tlearn: 0.9069526\ttotal: 10.2s\tremaining: 654ms\n",
      "47:\tlearn: 0.9077091\ttotal: 10.5s\tremaining: 436ms\n",
      "48:\tlearn: 0.9082014\ttotal: 10.7s\tremaining: 218ms\n",
      "49:\tlearn: 0.9086616\ttotal: 10.9s\tremaining: 0us\n",
      "0:\tlearn: 0.4878617\ttotal: 234ms\tremaining: 11.5s\n",
      "1:\tlearn: 0.5757647\ttotal: 449ms\tremaining: 10.8s\n",
      "2:\tlearn: 0.6409914\ttotal: 666ms\tremaining: 10.4s\n",
      "3:\tlearn: 0.6793370\ttotal: 896ms\tremaining: 10.3s\n",
      "4:\tlearn: 0.7182964\ttotal: 1.13s\tremaining: 10.2s\n",
      "5:\tlearn: 0.7427769\ttotal: 1.34s\tremaining: 9.86s\n",
      "6:\tlearn: 0.7678987\ttotal: 1.56s\tremaining: 9.57s\n",
      "7:\tlearn: 0.7853702\ttotal: 1.78s\tremaining: 9.35s\n",
      "8:\tlearn: 0.7991757\ttotal: 2s\tremaining: 9.09s\n",
      "9:\tlearn: 0.8076113\ttotal: 2.22s\tremaining: 8.88s\n",
      "10:\tlearn: 0.8145370\ttotal: 2.43s\tremaining: 8.63s\n",
      "11:\tlearn: 0.8240955\ttotal: 2.65s\tremaining: 8.4s\n",
      "12:\tlearn: 0.8278558\ttotal: 2.87s\tremaining: 8.17s\n",
      "13:\tlearn: 0.8340140\ttotal: 3.11s\tremaining: 8s\n",
      "14:\tlearn: 0.8399733\ttotal: 3.33s\tremaining: 7.76s\n",
      "15:\tlearn: 0.8460243\ttotal: 3.54s\tremaining: 7.53s\n",
      "16:\tlearn: 0.8516517\ttotal: 3.75s\tremaining: 7.29s\n",
      "17:\tlearn: 0.8555370\ttotal: 3.97s\tremaining: 7.05s\n",
      "18:\tlearn: 0.8591213\ttotal: 4.18s\tremaining: 6.82s\n",
      "19:\tlearn: 0.8614670\ttotal: 4.39s\tremaining: 6.59s\n",
      "20:\tlearn: 0.8645697\ttotal: 4.6s\tremaining: 6.36s\n",
      "21:\tlearn: 0.8674599\ttotal: 4.82s\tremaining: 6.13s\n",
      "22:\tlearn: 0.8704064\ttotal: 5.03s\tremaining: 5.91s\n",
      "23:\tlearn: 0.8725837\ttotal: 5.25s\tremaining: 5.68s\n",
      "24:\tlearn: 0.8768635\ttotal: 5.46s\tremaining: 5.46s\n",
      "25:\tlearn: 0.8781175\ttotal: 5.68s\tremaining: 5.24s\n",
      "26:\tlearn: 0.8812072\ttotal: 5.88s\tremaining: 5.01s\n",
      "27:\tlearn: 0.8824766\ttotal: 6.1s\tremaining: 4.79s\n",
      "28:\tlearn: 0.8834764\ttotal: 6.31s\tremaining: 4.57s\n",
      "29:\tlearn: 0.8856576\ttotal: 6.53s\tremaining: 4.35s\n",
      "30:\tlearn: 0.8861218\ttotal: 6.74s\tremaining: 4.13s\n",
      "31:\tlearn: 0.8874095\ttotal: 6.97s\tremaining: 3.92s\n",
      "32:\tlearn: 0.8891478\ttotal: 7.18s\tremaining: 3.7s\n",
      "33:\tlearn: 0.8913056\ttotal: 7.4s\tremaining: 3.48s\n",
      "34:\tlearn: 0.8936047\ttotal: 7.61s\tremaining: 3.26s\n",
      "35:\tlearn: 0.8953421\ttotal: 7.82s\tremaining: 3.04s\n",
      "36:\tlearn: 0.8966117\ttotal: 8.03s\tremaining: 2.82s\n",
      "37:\tlearn: 0.8974954\ttotal: 8.25s\tremaining: 2.6s\n",
      "38:\tlearn: 0.8985574\ttotal: 8.46s\tremaining: 2.38s\n",
      "39:\tlearn: 0.8994672\ttotal: 8.67s\tremaining: 2.17s\n",
      "40:\tlearn: 0.9003357\ttotal: 8.89s\tremaining: 1.95s\n",
      "41:\tlearn: 0.9014280\ttotal: 9.12s\tremaining: 1.74s\n",
      "42:\tlearn: 0.9025066\ttotal: 9.33s\tremaining: 1.52s\n",
      "43:\tlearn: 0.9034678\ttotal: 9.54s\tremaining: 1.3s\n",
      "44:\tlearn: 0.9045643\ttotal: 9.75s\tremaining: 1.08s\n",
      "45:\tlearn: 0.9059041\ttotal: 9.96s\tremaining: 866ms\n",
      "46:\tlearn: 0.9076684\ttotal: 10.2s\tremaining: 650ms\n",
      "47:\tlearn: 0.9084114\ttotal: 10.4s\tremaining: 433ms\n",
      "48:\tlearn: 0.9097075\ttotal: 10.6s\tremaining: 216ms\n",
      "49:\tlearn: 0.9110958\ttotal: 10.8s\tremaining: 0us\n",
      "0:\tlearn: 0.4680743\ttotal: 237ms\tremaining: 11.6s\n",
      "1:\tlearn: 0.5780418\ttotal: 456ms\tremaining: 10.9s\n",
      "2:\tlearn: 0.6465749\ttotal: 683ms\tremaining: 10.7s\n",
      "3:\tlearn: 0.6791649\ttotal: 903ms\tremaining: 10.4s\n",
      "4:\tlearn: 0.7211623\ttotal: 1.12s\tremaining: 10.1s\n",
      "5:\tlearn: 0.7437226\ttotal: 1.34s\tremaining: 9.85s\n",
      "6:\tlearn: 0.7584446\ttotal: 1.57s\tremaining: 9.63s\n",
      "7:\tlearn: 0.7665646\ttotal: 1.79s\tremaining: 9.41s\n",
      "8:\tlearn: 0.7850739\ttotal: 2.02s\tremaining: 9.2s\n",
      "9:\tlearn: 0.7942596\ttotal: 2.24s\tremaining: 8.97s\n",
      "10:\tlearn: 0.8038924\ttotal: 2.47s\tremaining: 8.77s\n",
      "11:\tlearn: 0.8095594\ttotal: 2.69s\tremaining: 8.53s\n",
      "12:\tlearn: 0.8210150\ttotal: 2.91s\tremaining: 8.28s\n",
      "13:\tlearn: 0.8297172\ttotal: 3.13s\tremaining: 8.04s\n",
      "14:\tlearn: 0.8355916\ttotal: 3.34s\tremaining: 7.79s\n",
      "15:\tlearn: 0.8421557\ttotal: 3.56s\tremaining: 7.56s\n",
      "16:\tlearn: 0.8463422\ttotal: 3.78s\tremaining: 7.34s\n",
      "17:\tlearn: 0.8500298\ttotal: 4s\tremaining: 7.11s\n",
      "18:\tlearn: 0.8537970\ttotal: 4.22s\tremaining: 6.89s\n",
      "19:\tlearn: 0.8579952\ttotal: 4.46s\tremaining: 6.69s\n",
      "20:\tlearn: 0.8602906\ttotal: 4.68s\tremaining: 6.46s\n",
      "21:\tlearn: 0.8636822\ttotal: 4.91s\tremaining: 6.25s\n",
      "22:\tlearn: 0.8675098\ttotal: 5.13s\tremaining: 6.02s\n",
      "23:\tlearn: 0.8704315\ttotal: 5.34s\tremaining: 5.79s\n",
      "24:\tlearn: 0.8720786\ttotal: 5.56s\tremaining: 5.56s\n",
      "25:\tlearn: 0.8725340\ttotal: 5.77s\tremaining: 5.33s\n",
      "26:\tlearn: 0.8755143\ttotal: 6s\tremaining: 5.11s\n",
      "27:\tlearn: 0.8775414\ttotal: 6.21s\tremaining: 4.88s\n",
      "28:\tlearn: 0.8797702\ttotal: 6.43s\tremaining: 4.66s\n",
      "29:\tlearn: 0.8800611\ttotal: 6.64s\tremaining: 4.43s\n",
      "30:\tlearn: 0.8816624\ttotal: 6.86s\tremaining: 4.2s\n",
      "31:\tlearn: 0.8826848\ttotal: 7.08s\tremaining: 3.98s\n",
      "32:\tlearn: 0.8838982\ttotal: 7.29s\tremaining: 3.76s\n",
      "33:\tlearn: 0.8850076\ttotal: 7.51s\tremaining: 3.53s\n",
      "34:\tlearn: 0.8860908\ttotal: 7.72s\tremaining: 3.31s\n",
      "35:\tlearn: 0.8879663\ttotal: 7.94s\tremaining: 3.09s\n",
      "36:\tlearn: 0.8897321\ttotal: 8.15s\tremaining: 2.86s\n",
      "37:\tlearn: 0.8917406\ttotal: 8.37s\tremaining: 2.64s\n",
      "38:\tlearn: 0.8938795\ttotal: 8.58s\tremaining: 2.42s\n",
      "39:\tlearn: 0.8956022\ttotal: 8.8s\tremaining: 2.2s\n",
      "40:\tlearn: 0.8964197\ttotal: 9.02s\tremaining: 1.98s\n",
      "41:\tlearn: 0.8987136\ttotal: 9.24s\tremaining: 1.76s\n",
      "42:\tlearn: 0.8996580\ttotal: 9.45s\tremaining: 1.54s\n",
      "43:\tlearn: 0.9008863\ttotal: 9.67s\tremaining: 1.32s\n",
      "44:\tlearn: 0.9016612\ttotal: 9.89s\tremaining: 1.1s\n",
      "45:\tlearn: 0.9026661\ttotal: 10.1s\tremaining: 879ms\n",
      "46:\tlearn: 0.9038484\ttotal: 10.3s\tremaining: 659ms\n",
      "47:\tlearn: 0.9057846\ttotal: 10.5s\tremaining: 439ms\n",
      "48:\tlearn: 0.9070250\ttotal: 10.7s\tremaining: 219ms\n",
      "49:\tlearn: 0.9081897\ttotal: 11s\tremaining: 0us\n",
      "0:\tlearn: 0.4967742\ttotal: 226ms\tremaining: 11.1s\n",
      "1:\tlearn: 0.6024925\ttotal: 439ms\tremaining: 10.5s\n",
      "2:\tlearn: 0.6547414\ttotal: 663ms\tremaining: 10.4s\n",
      "3:\tlearn: 0.6972883\ttotal: 876ms\tremaining: 10.1s\n",
      "4:\tlearn: 0.7232607\ttotal: 1.09s\tremaining: 9.83s\n",
      "5:\tlearn: 0.7444215\ttotal: 1.31s\tremaining: 9.59s\n",
      "6:\tlearn: 0.7585663\ttotal: 1.52s\tremaining: 9.33s\n",
      "7:\tlearn: 0.7777848\ttotal: 1.74s\tremaining: 9.11s\n",
      "8:\tlearn: 0.7892034\ttotal: 1.95s\tremaining: 8.88s\n",
      "9:\tlearn: 0.7951128\ttotal: 2.17s\tremaining: 8.69s\n",
      "10:\tlearn: 0.8046491\ttotal: 2.38s\tremaining: 8.45s\n",
      "11:\tlearn: 0.8165942\ttotal: 2.6s\tremaining: 8.24s\n",
      "12:\tlearn: 0.8261641\ttotal: 2.81s\tremaining: 8.01s\n",
      "13:\tlearn: 0.8312883\ttotal: 3.03s\tremaining: 7.79s\n",
      "14:\tlearn: 0.8359065\ttotal: 3.24s\tremaining: 7.57s\n",
      "15:\tlearn: 0.8408069\ttotal: 3.46s\tremaining: 7.36s\n",
      "16:\tlearn: 0.8450892\ttotal: 3.68s\tremaining: 7.14s\n",
      "17:\tlearn: 0.8491580\ttotal: 3.9s\tremaining: 6.93s\n",
      "18:\tlearn: 0.8541379\ttotal: 4.11s\tremaining: 6.71s\n",
      "19:\tlearn: 0.8578957\ttotal: 4.32s\tremaining: 6.49s\n",
      "20:\tlearn: 0.8617566\ttotal: 4.53s\tremaining: 6.26s\n",
      "21:\tlearn: 0.8663660\ttotal: 4.78s\tremaining: 6.09s\n",
      "22:\tlearn: 0.8698018\ttotal: 5s\tremaining: 5.88s\n",
      "23:\tlearn: 0.8712801\ttotal: 5.23s\tremaining: 5.67s\n",
      "24:\tlearn: 0.8739328\ttotal: 5.45s\tremaining: 5.45s\n",
      "25:\tlearn: 0.8761433\ttotal: 5.68s\tremaining: 5.24s\n",
      "26:\tlearn: 0.8781292\ttotal: 5.9s\tremaining: 5.03s\n",
      "27:\tlearn: 0.8801128\ttotal: 6.13s\tremaining: 4.82s\n",
      "28:\tlearn: 0.8816662\ttotal: 6.35s\tremaining: 4.6s\n",
      "29:\tlearn: 0.8823668\ttotal: 6.58s\tremaining: 4.39s\n",
      "30:\tlearn: 0.8843179\ttotal: 6.79s\tremaining: 4.16s\n",
      "31:\tlearn: 0.8860981\ttotal: 7.01s\tremaining: 3.94s\n",
      "32:\tlearn: 0.8879164\ttotal: 7.22s\tremaining: 3.72s\n",
      "33:\tlearn: 0.8891996\ttotal: 7.44s\tremaining: 3.5s\n",
      "34:\tlearn: 0.8906477\ttotal: 7.66s\tremaining: 3.28s\n",
      "35:\tlearn: 0.8928011\ttotal: 7.88s\tremaining: 3.06s\n",
      "36:\tlearn: 0.8943429\ttotal: 8.1s\tremaining: 2.84s\n",
      "37:\tlearn: 0.8954999\ttotal: 8.31s\tremaining: 2.63s\n",
      "38:\tlearn: 0.8967036\ttotal: 8.54s\tremaining: 2.41s\n",
      "39:\tlearn: 0.8976496\ttotal: 8.78s\tremaining: 2.19s\n",
      "40:\tlearn: 0.8982403\ttotal: 8.98s\tremaining: 1.97s\n",
      "41:\tlearn: 0.8996820\ttotal: 9.2s\tremaining: 1.75s\n",
      "42:\tlearn: 0.9016185\ttotal: 9.42s\tremaining: 1.53s\n",
      "43:\tlearn: 0.9022939\ttotal: 9.66s\tremaining: 1.32s\n",
      "44:\tlearn: 0.9032444\ttotal: 9.87s\tremaining: 1.1s\n",
      "45:\tlearn: 0.9040226\ttotal: 10.1s\tremaining: 877ms\n",
      "46:\tlearn: 0.9047262\ttotal: 10.3s\tremaining: 658ms\n",
      "47:\tlearn: 0.9055472\ttotal: 10.5s\tremaining: 438ms\n",
      "48:\tlearn: 0.9065501\ttotal: 10.7s\tremaining: 219ms\n",
      "49:\tlearn: 0.9072094\ttotal: 11s\tremaining: 0us\n",
      "F1: 0.8584964959965167\n",
      "Wall time: 1min 16s\n"
     ]
    }
   ],
   "source": [
    "%%time\n",
    "# модель для downsampling\n",
    "cat_model = CatBoostClassifier(eval_metric=\"F1\", \n",
    "                                   iterations=50, \n",
    "                                   max_depth=6, \n",
    "                                   learning_rate=0.9, \n",
    "                                   random_state=42)\n",
    "cat_model.fit(features_train_downsample, target_train_downsample)\n",
    "f1 = np.mean(cross_val_score(cat_model,features_train_downsample, target_train_downsample,cv=5,scoring='f1'))\n",
    "\n",
    "print('F1:', f1)\n",
    "\n",
    "result_downsample.append(f1) "
   ]
  },
  {
   "cell_type": "code",
   "execution_count": 103,
   "id": "08a98840",
   "metadata": {},
   "outputs": [
    {
     "name": "stdout",
     "output_type": "stream",
     "text": [
      "0:\tlearn: 0.3464567\ttotal: 60.4ms\tremaining: 2.96s\n",
      "1:\tlearn: 0.4850746\ttotal: 120ms\tremaining: 2.88s\n",
      "2:\tlearn: 0.5800712\ttotal: 179ms\tremaining: 2.81s\n",
      "3:\tlearn: 0.6423841\ttotal: 240ms\tremaining: 2.77s\n",
      "4:\tlearn: 0.6828479\ttotal: 302ms\tremaining: 2.71s\n",
      "5:\tlearn: 0.7207488\ttotal: 360ms\tremaining: 2.64s\n",
      "6:\tlearn: 0.7320872\ttotal: 419ms\tremaining: 2.58s\n",
      "7:\tlearn: 0.7411945\ttotal: 480ms\tremaining: 2.52s\n",
      "8:\tlearn: 0.7786260\ttotal: 541ms\tremaining: 2.46s\n",
      "9:\tlearn: 0.7951807\ttotal: 602ms\tremaining: 2.41s\n",
      "10:\tlearn: 0.8330871\ttotal: 663ms\tremaining: 2.35s\n",
      "11:\tlearn: 0.8325926\ttotal: 721ms\tremaining: 2.28s\n",
      "12:\tlearn: 0.8554745\ttotal: 781ms\tremaining: 2.22s\n",
      "13:\tlearn: 0.8683068\ttotal: 840ms\tremaining: 2.16s\n",
      "14:\tlearn: 0.8825215\ttotal: 899ms\tremaining: 2.1s\n",
      "15:\tlearn: 0.8983051\ttotal: 962ms\tremaining: 2.04s\n",
      "16:\tlearn: 0.9011299\ttotal: 1.02s\tremaining: 1.98s\n",
      "17:\tlearn: 0.9113924\ttotal: 1.08s\tremaining: 1.92s\n",
      "18:\tlearn: 0.9230769\ttotal: 1.14s\tremaining: 1.86s\n",
      "19:\tlearn: 0.9275766\ttotal: 1.2s\tremaining: 1.8s\n",
      "20:\tlearn: 0.9305556\ttotal: 1.26s\tremaining: 1.74s\n",
      "21:\tlearn: 0.9423077\ttotal: 1.32s\tremaining: 1.68s\n",
      "22:\tlearn: 0.9465021\ttotal: 1.38s\tremaining: 1.62s\n",
      "23:\tlearn: 0.9479452\ttotal: 1.43s\tremaining: 1.55s\n",
      "24:\tlearn: 0.9508197\ttotal: 1.49s\tremaining: 1.49s\n",
      "25:\tlearn: 0.9607578\ttotal: 1.55s\tremaining: 1.43s\n",
      "26:\tlearn: 0.9622642\ttotal: 1.61s\tremaining: 1.37s\n",
      "27:\tlearn: 0.9663526\ttotal: 1.67s\tremaining: 1.31s\n",
      "28:\tlearn: 0.9705094\ttotal: 1.73s\tremaining: 1.25s\n",
      "29:\tlearn: 0.9705094\ttotal: 1.79s\tremaining: 1.2s\n",
      "30:\tlearn: 0.9787234\ttotal: 1.85s\tremaining: 1.14s\n",
      "31:\tlearn: 0.9786667\ttotal: 1.91s\tremaining: 1.07s\n",
      "32:\tlearn: 0.9867725\ttotal: 1.97s\tremaining: 1.01s\n",
      "33:\tlearn: 0.9881110\ttotal: 2.03s\tremaining: 956ms\n",
      "34:\tlearn: 0.9894459\ttotal: 2.1s\tremaining: 899ms\n",
      "35:\tlearn: 0.9907773\ttotal: 2.16s\tremaining: 839ms\n",
      "36:\tlearn: 0.9934297\ttotal: 2.21s\tremaining: 779ms\n",
      "37:\tlearn: 0.9921053\ttotal: 2.28s\tremaining: 719ms\n",
      "38:\tlearn: 0.9934297\ttotal: 2.33s\tremaining: 659ms\n",
      "39:\tlearn: 0.9947507\ttotal: 2.39s\tremaining: 599ms\n",
      "40:\tlearn: 0.9960682\ttotal: 2.46s\tremaining: 539ms\n",
      "41:\tlearn: 0.9960682\ttotal: 2.51s\tremaining: 479ms\n",
      "42:\tlearn: 0.9986928\ttotal: 2.57s\tremaining: 419ms\n",
      "43:\tlearn: 1.0000000\ttotal: 2.63s\tremaining: 359ms\n",
      "44:\tlearn: 1.0000000\ttotal: 2.69s\tremaining: 299ms\n",
      "45:\tlearn: 0.9986928\ttotal: 2.75s\tremaining: 239ms\n",
      "46:\tlearn: 0.9986928\ttotal: 2.81s\tremaining: 179ms\n",
      "47:\tlearn: 1.0000000\ttotal: 2.87s\tremaining: 120ms\n",
      "48:\tlearn: 1.0000000\ttotal: 2.93s\tremaining: 59.7ms\n",
      "49:\tlearn: 1.0000000\ttotal: 2.99s\tremaining: 0us\n",
      "0:\tlearn: 0.4962687\ttotal: 82.5ms\tremaining: 4.04s\n",
      "1:\tlearn: 0.5168539\ttotal: 144ms\tremaining: 3.44s\n",
      "2:\tlearn: 0.6039387\ttotal: 202ms\tremaining: 3.16s\n",
      "3:\tlearn: 0.6597938\ttotal: 259ms\tremaining: 2.98s\n",
      "4:\tlearn: 0.7128310\ttotal: 317ms\tremaining: 2.85s\n",
      "5:\tlearn: 0.7287129\ttotal: 378ms\tremaining: 2.77s\n",
      "6:\tlearn: 0.7572816\ttotal: 437ms\tremaining: 2.69s\n",
      "7:\tlearn: 0.7840909\ttotal: 495ms\tremaining: 2.6s\n",
      "8:\tlearn: 0.8164794\ttotal: 555ms\tremaining: 2.53s\n",
      "9:\tlearn: 0.8345588\ttotal: 613ms\tremaining: 2.45s\n",
      "10:\tlearn: 0.8440367\ttotal: 671ms\tremaining: 2.38s\n",
      "11:\tlearn: 0.8503650\ttotal: 740ms\tremaining: 2.34s\n",
      "12:\tlearn: 0.8679928\ttotal: 799ms\tremaining: 2.27s\n",
      "13:\tlearn: 0.8736462\ttotal: 857ms\tremaining: 2.2s\n",
      "14:\tlearn: 0.8821429\ttotal: 917ms\tremaining: 2.14s\n",
      "15:\tlearn: 0.9125874\ttotal: 976ms\tremaining: 2.07s\n",
      "16:\tlearn: 0.9144852\ttotal: 1.04s\tremaining: 2.01s\n",
      "17:\tlearn: 0.9198606\ttotal: 1.09s\tremaining: 1.95s\n",
      "18:\tlearn: 0.9289428\ttotal: 1.16s\tremaining: 1.89s\n",
      "19:\tlearn: 0.9399657\ttotal: 1.21s\tremaining: 1.82s\n",
      "20:\tlearn: 0.9491525\ttotal: 1.27s\tremaining: 1.76s\n",
      "21:\tlearn: 0.9595960\ttotal: 1.33s\tremaining: 1.7s\n",
      "22:\tlearn: 0.9630872\ttotal: 1.39s\tremaining: 1.63s\n",
      "23:\tlearn: 0.9717138\ttotal: 1.45s\tremaining: 1.57s\n",
      "24:\tlearn: 0.9717138\ttotal: 1.51s\tremaining: 1.51s\n",
      "25:\tlearn: 0.9750416\ttotal: 1.57s\tremaining: 1.45s\n",
      "26:\tlearn: 0.9801325\ttotal: 1.63s\tremaining: 1.39s\n",
      "27:\tlearn: 0.9867987\ttotal: 1.69s\tremaining: 1.32s\n",
      "28:\tlearn: 0.9867987\ttotal: 1.74s\tremaining: 1.26s\n",
      "29:\tlearn: 0.9917898\ttotal: 1.8s\tremaining: 1.2s\n",
      "30:\tlearn: 0.9934426\ttotal: 1.86s\tremaining: 1.14s\n",
      "31:\tlearn: 0.9934426\ttotal: 1.92s\tremaining: 1.08s\n",
      "32:\tlearn: 0.9950900\ttotal: 1.98s\tremaining: 1.02s\n",
      "33:\tlearn: 0.9983687\ttotal: 2.04s\tremaining: 959ms\n",
      "34:\tlearn: 1.0000000\ttotal: 2.1s\tremaining: 898ms\n",
      "35:\tlearn: 1.0000000\ttotal: 2.15s\tremaining: 838ms\n",
      "36:\tlearn: 0.9983687\ttotal: 2.21s\tremaining: 778ms\n",
      "37:\tlearn: 0.9983687\ttotal: 2.27s\tremaining: 718ms\n",
      "38:\tlearn: 1.0000000\ttotal: 2.33s\tremaining: 657ms\n",
      "39:\tlearn: 1.0000000\ttotal: 2.39s\tremaining: 597ms\n",
      "40:\tlearn: 1.0000000\ttotal: 2.45s\tremaining: 537ms\n",
      "41:\tlearn: 1.0000000\ttotal: 2.5s\tremaining: 477ms\n",
      "42:\tlearn: 1.0000000\ttotal: 2.56s\tremaining: 417ms\n",
      "43:\tlearn: 1.0000000\ttotal: 2.62s\tremaining: 357ms\n",
      "44:\tlearn: 1.0000000\ttotal: 2.68s\tremaining: 298ms\n",
      "45:\tlearn: 1.0000000\ttotal: 2.74s\tremaining: 238ms\n",
      "46:\tlearn: 1.0000000\ttotal: 2.8s\tremaining: 179ms\n",
      "47:\tlearn: 1.0000000\ttotal: 2.86s\tremaining: 119ms\n",
      "48:\tlearn: 1.0000000\ttotal: 2.92s\tremaining: 59.5ms\n",
      "49:\tlearn: 1.0000000\ttotal: 2.98s\tremaining: 0us\n",
      "0:\tlearn: 0.4977974\ttotal: 59.8ms\tremaining: 2.93s\n",
      "1:\tlearn: 0.5227273\ttotal: 118ms\tremaining: 2.84s\n",
      "2:\tlearn: 0.6114650\ttotal: 177ms\tremaining: 2.77s\n",
      "3:\tlearn: 0.6428571\ttotal: 235ms\tremaining: 2.71s\n",
      "4:\tlearn: 0.6880000\ttotal: 295ms\tremaining: 2.66s\n",
      "5:\tlearn: 0.7196819\ttotal: 363ms\tremaining: 2.66s\n",
      "6:\tlearn: 0.7504912\ttotal: 422ms\tremaining: 2.59s\n",
      "7:\tlearn: 0.7839388\ttotal: 481ms\tremaining: 2.52s\n",
      "8:\tlearn: 0.8097928\ttotal: 542ms\tremaining: 2.47s\n",
      "9:\tlearn: 0.8246269\ttotal: 601ms\tremaining: 2.4s\n",
      "10:\tlearn: 0.8428835\ttotal: 659ms\tremaining: 2.33s\n",
      "11:\tlearn: 0.8566176\ttotal: 719ms\tremaining: 2.28s\n",
      "12:\tlearn: 0.8649635\ttotal: 777ms\tremaining: 2.21s\n",
      "13:\tlearn: 0.8684685\ttotal: 835ms\tremaining: 2.15s\n",
      "14:\tlearn: 0.8861210\ttotal: 893ms\tremaining: 2.08s\n",
      "15:\tlearn: 0.8916519\ttotal: 954ms\tremaining: 2.03s\n",
      "16:\tlearn: 0.9106830\ttotal: 1.01s\tremaining: 1.97s\n",
      "17:\tlearn: 0.9252174\ttotal: 1.07s\tremaining: 1.9s\n",
      "18:\tlearn: 0.9273356\ttotal: 1.13s\tremaining: 1.84s\n",
      "19:\tlearn: 0.9363167\ttotal: 1.19s\tremaining: 1.78s\n",
      "20:\tlearn: 0.9453925\ttotal: 1.24s\tremaining: 1.72s\n",
      "21:\tlearn: 0.9489796\ttotal: 1.3s\tremaining: 1.66s\n",
      "22:\tlearn: 0.9644670\ttotal: 1.37s\tremaining: 1.61s\n",
      "23:\tlearn: 0.9644670\ttotal: 1.43s\tremaining: 1.54s\n",
      "24:\tlearn: 0.9696970\ttotal: 1.49s\tremaining: 1.49s\n",
      "25:\tlearn: 0.9696970\ttotal: 1.55s\tremaining: 1.43s\n",
      "26:\tlearn: 0.9731544\ttotal: 1.6s\tremaining: 1.37s\n",
      "27:\tlearn: 0.9816972\ttotal: 1.67s\tremaining: 1.31s\n",
      "28:\tlearn: 0.9833887\ttotal: 1.73s\tremaining: 1.25s\n",
      "29:\tlearn: 0.9850746\ttotal: 1.78s\tremaining: 1.19s\n",
      "30:\tlearn: 0.9850746\ttotal: 1.84s\tremaining: 1.13s\n",
      "31:\tlearn: 0.9833887\ttotal: 1.9s\tremaining: 1.07s\n",
      "32:\tlearn: 0.9850746\ttotal: 1.96s\tremaining: 1.01s\n",
      "33:\tlearn: 0.9867550\ttotal: 2.02s\tremaining: 951ms\n",
      "34:\tlearn: 0.9917628\ttotal: 2.08s\tremaining: 891ms\n",
      "35:\tlearn: 0.9917628\ttotal: 2.14s\tremaining: 831ms\n",
      "36:\tlearn: 0.9950739\ttotal: 2.19s\tremaining: 771ms\n",
      "37:\tlearn: 0.9967213\ttotal: 2.25s\tremaining: 711ms\n",
      "38:\tlearn: 0.9983633\ttotal: 2.31s\tremaining: 652ms\n",
      "39:\tlearn: 1.0000000\ttotal: 2.37s\tremaining: 592ms\n",
      "40:\tlearn: 0.9983633\ttotal: 2.43s\tremaining: 533ms\n",
      "41:\tlearn: 1.0000000\ttotal: 2.49s\tremaining: 474ms\n",
      "42:\tlearn: 1.0000000\ttotal: 2.54s\tremaining: 414ms\n",
      "43:\tlearn: 1.0000000\ttotal: 2.6s\tremaining: 355ms\n",
      "44:\tlearn: 1.0000000\ttotal: 2.66s\tremaining: 296ms\n",
      "45:\tlearn: 1.0000000\ttotal: 2.72s\tremaining: 237ms\n",
      "46:\tlearn: 1.0000000\ttotal: 2.78s\tremaining: 177ms\n",
      "47:\tlearn: 1.0000000\ttotal: 2.84s\tremaining: 118ms\n",
      "48:\tlearn: 1.0000000\ttotal: 2.9s\tremaining: 59.2ms\n",
      "49:\tlearn: 1.0000000\ttotal: 2.96s\tremaining: 0us\n",
      "0:\tlearn: 0.1787709\ttotal: 60.9ms\tremaining: 2.98s\n",
      "1:\tlearn: 0.4630072\ttotal: 119ms\tremaining: 2.85s\n",
      "2:\tlearn: 0.5600000\ttotal: 179ms\tremaining: 2.8s\n",
      "3:\tlearn: 0.6346555\ttotal: 239ms\tremaining: 2.75s\n",
      "4:\tlearn: 0.6680328\ttotal: 301ms\tremaining: 2.7s\n",
      "5:\tlearn: 0.7145709\ttotal: 361ms\tremaining: 2.65s\n",
      "6:\tlearn: 0.7297830\ttotal: 419ms\tremaining: 2.58s\n",
      "7:\tlearn: 0.7784200\ttotal: 478ms\tremaining: 2.51s\n",
      "8:\tlearn: 0.8000000\ttotal: 538ms\tremaining: 2.45s\n",
      "9:\tlearn: 0.8154982\ttotal: 597ms\tremaining: 2.39s\n",
      "10:\tlearn: 0.8315018\ttotal: 656ms\tremaining: 2.33s\n",
      "11:\tlearn: 0.8369565\ttotal: 716ms\tremaining: 2.27s\n",
      "12:\tlearn: 0.8607143\ttotal: 776ms\tremaining: 2.21s\n",
      "13:\tlearn: 0.8763251\ttotal: 837ms\tremaining: 2.15s\n",
      "14:\tlearn: 0.8857645\ttotal: 894ms\tremaining: 2.09s\n",
      "15:\tlearn: 0.9078261\ttotal: 954ms\tremaining: 2.03s\n",
      "16:\tlearn: 0.9163763\ttotal: 1.01s\tremaining: 1.97s\n",
      "17:\tlearn: 0.9254766\ttotal: 1.07s\tremaining: 1.9s\n",
      "18:\tlearn: 0.9312715\ttotal: 1.13s\tremaining: 1.84s\n",
      "19:\tlearn: 0.9385666\ttotal: 1.19s\tremaining: 1.78s\n",
      "20:\tlearn: 0.9489796\ttotal: 1.25s\tremaining: 1.73s\n",
      "21:\tlearn: 0.9523810\ttotal: 1.31s\tremaining: 1.67s\n",
      "22:\tlearn: 0.9541596\ttotal: 1.37s\tremaining: 1.61s\n",
      "23:\tlearn: 0.9647059\ttotal: 1.43s\tremaining: 1.55s\n",
      "24:\tlearn: 0.9733333\ttotal: 1.49s\tremaining: 1.49s\n",
      "25:\tlearn: 0.9800664\ttotal: 1.55s\tremaining: 1.43s\n",
      "26:\tlearn: 0.9833887\ttotal: 1.61s\tremaining: 1.37s\n",
      "27:\tlearn: 0.9884298\ttotal: 1.67s\tremaining: 1.31s\n",
      "28:\tlearn: 0.9917628\ttotal: 1.73s\tremaining: 1.25s\n",
      "29:\tlearn: 0.9900990\ttotal: 1.79s\tremaining: 1.19s\n",
      "30:\tlearn: 0.9917628\ttotal: 1.85s\tremaining: 1.14s\n",
      "31:\tlearn: 0.9950739\ttotal: 1.91s\tremaining: 1.07s\n",
      "32:\tlearn: 0.9950739\ttotal: 1.97s\tremaining: 1.01s\n",
      "33:\tlearn: 0.9967213\ttotal: 2.03s\tremaining: 956ms\n",
      "34:\tlearn: 0.9967213\ttotal: 2.09s\tremaining: 896ms\n",
      "35:\tlearn: 0.9967213\ttotal: 2.15s\tremaining: 836ms\n",
      "36:\tlearn: 0.9983633\ttotal: 2.21s\tremaining: 776ms\n",
      "37:\tlearn: 1.0000000\ttotal: 2.27s\tremaining: 716ms\n",
      "38:\tlearn: 1.0000000\ttotal: 2.33s\tremaining: 656ms\n",
      "39:\tlearn: 0.9983633\ttotal: 2.38s\tremaining: 596ms\n",
      "40:\tlearn: 1.0000000\ttotal: 2.44s\tremaining: 537ms\n",
      "41:\tlearn: 1.0000000\ttotal: 2.5s\tremaining: 477ms\n",
      "42:\tlearn: 1.0000000\ttotal: 2.56s\tremaining: 418ms\n",
      "43:\tlearn: 1.0000000\ttotal: 2.62s\tremaining: 358ms\n",
      "44:\tlearn: 0.9983633\ttotal: 2.68s\tremaining: 298ms\n",
      "45:\tlearn: 0.9983633\ttotal: 2.74s\tremaining: 239ms\n",
      "46:\tlearn: 0.9983633\ttotal: 2.8s\tremaining: 179ms\n",
      "47:\tlearn: 1.0000000\ttotal: 2.86s\tremaining: 119ms\n",
      "48:\tlearn: 1.0000000\ttotal: 2.92s\tremaining: 59.7ms\n",
      "49:\tlearn: 1.0000000\ttotal: 2.98s\tremaining: 0us\n",
      "0:\tlearn: 0.3535109\ttotal: 83.8ms\tremaining: 4.11s\n",
      "1:\tlearn: 0.4822695\ttotal: 142ms\tremaining: 3.42s\n",
      "2:\tlearn: 0.5585586\ttotal: 203ms\tremaining: 3.17s\n",
      "3:\tlearn: 0.6396588\ttotal: 262ms\tremaining: 3.01s\n",
      "4:\tlearn: 0.6979592\ttotal: 324ms\tremaining: 2.91s\n",
      "5:\tlearn: 0.7345309\ttotal: 384ms\tremaining: 2.82s\n",
      "6:\tlearn: 0.7659574\ttotal: 444ms\tremaining: 2.73s\n",
      "7:\tlearn: 0.7792706\ttotal: 505ms\tremaining: 2.65s\n",
      "8:\tlearn: 0.8007519\ttotal: 566ms\tremaining: 2.58s\n",
      "9:\tlearn: 0.8090737\ttotal: 631ms\tremaining: 2.52s\n",
      "10:\tlearn: 0.8274583\ttotal: 691ms\tremaining: 2.45s\n",
      "11:\tlearn: 0.8403670\ttotal: 749ms\tremaining: 2.37s\n",
      "12:\tlearn: 0.8694097\ttotal: 809ms\tremaining: 2.3s\n",
      "13:\tlearn: 0.8774423\ttotal: 868ms\tremaining: 2.23s\n",
      "14:\tlearn: 0.8853616\ttotal: 929ms\tremaining: 2.17s\n",
      "15:\tlearn: 0.9040140\ttotal: 988ms\tremaining: 2.1s\n",
      "16:\tlearn: 0.9150780\ttotal: 1.05s\tremaining: 2.04s\n",
      "17:\tlearn: 0.9225473\ttotal: 1.11s\tremaining: 1.97s\n",
      "18:\tlearn: 0.9403748\ttotal: 1.17s\tremaining: 1.91s\n",
      "19:\tlearn: 0.9387755\ttotal: 1.23s\tremaining: 1.84s\n",
      "20:\tlearn: 0.9437819\ttotal: 1.28s\tremaining: 1.77s\n",
      "21:\tlearn: 0.9563758\ttotal: 1.34s\tremaining: 1.71s\n",
      "22:\tlearn: 0.9748744\ttotal: 1.4s\tremaining: 1.65s\n",
      "23:\tlearn: 0.9800000\ttotal: 1.46s\tremaining: 1.58s\n",
      "24:\tlearn: 0.9800000\ttotal: 1.52s\tremaining: 1.52s\n",
      "25:\tlearn: 0.9800000\ttotal: 1.58s\tremaining: 1.46s\n",
      "26:\tlearn: 0.9816972\ttotal: 1.64s\tremaining: 1.39s\n",
      "27:\tlearn: 0.9816972\ttotal: 1.7s\tremaining: 1.33s\n",
      "28:\tlearn: 0.9833887\ttotal: 1.75s\tremaining: 1.27s\n",
      "29:\tlearn: 0.9867550\ttotal: 1.81s\tremaining: 1.21s\n",
      "30:\tlearn: 0.9917628\ttotal: 1.87s\tremaining: 1.15s\n",
      "31:\tlearn: 0.9917628\ttotal: 1.93s\tremaining: 1.08s\n",
      "32:\tlearn: 0.9917628\ttotal: 1.99s\tremaining: 1.02s\n",
      "33:\tlearn: 0.9934211\ttotal: 2.05s\tremaining: 963ms\n",
      "34:\tlearn: 0.9934211\ttotal: 2.1s\tremaining: 902ms\n",
      "35:\tlearn: 0.9950739\ttotal: 2.16s\tremaining: 841ms\n",
      "36:\tlearn: 0.9967213\ttotal: 2.22s\tremaining: 780ms\n",
      "37:\tlearn: 0.9983633\ttotal: 2.28s\tremaining: 720ms\n",
      "38:\tlearn: 0.9983633\ttotal: 2.35s\tremaining: 663ms\n",
      "39:\tlearn: 1.0000000\ttotal: 2.41s\tremaining: 603ms\n",
      "40:\tlearn: 1.0000000\ttotal: 2.47s\tremaining: 542ms\n",
      "41:\tlearn: 1.0000000\ttotal: 2.53s\tremaining: 481ms\n",
      "42:\tlearn: 1.0000000\ttotal: 2.58s\tremaining: 421ms\n",
      "43:\tlearn: 1.0000000\ttotal: 2.64s\tremaining: 361ms\n",
      "44:\tlearn: 1.0000000\ttotal: 2.7s\tremaining: 300ms\n",
      "45:\tlearn: 1.0000000\ttotal: 2.78s\tremaining: 242ms\n",
      "46:\tlearn: 1.0000000\ttotal: 2.84s\tremaining: 181ms\n",
      "47:\tlearn: 1.0000000\ttotal: 2.89s\tremaining: 121ms\n",
      "48:\tlearn: 1.0000000\ttotal: 2.95s\tremaining: 60.3ms\n",
      "49:\tlearn: 1.0000000\ttotal: 3.01s\tremaining: 0us\n",
      "0:\tlearn: 0.2946860\ttotal: 65.5ms\tremaining: 3.21s\n",
      "1:\tlearn: 0.4711538\ttotal: 126ms\tremaining: 3.02s\n",
      "2:\tlearn: 0.6065934\ttotal: 188ms\tremaining: 2.95s\n",
      "3:\tlearn: 0.6497890\ttotal: 249ms\tremaining: 2.86s\n",
      "4:\tlearn: 0.7010309\ttotal: 307ms\tremaining: 2.76s\n",
      "5:\tlearn: 0.7380952\ttotal: 367ms\tremaining: 2.69s\n",
      "6:\tlearn: 0.7495069\ttotal: 426ms\tremaining: 2.62s\n",
      "7:\tlearn: 0.7760618\ttotal: 489ms\tremaining: 2.57s\n",
      "8:\tlearn: 0.7728155\ttotal: 549ms\tremaining: 2.5s\n",
      "9:\tlearn: 0.8076190\ttotal: 608ms\tremaining: 2.43s\n",
      "10:\tlearn: 0.8105066\ttotal: 668ms\tremaining: 2.37s\n",
      "11:\tlearn: 0.8274583\ttotal: 728ms\tremaining: 2.3s\n",
      "12:\tlearn: 0.8566176\ttotal: 788ms\tremaining: 2.24s\n",
      "13:\tlearn: 0.8797127\ttotal: 848ms\tremaining: 2.18s\n",
      "14:\tlearn: 0.8896797\ttotal: 907ms\tremaining: 2.12s\n",
      "15:\tlearn: 0.9007092\ttotal: 967ms\tremaining: 2.05s\n",
      "16:\tlearn: 0.8991150\ttotal: 1.03s\tremaining: 2s\n",
      "17:\tlearn: 0.9119718\ttotal: 1.09s\tremaining: 1.93s\n",
      "18:\tlearn: 0.9286957\ttotal: 1.15s\tremaining: 1.87s\n",
      "19:\tlearn: 0.9230769\ttotal: 1.21s\tremaining: 1.81s\n",
      "20:\tlearn: 0.9321739\ttotal: 1.27s\tremaining: 1.75s\n",
      "21:\tlearn: 0.9413793\ttotal: 1.33s\tremaining: 1.7s\n",
      "22:\tlearn: 0.9522184\ttotal: 1.39s\tremaining: 1.64s\n",
      "23:\tlearn: 0.9610829\ttotal: 1.46s\tremaining: 1.58s\n",
      "24:\tlearn: 0.9645868\ttotal: 1.52s\tremaining: 1.52s\n",
      "25:\tlearn: 0.9732441\ttotal: 1.57s\tremaining: 1.45s\n",
      "26:\tlearn: 0.9766667\ttotal: 1.65s\tremaining: 1.41s\n",
      "27:\tlearn: 0.9800664\ttotal: 1.71s\tremaining: 1.34s\n",
      "28:\tlearn: 0.9851240\ttotal: 1.76s\tremaining: 1.28s\n",
      "29:\tlearn: 0.9901316\ttotal: 1.82s\tremaining: 1.22s\n",
      "30:\tlearn: 0.9917898\ttotal: 1.88s\tremaining: 1.15s\n",
      "31:\tlearn: 0.9934426\ttotal: 1.94s\tremaining: 1.09s\n",
      "32:\tlearn: 0.9934426\ttotal: 2s\tremaining: 1.03s\n",
      "33:\tlearn: 0.9967320\ttotal: 2.06s\tremaining: 968ms\n",
      "34:\tlearn: 0.9967320\ttotal: 2.12s\tremaining: 907ms\n",
      "35:\tlearn: 0.9983687\ttotal: 2.17s\tremaining: 846ms\n",
      "36:\tlearn: 0.9983687\ttotal: 2.23s\tremaining: 785ms\n",
      "37:\tlearn: 1.0000000\ttotal: 2.29s\tremaining: 724ms\n",
      "38:\tlearn: 1.0000000\ttotal: 2.35s\tremaining: 663ms\n",
      "39:\tlearn: 1.0000000\ttotal: 2.41s\tremaining: 603ms\n",
      "40:\tlearn: 1.0000000\ttotal: 2.47s\tremaining: 543ms\n",
      "41:\tlearn: 1.0000000\ttotal: 2.53s\tremaining: 482ms\n",
      "42:\tlearn: 1.0000000\ttotal: 2.59s\tremaining: 421ms\n",
      "43:\tlearn: 1.0000000\ttotal: 2.65s\tremaining: 361ms\n",
      "44:\tlearn: 1.0000000\ttotal: 2.7s\tremaining: 301ms\n",
      "45:\tlearn: 1.0000000\ttotal: 2.76s\tremaining: 240ms\n",
      "46:\tlearn: 1.0000000\ttotal: 2.82s\tremaining: 180ms\n",
      "47:\tlearn: 1.0000000\ttotal: 2.88s\tremaining: 120ms\n",
      "48:\tlearn: 1.0000000\ttotal: 2.94s\tremaining: 60ms\n",
      "49:\tlearn: 1.0000000\ttotal: 3s\tremaining: 0us\n",
      "F1: 0.6170486314680911\n",
      "Wall time: 19 s\n"
     ]
    }
   ],
   "source": [
    "%%time\n",
    "# модель для обрабоки BERT\n",
    "cat_model = CatBoostClassifier(eval_metric=\"F1\", \n",
    "                                   iterations=50, \n",
    "                                   max_depth=6, \n",
    "                                   learning_rate=0.5, \n",
    "                                   random_state=42)\n",
    "cat_model.fit(features_train_bert, target_train_bert)\n",
    "f1 = np.mean(cross_val_score(cat_model,features_train_bert, target_train_bert,cv=5,scoring='f1'))\n",
    "print('F1:', f1)\n",
    "\n",
    "result_bert.append(f1) "
   ]
  },
  {
   "cell_type": "markdown",
   "id": "123bd51f",
   "metadata": {},
   "source": [
    "### Анализ результатов"
   ]
  },
  {
   "cell_type": "code",
   "execution_count": 224,
   "id": "29be0fee",
   "metadata": {},
   "outputs": [
    {
     "data": {
      "text/html": [
       "<div>\n",
       "<style scoped>\n",
       "    .dataframe tbody tr th:only-of-type {\n",
       "        vertical-align: middle;\n",
       "    }\n",
       "\n",
       "    .dataframe tbody tr th {\n",
       "        vertical-align: top;\n",
       "    }\n",
       "\n",
       "    .dataframe thead th {\n",
       "        text-align: right;\n",
       "    }\n",
       "</style>\n",
       "<table border=\"1\" class=\"dataframe\">\n",
       "  <thead>\n",
       "    <tr style=\"text-align: right;\">\n",
       "      <th></th>\n",
       "      <th>models</th>\n",
       "      <th>lemms_5000</th>\n",
       "      <th>clean_data</th>\n",
       "      <th>downsampling</th>\n",
       "      <th>BERT_4992</th>\n",
       "    </tr>\n",
       "  </thead>\n",
       "  <tbody>\n",
       "    <tr>\n",
       "      <th>0</th>\n",
       "      <td>constant</td>\n",
       "      <td>0.185</td>\n",
       "      <td>0.185</td>\n",
       "      <td>0.185</td>\n",
       "      <td>0.185</td>\n",
       "    </tr>\n",
       "    <tr>\n",
       "      <th>1</th>\n",
       "      <td>logistic regression</td>\n",
       "      <td>0.670</td>\n",
       "      <td>0.762</td>\n",
       "      <td>0.892</td>\n",
       "      <td>0.693</td>\n",
       "    </tr>\n",
       "    <tr>\n",
       "      <th>2</th>\n",
       "      <td>random forest</td>\n",
       "      <td>0.497</td>\n",
       "      <td>0.359</td>\n",
       "      <td>0.800</td>\n",
       "      <td>0.671</td>\n",
       "    </tr>\n",
       "    <tr>\n",
       "      <th>3</th>\n",
       "      <td>light gbm</td>\n",
       "      <td>0.518</td>\n",
       "      <td>0.761</td>\n",
       "      <td>0.888</td>\n",
       "      <td>0.672</td>\n",
       "    </tr>\n",
       "    <tr>\n",
       "      <th>4</th>\n",
       "      <td>xgboost</td>\n",
       "      <td>0.585</td>\n",
       "      <td>0.712</td>\n",
       "      <td>0.864</td>\n",
       "      <td>0.535</td>\n",
       "    </tr>\n",
       "    <tr>\n",
       "      <th>5</th>\n",
       "      <td>catboost</td>\n",
       "      <td>0.605</td>\n",
       "      <td>0.734</td>\n",
       "      <td>0.858</td>\n",
       "      <td>0.617</td>\n",
       "    </tr>\n",
       "  </tbody>\n",
       "</table>\n",
       "</div>"
      ],
      "text/plain": [
       "                models  lemms_5000  clean_data  downsampling  BERT_4992\n",
       "0             constant       0.185       0.185         0.185      0.185\n",
       "1  logistic regression       0.670       0.762         0.892      0.693\n",
       "2        random forest       0.497       0.359         0.800      0.671\n",
       "3            light gbm       0.518       0.761         0.888      0.672\n",
       "4              xgboost       0.585       0.712         0.864      0.535\n",
       "5             catboost       0.605       0.734         0.858      0.617"
      ]
     },
     "metadata": {},
     "output_type": "display_data"
    }
   ],
   "source": [
    "results = pd.DataFrame({'models':['constant','logistic regression', 'random forest', 'light gbm', 'xgboost','catboost'],\n",
    "                       'lemms_5000' : result_lemms,\n",
    "                       'clean_data' : result_clean,\n",
    "                       'downsampling' : result_downsample,\n",
    "                       'BERT_4992':result_bert,\n",
    "                        })\n",
    "display(results)"
   ]
  },
  {
   "cell_type": "markdown",
   "id": "cdcc61ed",
   "metadata": {},
   "source": [
    "Лучший результат на всех видах данных показала логистическая регрессия.  \n",
    "Самый лучший результат: на данных с downsampling, далее - на общей выборке  с очищенными данными.  \n",
    "Скорее всего, при увеличении размера сэмплов до 30-50 тыс. строк лемматизированные данные показали бы результат лучше, но это требует больших высичлительых мощностей.  \n",
    "Протестируем результаты работы логистической регрессии на всех видах данных на лучших гиперпараметрах,  т.к.во всех случаях возможно переобучения модели."
   ]
  },
  {
   "cell_type": "markdown",
   "id": "055f2eb3",
   "metadata": {},
   "source": [
    "## Тестирование лучшей модели"
   ]
  },
  {
   "cell_type": "code",
   "execution_count": 249,
   "id": "64826878",
   "metadata": {},
   "outputs": [
    {
     "name": "stdout",
     "output_type": "stream",
     "text": [
      "f1 на тестовых данных с лемматизацией: 0.6244343891402715\n",
      "Wall time: 1.06 s\n"
     ]
    }
   ],
   "source": [
    "%%time\n",
    "# модель для сокращенного лемматизированного набора данных\n",
    "result_test = []\n",
    "model = LogisticRegression(class_weight = 'balanced',n_jobs=4, random_state=42,C=13,penalty='l2')\n",
    "model.fit(features_train, target_train)\n",
    "f1 = f1_score(target_test, model.predict(features_test))\n",
    "print('f1 на тестовых данных с лемматизацией:',f1)\n",
    "result_test.append(f1)"
   ]
  },
  {
   "cell_type": "code",
   "execution_count": 250,
   "id": "d7cc4419",
   "metadata": {},
   "outputs": [
    {
     "name": "stdout",
     "output_type": "stream",
     "text": [
      "f1 на очищенных данных: 0.7562715199212986\n",
      "Wall time: 4.24 s\n"
     ]
    }
   ],
   "source": [
    "%%time\n",
    "# модель для очищенного набора данных\n",
    "\n",
    "model = LogisticRegression(class_weight = 'balanced',n_jobs=4, random_state=42,C=13,penalty='l2')\n",
    "model.fit(features_train_clean, target_train_clean)\n",
    "f1 = f1_score(target_test_clean, model.predict(features_test_clean))\n",
    "print('f1 на очищенных данных:',f1)\n",
    "result_test.append(f1)"
   ]
  },
  {
   "cell_type": "code",
   "execution_count": 251,
   "id": "03c34683",
   "metadata": {},
   "outputs": [
    {
     "name": "stdout",
     "output_type": "stream",
     "text": [
      "f1 на downsampling: 0.6588938714499253\n",
      "Wall time: 1.82 s\n"
     ]
    }
   ],
   "source": [
    "%%time\n",
    "# модель для downsampling\n",
    "\n",
    "model = LogisticRegression(class_weight = 'balanced',n_jobs=4, random_state=42,C=12,penalty='l2')\n",
    "model.fit(features_train_downsample, target_train_downsample)\n",
    "f1 = f1_score(target_test_downsample, model.predict(features_test_downsample))\n",
    "print('f1 на downsampling:',f1)\n",
    "result_test.append(f1)"
   ]
  },
  {
   "cell_type": "code",
   "execution_count": 254,
   "id": "298188de",
   "metadata": {},
   "outputs": [
    {
     "name": "stdout",
     "output_type": "stream",
     "text": [
      "f1 на обработке BERT: 0.6789667896678967\n",
      "Wall time: 4.32 s\n"
     ]
    }
   ],
   "source": [
    "%%time\n",
    "# модель для обработке BERT\n",
    "\n",
    "model = LogisticRegression(class_weight = 'balanced',n_jobs=4, random_state=42,C=4,penalty='l2')\n",
    "model.fit(features_train_bert, target_train_bert)\n",
    "f1 = f1_score(target_test_bert, model.predict(features_test_bert))\n",
    "print('f1 на обработке BERT:',f1)\n",
    "result_test.append(f1)"
   ]
  },
  {
   "cell_type": "code",
   "execution_count": 255,
   "id": "4b13fc32",
   "metadata": {},
   "outputs": [
    {
     "data": {
      "text/html": [
       "<div>\n",
       "<style scoped>\n",
       "    .dataframe tbody tr th:only-of-type {\n",
       "        vertical-align: middle;\n",
       "    }\n",
       "\n",
       "    .dataframe tbody tr th {\n",
       "        vertical-align: top;\n",
       "    }\n",
       "\n",
       "    .dataframe thead th {\n",
       "        text-align: right;\n",
       "    }\n",
       "</style>\n",
       "<table border=\"1\" class=\"dataframe\">\n",
       "  <thead>\n",
       "    <tr style=\"text-align: right;\">\n",
       "      <th></th>\n",
       "      <th>parametrs</th>\n",
       "      <th>f1 test</th>\n",
       "    </tr>\n",
       "  </thead>\n",
       "  <tbody>\n",
       "    <tr>\n",
       "      <th>0</th>\n",
       "      <td>lemms_5000</td>\n",
       "      <td>0.624</td>\n",
       "    </tr>\n",
       "    <tr>\n",
       "      <th>1</th>\n",
       "      <td>clean_data</td>\n",
       "      <td>0.756</td>\n",
       "    </tr>\n",
       "    <tr>\n",
       "      <th>2</th>\n",
       "      <td>downsampling</td>\n",
       "      <td>0.659</td>\n",
       "    </tr>\n",
       "    <tr>\n",
       "      <th>3</th>\n",
       "      <td>BERT_4992</td>\n",
       "      <td>0.679</td>\n",
       "    </tr>\n",
       "  </tbody>\n",
       "</table>\n",
       "</div>"
      ],
      "text/plain": [
       "      parametrs  f1 test\n",
       "0    lemms_5000    0.624\n",
       "1    clean_data    0.756\n",
       "2  downsampling    0.659\n",
       "3     BERT_4992    0.679"
      ]
     },
     "metadata": {},
     "output_type": "display_data"
    }
   ],
   "source": [
    "results_test = pd.DataFrame({'parametrs':['lemms_5000','clean_data', 'downsampling', 'BERT_4992'],\n",
    "                       'f1 test' : result_test})\n",
    "\n",
    "display(results_test)"
   ]
  },
  {
   "cell_type": "markdown",
   "id": "c854285a",
   "metadata": {},
   "source": [
    "Таким образом, модель показывает лучший результат на полном датасете с очищенными, но не лемматизированными данными данными с веторизацией по алгоритму TF IDF, и этот результат немного лучше требуемого (0,75).  \n",
    "В качестве борьбы с дисбалансом классов лучше всего показывает себя применение гиперпараметра class_weight при обучении моделей. При обучении на данных с downsampling метрика на тестовой выборке получается ниже требуемой."
   ]
  },
  {
   "cell_type": "markdown",
   "id": "24ce6809",
   "metadata": {},
   "source": [
    "## Общий вывод"
   ]
  },
  {
   "cell_type": "markdown",
   "id": "9db9be4d",
   "metadata": {},
   "source": [
    "В ходе исследования модели были обучены на данных, подготовленных разными способами:\n",
    "1. Очищенные и лемматизированные данные (на сэмпле из 5000 строк) с векторизацией с помощью алгоритма TF IDF.  \n",
    "2. Только очищенные данные (на полном датасете) с векторизацией с помощью алгоритма TF IDF.  \n",
    "3. Данные, сбалансированные методом downsampling (для корректировки дисбаланса классов), с векторизацией с помощью алгоритма TF IDF.\n",
    "4. Только очищенные данные (на сэмпле из 5000 строк) с векторизацией с помощью предобученной модели BERT.\n",
    " \n",
    "В связи с долгим временем обработки часть исследования (лемматизация, обработка данных моделью BERT) проведена только на сэмплах из 5000 строк.  \n",
    "\n",
    "В процессе был обучен ряд моделей машинного обучения по следующим алгоритмам: логистическая регрессия, случайный лес, бустинг (light GBM, XGBoost, CatBoost).  \n",
    "На всех видах данных лучший результат показала логистическая регрессия, лучшая метрика - на полных очищенных данных.  \n",
    "Скорее всего при обработке данных моделью BERT на подных данных можно было бы получить метрику лучше, но это требует либо большего времени, либо больших вычислительных мощностей.  \n",
    "На данном этапе необходимо определиться, что важнее: скорость обработки данных и обучения или точность модели."
   ]
  }
 ],
 "metadata": {
  "ExecuteTimeLog": [
   {
    "duration": 11802,
    "start_time": "2022-07-25T18:02:01.654Z"
   },
   {
    "duration": 109,
    "start_time": "2022-07-25T18:02:32.897Z"
   },
   {
    "duration": 4170,
    "start_time": "2022-07-25T18:02:36.045Z"
   },
   {
    "duration": 109,
    "start_time": "2022-07-25T18:02:44.146Z"
   },
   {
    "duration": 110807,
    "start_time": "2022-07-25T18:02:47.365Z"
   },
   {
    "duration": 6528,
    "start_time": "2022-07-25T18:05:49.991Z"
   },
   {
    "duration": 1845,
    "start_time": "2022-07-25T18:06:17.147Z"
   },
   {
    "duration": 5,
    "start_time": "2022-07-25T18:12:34.844Z"
   },
   {
    "duration": 3,
    "start_time": "2022-07-25T18:12:35.385Z"
   }
  ],
  "kernelspec": {
   "display_name": "Python 3 (ipykernel)",
   "language": "python",
   "name": "python3"
  },
  "language_info": {
   "codemirror_mode": {
    "name": "ipython",
    "version": 3
   },
   "file_extension": ".py",
   "mimetype": "text/x-python",
   "name": "python",
   "nbconvert_exporter": "python",
   "pygments_lexer": "ipython3",
   "version": "3.9.7"
  },
  "toc": {
   "base_numbering": 1,
   "nav_menu": {},
   "number_sections": true,
   "sideBar": true,
   "skip_h1_title": true,
   "title_cell": "Table of Contents",
   "title_sidebar": "Contents",
   "toc_cell": true,
   "toc_position": {
    "height": "calc(100% - 180px)",
    "left": "10px",
    "top": "150px",
    "width": "292.808px"
   },
   "toc_section_display": true,
   "toc_window_display": true
  }
 },
 "nbformat": 4,
 "nbformat_minor": 5
}
